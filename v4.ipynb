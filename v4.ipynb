{
 "cells": [
  {
   "cell_type": "code",
   "execution_count": 1,
   "metadata": {},
   "outputs": [
    {
     "name": "stderr",
     "output_type": "stream",
     "text": [
      "2024-04-03 18:37:24.350678: I tensorflow/core/util/port.cc:113] oneDNN custom operations are on. You may see slightly different numerical results due to floating-point round-off errors from different computation orders. To turn them off, set the environment variable `TF_ENABLE_ONEDNN_OPTS=0`.\n",
      "2024-04-03 18:37:24.727953: E external/local_xla/xla/stream_executor/cuda/cuda_dnn.cc:9261] Unable to register cuDNN factory: Attempting to register factory for plugin cuDNN when one has already been registered\n",
      "2024-04-03 18:37:24.728095: E external/local_xla/xla/stream_executor/cuda/cuda_fft.cc:607] Unable to register cuFFT factory: Attempting to register factory for plugin cuFFT when one has already been registered\n",
      "2024-04-03 18:37:24.773970: E external/local_xla/xla/stream_executor/cuda/cuda_blas.cc:1515] Unable to register cuBLAS factory: Attempting to register factory for plugin cuBLAS when one has already been registered\n",
      "2024-04-03 18:37:24.905332: I tensorflow/core/platform/cpu_feature_guard.cc:182] This TensorFlow binary is optimized to use available CPU instructions in performance-critical operations.\n",
      "To enable the following instructions: AVX2 AVX_VNNI FMA, in other operations, rebuild TensorFlow with the appropriate compiler flags.\n",
      "2024-04-03 18:37:27.460382: W tensorflow/compiler/tf2tensorrt/utils/py_utils.cc:38] TF-TRT Warning: Could not find TensorRT\n"
     ]
    }
   ],
   "source": [
    "import numpy as np\n",
    "import tensorflow as tf\n",
    "from keras.models import Sequential\n",
    "from keras.layers import Dense, Conv2D, MaxPooling2D, Flatten, Dropout, BatchNormalization\n",
    "from keras.losses import categorical_crossentropy\n",
    "from keras.optimizers import Adam\n",
    "import keras\n",
    "\n",
    "from settings import *\n",
    "\n",
    "from utils.general import clean_session, plot_model, split_dataset, scale_dataset, shape_dataset, print_dataset_info\n",
    "from utils.models.ocr import save_model"
   ]
  },
  {
   "cell_type": "code",
   "execution_count": 2,
   "metadata": {},
   "outputs": [],
   "source": [
    "import Datasets.OCR.CNN_Letters.loader as CNN_Letters\n",
    "import Datasets.OCR.manual.loader as manual\n",
    "import Datasets.OCR.EnglishFnt.loader as EnglishFnt"
   ]
  },
  {
   "cell_type": "code",
   "execution_count": 3,
   "metadata": {},
   "outputs": [],
   "source": [
    "# clean_session()"
   ]
  },
  {
   "cell_type": "code",
   "execution_count": 4,
   "metadata": {},
   "outputs": [],
   "source": [
    "def create_model():\n",
    "    model = Sequential()\n",
    "\n",
    "    # CNN\n",
    "    model.add(Conv2D(32, kernel_size=(3, 3), activation='relu',input_shape=INPUT_SHAPE))\n",
    "    model.add(BatchNormalization())\n",
    "    model.add(Conv2D(64, kernel_size=(3, 3), activation='relu'))\n",
    "    model.add(Conv2D(128, kernel_size=(3, 3), activation='relu'))\n",
    "\n",
    "    # Pooling\n",
    "    model.add(MaxPooling2D(pool_size=(2, 2), strides=2, padding='same'))\n",
    "\n",
    "    # Drop some data points randomly (mainly for caligraphy reasons)\n",
    "    model.add(Dropout(0.25))\n",
    "\n",
    "    # Flattening before feeding to FCNN\n",
    "    model.add(Flatten())\n",
    "\n",
    "    # FCNN\n",
    "    # use softmax since we are doing classification (1 node for each possible output)\n",
    "    model.add(Dense(128, activation='relu'))\n",
    "    model.add(Dense(64, activation='relu'))\n",
    "    # model.add(Dropout(0.3))\n",
    "    model.add(Dense(len(COMBINED_CHARS), activation='softmax'))\n",
    "\n",
    "    model.summary()\n",
    "\n",
    "    return model"
   ]
  },
  {
   "cell_type": "code",
   "execution_count": 5,
   "metadata": {},
   "outputs": [],
   "source": [
    "def train_model(model, learning_rate, batch_size, epochs, patience):\n",
    "    optimizer = Adam(learning_rate=learning_rate)\n",
    "    model.compile(loss=categorical_crossentropy, optimizer=optimizer, metrics=['accuracy'])\n",
    "\n",
    "    callbacks = [keras.callbacks.EarlyStopping(monitor='val_loss', patience=patience, restore_best_weights=True, verbose=1)]\n",
    "\n",
    "    CX_data, CY_data = CNN_Letters.load_dataset()\n",
    "    EX_data, EY_data = EnglishFnt.load_dataset(include_fonts=ENGLISH_FNT_FONTS)\n",
    "    MX_data, MY_data = manual.load_dataset()\n",
    "    X_data = np.concatenate((CX_data, MX_data, EX_data))\n",
    "    Y_data = np.concatenate((CY_data, MY_data, EY_data))\n",
    "\n",
    "    X_train, X_test, Y_train, Y_test = split_dataset(X_data, Y_data, test_percent=TEST_PERCENT, random_state=RANDOM_STATE, shuffle=True)\n",
    "    X_train, X_test = shape_dataset(X_train, X_test, input_shape=INPUT_SHAPE)\n",
    "    X_train, X_test = scale_dataset(X_train, X_test, batch_size=batch_size)\n",
    "\n",
    "    print_dataset_info(X_data, X_train, Y_train, X_test, Y_test)\n",
    "\n",
    "    history = model.fit(X_train, Y_train, batch_size=batch_size, epochs=epochs, validation_split=VALIDATION_PERCENT, callbacks=callbacks)\n",
    "\n",
    "    return history"
   ]
  },
  {
   "cell_type": "code",
   "execution_count": 6,
   "metadata": {},
   "outputs": [
    {
     "name": "stderr",
     "output_type": "stream",
     "text": [
      "2024-04-03 18:37:32.100964: I external/local_xla/xla/stream_executor/cuda/cuda_executor.cc:901] successful NUMA node read from SysFS had negative value (-1), but there must be at least one NUMA node, so returning NUMA node zero. See more at https://github.com/torvalds/linux/blob/v6.0/Documentation/ABI/testing/sysfs-bus-pci#L344-L355\n",
      "2024-04-03 18:37:32.291484: I external/local_xla/xla/stream_executor/cuda/cuda_executor.cc:901] successful NUMA node read from SysFS had negative value (-1), but there must be at least one NUMA node, so returning NUMA node zero. See more at https://github.com/torvalds/linux/blob/v6.0/Documentation/ABI/testing/sysfs-bus-pci#L344-L355\n",
      "2024-04-03 18:37:32.292165: I external/local_xla/xla/stream_executor/cuda/cuda_executor.cc:901] successful NUMA node read from SysFS had negative value (-1), but there must be at least one NUMA node, so returning NUMA node zero. See more at https://github.com/torvalds/linux/blob/v6.0/Documentation/ABI/testing/sysfs-bus-pci#L344-L355\n",
      "2024-04-03 18:37:32.294835: I external/local_xla/xla/stream_executor/cuda/cuda_executor.cc:901] successful NUMA node read from SysFS had negative value (-1), but there must be at least one NUMA node, so returning NUMA node zero. See more at https://github.com/torvalds/linux/blob/v6.0/Documentation/ABI/testing/sysfs-bus-pci#L344-L355\n",
      "2024-04-03 18:37:32.295282: I external/local_xla/xla/stream_executor/cuda/cuda_executor.cc:901] successful NUMA node read from SysFS had negative value (-1), but there must be at least one NUMA node, so returning NUMA node zero. See more at https://github.com/torvalds/linux/blob/v6.0/Documentation/ABI/testing/sysfs-bus-pci#L344-L355\n",
      "2024-04-03 18:37:32.295572: I external/local_xla/xla/stream_executor/cuda/cuda_executor.cc:901] successful NUMA node read from SysFS had negative value (-1), but there must be at least one NUMA node, so returning NUMA node zero. See more at https://github.com/torvalds/linux/blob/v6.0/Documentation/ABI/testing/sysfs-bus-pci#L344-L355\n",
      "2024-04-03 18:37:32.399916: I external/local_xla/xla/stream_executor/cuda/cuda_executor.cc:901] successful NUMA node read from SysFS had negative value (-1), but there must be at least one NUMA node, so returning NUMA node zero. See more at https://github.com/torvalds/linux/blob/v6.0/Documentation/ABI/testing/sysfs-bus-pci#L344-L355\n",
      "2024-04-03 18:37:32.400287: I external/local_xla/xla/stream_executor/cuda/cuda_executor.cc:901] successful NUMA node read from SysFS had negative value (-1), but there must be at least one NUMA node, so returning NUMA node zero. See more at https://github.com/torvalds/linux/blob/v6.0/Documentation/ABI/testing/sysfs-bus-pci#L344-L355\n",
      "2024-04-03 18:37:32.400539: I external/local_xla/xla/stream_executor/cuda/cuda_executor.cc:901] successful NUMA node read from SysFS had negative value (-1), but there must be at least one NUMA node, so returning NUMA node zero. See more at https://github.com/torvalds/linux/blob/v6.0/Documentation/ABI/testing/sysfs-bus-pci#L344-L355\n",
      "2024-04-03 18:37:32.400730: I tensorflow/core/common_runtime/gpu/gpu_device.cc:1929] Created device /job:localhost/replica:0/task:0/device:GPU:0 with 2051 MB memory:  -> device: 0, name: NVIDIA GeForce RTX 3050 Ti Laptop GPU, pci bus id: 0000:01:00.0, compute capability: 8.6\n"
     ]
    },
    {
     "name": "stdout",
     "output_type": "stream",
     "text": [
      "Model: \"sequential\"\n",
      "_________________________________________________________________\n",
      " Layer (type)                Output Shape              Param #   \n",
      "=================================================================\n",
      " conv2d (Conv2D)             (None, 98, 48, 32)        320       \n",
      "                                                                 \n",
      " batch_normalization (Batch  (None, 98, 48, 32)        128       \n",
      " Normalization)                                                  \n",
      "                                                                 \n",
      " conv2d_1 (Conv2D)           (None, 96, 46, 64)        18496     \n",
      "                                                                 \n",
      " conv2d_2 (Conv2D)           (None, 94, 44, 128)       73856     \n",
      "                                                                 \n",
      " max_pooling2d (MaxPooling2  (None, 47, 22, 128)       0         \n",
      " D)                                                              \n",
      "                                                                 \n",
      " dropout (Dropout)           (None, 47, 22, 128)       0         \n",
      "                                                                 \n",
      " flatten (Flatten)           (None, 132352)            0         \n",
      "                                                                 \n",
      " dense (Dense)               (None, 128)               16941184  \n",
      "                                                                 \n",
      " dense_1 (Dense)             (None, 64)                8256      \n",
      "                                                                 \n",
      " dense_2 (Dense)             (None, 35)                2275      \n",
      "                                                                 \n",
      "=================================================================\n",
      "Total params: 17044515 (65.02 MB)\n",
      "Trainable params: 17044451 (65.02 MB)\n",
      "Non-trainable params: 64 (256.00 Byte)\n",
      "_________________________________________________________________\n"
     ]
    },
    {
     "data": {
      "application/vnd.jupyter.widget-view+json": {
       "model_id": "5e72ef3657534a7b82cc29bbca004157",
       "version_major": 2,
       "version_minor": 0
      },
      "text/plain": [
       "Loading CNN_Letters:   0%|          | 0/35 [00:00<?, ?it/s]"
      ]
     },
     "metadata": {},
     "output_type": "display_data"
    },
    {
     "data": {
      "application/vnd.jupyter.widget-view+json": {
       "model_id": "aaa69bf2b5b84a8db2daa75d4530a51f",
       "version_major": 2,
       "version_minor": 0
      },
      "text/plain": [
       "Loading 0:   0%|          | 0/1030 [00:00<?, ?it/s]"
      ]
     },
     "metadata": {},
     "output_type": "display_data"
    },
    {
     "data": {
      "application/vnd.jupyter.widget-view+json": {
       "model_id": "7ef55100dcff40db8c92aefd2807ef6a",
       "version_major": 2,
       "version_minor": 0
      },
      "text/plain": [
       "Loading 1:   0%|          | 0/1030 [00:00<?, ?it/s]"
      ]
     },
     "metadata": {},
     "output_type": "display_data"
    },
    {
     "data": {
      "application/vnd.jupyter.widget-view+json": {
       "model_id": "3ca6161a5d9a4939b0633e8203bb3ff0",
       "version_major": 2,
       "version_minor": 0
      },
      "text/plain": [
       "Loading 2:   0%|          | 0/1030 [00:00<?, ?it/s]"
      ]
     },
     "metadata": {},
     "output_type": "display_data"
    },
    {
     "data": {
      "application/vnd.jupyter.widget-view+json": {
       "model_id": "42cb60500ea24e77afa4c7cd3a231c0c",
       "version_major": 2,
       "version_minor": 0
      },
      "text/plain": [
       "Loading 3:   0%|          | 0/1030 [00:00<?, ?it/s]"
      ]
     },
     "metadata": {},
     "output_type": "display_data"
    },
    {
     "data": {
      "application/vnd.jupyter.widget-view+json": {
       "model_id": "1220120646ff458e8a080f7d93851375",
       "version_major": 2,
       "version_minor": 0
      },
      "text/plain": [
       "Loading 4:   0%|          | 0/1030 [00:00<?, ?it/s]"
      ]
     },
     "metadata": {},
     "output_type": "display_data"
    },
    {
     "data": {
      "application/vnd.jupyter.widget-view+json": {
       "model_id": "dd79db2434af44409ff9fe3bc076bd04",
       "version_major": 2,
       "version_minor": 0
      },
      "text/plain": [
       "Loading 5:   0%|          | 0/1030 [00:00<?, ?it/s]"
      ]
     },
     "metadata": {},
     "output_type": "display_data"
    },
    {
     "data": {
      "application/vnd.jupyter.widget-view+json": {
       "model_id": "f57dc69fcf7e4d989e0592e8734f18c9",
       "version_major": 2,
       "version_minor": 0
      },
      "text/plain": [
       "Loading 6:   0%|          | 0/1030 [00:00<?, ?it/s]"
      ]
     },
     "metadata": {},
     "output_type": "display_data"
    },
    {
     "data": {
      "application/vnd.jupyter.widget-view+json": {
       "model_id": "24cc1087cbc641ec8b617507902943df",
       "version_major": 2,
       "version_minor": 0
      },
      "text/plain": [
       "Loading 7:   0%|          | 0/1030 [00:00<?, ?it/s]"
      ]
     },
     "metadata": {},
     "output_type": "display_data"
    },
    {
     "data": {
      "application/vnd.jupyter.widget-view+json": {
       "model_id": "783e2ad724e349fcb85b3e64c490d2a0",
       "version_major": 2,
       "version_minor": 0
      },
      "text/plain": [
       "Loading 8:   0%|          | 0/1030 [00:00<?, ?it/s]"
      ]
     },
     "metadata": {},
     "output_type": "display_data"
    },
    {
     "data": {
      "application/vnd.jupyter.widget-view+json": {
       "model_id": "f679268baf224a05a3465fb304769363",
       "version_major": 2,
       "version_minor": 0
      },
      "text/plain": [
       "Loading 9:   0%|          | 0/1030 [00:00<?, ?it/s]"
      ]
     },
     "metadata": {},
     "output_type": "display_data"
    },
    {
     "data": {
      "application/vnd.jupyter.widget-view+json": {
       "model_id": "16b3a299abc64d3e849ba932e2bf3d7b",
       "version_major": 2,
       "version_minor": 0
      },
      "text/plain": [
       "Loading A:   0%|          | 0/1010 [00:00<?, ?it/s]"
      ]
     },
     "metadata": {},
     "output_type": "display_data"
    },
    {
     "data": {
      "application/vnd.jupyter.widget-view+json": {
       "model_id": "4b4de8992fa0400080eb1df9050fcb09",
       "version_major": 2,
       "version_minor": 0
      },
      "text/plain": [
       "Loading B:   0%|          | 0/1030 [00:00<?, ?it/s]"
      ]
     },
     "metadata": {},
     "output_type": "display_data"
    },
    {
     "data": {
      "application/vnd.jupyter.widget-view+json": {
       "model_id": "905acdfa96864c008d4b977cf88ff422",
       "version_major": 2,
       "version_minor": 0
      },
      "text/plain": [
       "Loading C:   0%|          | 0/1020 [00:00<?, ?it/s]"
      ]
     },
     "metadata": {},
     "output_type": "display_data"
    },
    {
     "data": {
      "application/vnd.jupyter.widget-view+json": {
       "model_id": "cbba04566ec847b0bfb66d936666a9f0",
       "version_major": 2,
       "version_minor": 0
      },
      "text/plain": [
       "Loading D:   0%|          | 0/1010 [00:00<?, ?it/s]"
      ]
     },
     "metadata": {},
     "output_type": "display_data"
    },
    {
     "data": {
      "application/vnd.jupyter.widget-view+json": {
       "model_id": "76d288f369df4b738c550d0d682b808b",
       "version_major": 2,
       "version_minor": 0
      },
      "text/plain": [
       "Loading E:   0%|          | 0/1010 [00:00<?, ?it/s]"
      ]
     },
     "metadata": {},
     "output_type": "display_data"
    },
    {
     "data": {
      "application/vnd.jupyter.widget-view+json": {
       "model_id": "d2d1bc8fb8e14276bb0df74f13974116",
       "version_major": 2,
       "version_minor": 0
      },
      "text/plain": [
       "Loading F:   0%|          | 0/1020 [00:00<?, ?it/s]"
      ]
     },
     "metadata": {},
     "output_type": "display_data"
    },
    {
     "data": {
      "application/vnd.jupyter.widget-view+json": {
       "model_id": "187cf8f3f3b34c10b59ca6d040cc7389",
       "version_major": 2,
       "version_minor": 0
      },
      "text/plain": [
       "Loading G:   0%|          | 0/1020 [00:00<?, ?it/s]"
      ]
     },
     "metadata": {},
     "output_type": "display_data"
    },
    {
     "data": {
      "application/vnd.jupyter.widget-view+json": {
       "model_id": "ed3d5d3c692c409b9c8432718e29810c",
       "version_major": 2,
       "version_minor": 0
      },
      "text/plain": [
       "Loading H:   0%|          | 0/1020 [00:00<?, ?it/s]"
      ]
     },
     "metadata": {},
     "output_type": "display_data"
    },
    {
     "data": {
      "application/vnd.jupyter.widget-view+json": {
       "model_id": "d687b51ad279456285a4da36ad15b040",
       "version_major": 2,
       "version_minor": 0
      },
      "text/plain": [
       "Loading I:   0%|          | 0/1010 [00:00<?, ?it/s]"
      ]
     },
     "metadata": {},
     "output_type": "display_data"
    },
    {
     "data": {
      "application/vnd.jupyter.widget-view+json": {
       "model_id": "452dca6a44584d28b7bc7ee89de278a6",
       "version_major": 2,
       "version_minor": 0
      },
      "text/plain": [
       "Loading J:   0%|          | 0/1030 [00:00<?, ?it/s]"
      ]
     },
     "metadata": {},
     "output_type": "display_data"
    },
    {
     "data": {
      "application/vnd.jupyter.widget-view+json": {
       "model_id": "6d889e122e5343f18e4e0d15b501cde2",
       "version_major": 2,
       "version_minor": 0
      },
      "text/plain": [
       "Loading K:   0%|          | 0/1010 [00:00<?, ?it/s]"
      ]
     },
     "metadata": {},
     "output_type": "display_data"
    },
    {
     "data": {
      "application/vnd.jupyter.widget-view+json": {
       "model_id": "cc92f88aeb2f40589d8d9b7cbade6d4e",
       "version_major": 2,
       "version_minor": 0
      },
      "text/plain": [
       "Loading L:   0%|          | 0/1010 [00:00<?, ?it/s]"
      ]
     },
     "metadata": {},
     "output_type": "display_data"
    },
    {
     "data": {
      "application/vnd.jupyter.widget-view+json": {
       "model_id": "bb0798a81a334b5092f467bf3ab7ac71",
       "version_major": 2,
       "version_minor": 0
      },
      "text/plain": [
       "Loading M:   0%|          | 0/1020 [00:00<?, ?it/s]"
      ]
     },
     "metadata": {},
     "output_type": "display_data"
    },
    {
     "data": {
      "application/vnd.jupyter.widget-view+json": {
       "model_id": "190f12a511a345e2adb102435f0566c6",
       "version_major": 2,
       "version_minor": 0
      },
      "text/plain": [
       "Loading N:   0%|          | 0/1020 [00:00<?, ?it/s]"
      ]
     },
     "metadata": {},
     "output_type": "display_data"
    },
    {
     "data": {
      "application/vnd.jupyter.widget-view+json": {
       "model_id": "a9bb93e7d5734ccdb5729572a5d049df",
       "version_major": 2,
       "version_minor": 0
      },
      "text/plain": [
       "Loading P:   0%|          | 0/1010 [00:00<?, ?it/s]"
      ]
     },
     "metadata": {},
     "output_type": "display_data"
    },
    {
     "data": {
      "application/vnd.jupyter.widget-view+json": {
       "model_id": "448f1e9ea36c45cf9b56de93b3d1cc81",
       "version_major": 2,
       "version_minor": 0
      },
      "text/plain": [
       "Loading Q:   0%|          | 0/1010 [00:00<?, ?it/s]"
      ]
     },
     "metadata": {},
     "output_type": "display_data"
    },
    {
     "data": {
      "application/vnd.jupyter.widget-view+json": {
       "model_id": "bcfb6a3ed6ef45b780eee6554f6a7176",
       "version_major": 2,
       "version_minor": 0
      },
      "text/plain": [
       "Loading R:   0%|          | 0/1020 [00:00<?, ?it/s]"
      ]
     },
     "metadata": {},
     "output_type": "display_data"
    },
    {
     "data": {
      "application/vnd.jupyter.widget-view+json": {
       "model_id": "77d5f25f08144542a8ff28453dab8034",
       "version_major": 2,
       "version_minor": 0
      },
      "text/plain": [
       "Loading S:   0%|          | 0/1020 [00:00<?, ?it/s]"
      ]
     },
     "metadata": {},
     "output_type": "display_data"
    },
    {
     "data": {
      "application/vnd.jupyter.widget-view+json": {
       "model_id": "5ad1ebff813b401f9725c6d17df9dd0c",
       "version_major": 2,
       "version_minor": 0
      },
      "text/plain": [
       "Loading T:   0%|          | 0/1020 [00:00<?, ?it/s]"
      ]
     },
     "metadata": {},
     "output_type": "display_data"
    },
    {
     "data": {
      "application/vnd.jupyter.widget-view+json": {
       "model_id": "0ee92b76b99f49fdb87cbc739442fe9e",
       "version_major": 2,
       "version_minor": 0
      },
      "text/plain": [
       "Loading U:   0%|          | 0/1010 [00:00<?, ?it/s]"
      ]
     },
     "metadata": {},
     "output_type": "display_data"
    },
    {
     "data": {
      "application/vnd.jupyter.widget-view+json": {
       "model_id": "eae69894769f4db2adce326af6116a77",
       "version_major": 2,
       "version_minor": 0
      },
      "text/plain": [
       "Loading V:   0%|          | 0/1030 [00:00<?, ?it/s]"
      ]
     },
     "metadata": {},
     "output_type": "display_data"
    },
    {
     "data": {
      "application/vnd.jupyter.widget-view+json": {
       "model_id": "e54971c5c513478f821c5cadf6aef81c",
       "version_major": 2,
       "version_minor": 0
      },
      "text/plain": [
       "Loading W:   0%|          | 0/1010 [00:00<?, ?it/s]"
      ]
     },
     "metadata": {},
     "output_type": "display_data"
    },
    {
     "data": {
      "application/vnd.jupyter.widget-view+json": {
       "model_id": "3f6eb65f12b74079b7388c156ec6eb04",
       "version_major": 2,
       "version_minor": 0
      },
      "text/plain": [
       "Loading X:   0%|          | 0/1010 [00:00<?, ?it/s]"
      ]
     },
     "metadata": {},
     "output_type": "display_data"
    },
    {
     "data": {
      "application/vnd.jupyter.widget-view+json": {
       "model_id": "c0fd5c250dbc44e4902eb266677de07f",
       "version_major": 2,
       "version_minor": 0
      },
      "text/plain": [
       "Loading Y:   0%|          | 0/1010 [00:00<?, ?it/s]"
      ]
     },
     "metadata": {},
     "output_type": "display_data"
    },
    {
     "data": {
      "application/vnd.jupyter.widget-view+json": {
       "model_id": "63c6b6a9e0804cabbaf3c95de5f25a34",
       "version_major": 2,
       "version_minor": 0
      },
      "text/plain": [
       "Loading Z:   0%|          | 0/810 [00:00<?, ?it/s]"
      ]
     },
     "metadata": {},
     "output_type": "display_data"
    },
    {
     "data": {
      "application/vnd.jupyter.widget-view+json": {
       "model_id": "2572d8de3b1d46b099b4b4cc324a46b0",
       "version_major": 2,
       "version_minor": 0
      },
      "text/plain": [
       "Loading EnglishFnt:   0%|          | 0/35 [00:00<?, ?it/s]"
      ]
     },
     "metadata": {},
     "output_type": "display_data"
    },
    {
     "data": {
      "application/vnd.jupyter.widget-view+json": {
       "model_id": "e508b232ee854a64b393b215fe2a6530",
       "version_major": 2,
       "version_minor": 0
      },
      "text/plain": [
       "Loading 0:   0%|          | 0/698 [00:00<?, ?it/s]"
      ]
     },
     "metadata": {},
     "output_type": "display_data"
    },
    {
     "data": {
      "application/vnd.jupyter.widget-view+json": {
       "model_id": "2d072bcfd8f14a95bc4e448fb6fa53c0",
       "version_major": 2,
       "version_minor": 0
      },
      "text/plain": [
       "Loading 1:   0%|          | 0/698 [00:00<?, ?it/s]"
      ]
     },
     "metadata": {},
     "output_type": "display_data"
    },
    {
     "data": {
      "application/vnd.jupyter.widget-view+json": {
       "model_id": "7fc2c481e8ba4b83a52c01ee5df752ba",
       "version_major": 2,
       "version_minor": 0
      },
      "text/plain": [
       "Loading 2:   0%|          | 0/698 [00:00<?, ?it/s]"
      ]
     },
     "metadata": {},
     "output_type": "display_data"
    },
    {
     "data": {
      "application/vnd.jupyter.widget-view+json": {
       "model_id": "6c65b59e0bf14d8182c6053293ace849",
       "version_major": 2,
       "version_minor": 0
      },
      "text/plain": [
       "Loading 3:   0%|          | 0/698 [00:00<?, ?it/s]"
      ]
     },
     "metadata": {},
     "output_type": "display_data"
    },
    {
     "data": {
      "application/vnd.jupyter.widget-view+json": {
       "model_id": "a6f428daf74b430db2ec74d1ea5ba7ce",
       "version_major": 2,
       "version_minor": 0
      },
      "text/plain": [
       "Loading 4:   0%|          | 0/698 [00:00<?, ?it/s]"
      ]
     },
     "metadata": {},
     "output_type": "display_data"
    },
    {
     "data": {
      "application/vnd.jupyter.widget-view+json": {
       "model_id": "5a29b59a0dc24f43aa5c3e4d401d5dc9",
       "version_major": 2,
       "version_minor": 0
      },
      "text/plain": [
       "Loading 5:   0%|          | 0/698 [00:00<?, ?it/s]"
      ]
     },
     "metadata": {},
     "output_type": "display_data"
    },
    {
     "data": {
      "application/vnd.jupyter.widget-view+json": {
       "model_id": "1c18cff7d5ba4762b97884557fd3c21c",
       "version_major": 2,
       "version_minor": 0
      },
      "text/plain": [
       "Loading 6:   0%|          | 0/698 [00:00<?, ?it/s]"
      ]
     },
     "metadata": {},
     "output_type": "display_data"
    },
    {
     "data": {
      "application/vnd.jupyter.widget-view+json": {
       "model_id": "713f9e541f90493585303d56a1cb5552",
       "version_major": 2,
       "version_minor": 0
      },
      "text/plain": [
       "Loading 7:   0%|          | 0/698 [00:00<?, ?it/s]"
      ]
     },
     "metadata": {},
     "output_type": "display_data"
    },
    {
     "data": {
      "application/vnd.jupyter.widget-view+json": {
       "model_id": "27c2d28384074fa0bdb9f0d56f38cee4",
       "version_major": 2,
       "version_minor": 0
      },
      "text/plain": [
       "Loading 8:   0%|          | 0/698 [00:00<?, ?it/s]"
      ]
     },
     "metadata": {},
     "output_type": "display_data"
    },
    {
     "data": {
      "application/vnd.jupyter.widget-view+json": {
       "model_id": "798cc80c18aa416b9125ebb392e95db7",
       "version_major": 2,
       "version_minor": 0
      },
      "text/plain": [
       "Loading 9:   0%|          | 0/698 [00:00<?, ?it/s]"
      ]
     },
     "metadata": {},
     "output_type": "display_data"
    },
    {
     "data": {
      "application/vnd.jupyter.widget-view+json": {
       "model_id": "f0e81725f82e4245b212e40d1bdccc66",
       "version_major": 2,
       "version_minor": 0
      },
      "text/plain": [
       "Loading A:   0%|          | 0/698 [00:00<?, ?it/s]"
      ]
     },
     "metadata": {},
     "output_type": "display_data"
    },
    {
     "data": {
      "application/vnd.jupyter.widget-view+json": {
       "model_id": "0051144268974b0f90f0b219279dfd75",
       "version_major": 2,
       "version_minor": 0
      },
      "text/plain": [
       "Loading B:   0%|          | 0/698 [00:00<?, ?it/s]"
      ]
     },
     "metadata": {},
     "output_type": "display_data"
    },
    {
     "data": {
      "application/vnd.jupyter.widget-view+json": {
       "model_id": "dee84140d4394e84bab14f99b55ca828",
       "version_major": 2,
       "version_minor": 0
      },
      "text/plain": [
       "Loading C:   0%|          | 0/698 [00:00<?, ?it/s]"
      ]
     },
     "metadata": {},
     "output_type": "display_data"
    },
    {
     "data": {
      "application/vnd.jupyter.widget-view+json": {
       "model_id": "ec43ef4cf0ce40cd864df11670f53f2e",
       "version_major": 2,
       "version_minor": 0
      },
      "text/plain": [
       "Loading D:   0%|          | 0/698 [00:00<?, ?it/s]"
      ]
     },
     "metadata": {},
     "output_type": "display_data"
    },
    {
     "data": {
      "application/vnd.jupyter.widget-view+json": {
       "model_id": "1009ae36823d4fa3818a1339840d8e7f",
       "version_major": 2,
       "version_minor": 0
      },
      "text/plain": [
       "Loading E:   0%|          | 0/698 [00:00<?, ?it/s]"
      ]
     },
     "metadata": {},
     "output_type": "display_data"
    },
    {
     "data": {
      "application/vnd.jupyter.widget-view+json": {
       "model_id": "886e1695f46e4fe5b7cd5ec6410b8f9c",
       "version_major": 2,
       "version_minor": 0
      },
      "text/plain": [
       "Loading F:   0%|          | 0/698 [00:00<?, ?it/s]"
      ]
     },
     "metadata": {},
     "output_type": "display_data"
    },
    {
     "data": {
      "application/vnd.jupyter.widget-view+json": {
       "model_id": "d01e30bd93a2454b88c598a80b461778",
       "version_major": 2,
       "version_minor": 0
      },
      "text/plain": [
       "Loading G:   0%|          | 0/698 [00:00<?, ?it/s]"
      ]
     },
     "metadata": {},
     "output_type": "display_data"
    },
    {
     "data": {
      "application/vnd.jupyter.widget-view+json": {
       "model_id": "78b672997cbf4c069157029ac830c303",
       "version_major": 2,
       "version_minor": 0
      },
      "text/plain": [
       "Loading H:   0%|          | 0/698 [00:00<?, ?it/s]"
      ]
     },
     "metadata": {},
     "output_type": "display_data"
    },
    {
     "data": {
      "application/vnd.jupyter.widget-view+json": {
       "model_id": "1a97d7e2522744ee843467f72d2874c0",
       "version_major": 2,
       "version_minor": 0
      },
      "text/plain": [
       "Loading I:   0%|          | 0/698 [00:00<?, ?it/s]"
      ]
     },
     "metadata": {},
     "output_type": "display_data"
    },
    {
     "data": {
      "application/vnd.jupyter.widget-view+json": {
       "model_id": "ee7d808d886e47a48970f1f5c72b0e74",
       "version_major": 2,
       "version_minor": 0
      },
      "text/plain": [
       "Loading J:   0%|          | 0/698 [00:00<?, ?it/s]"
      ]
     },
     "metadata": {},
     "output_type": "display_data"
    },
    {
     "data": {
      "application/vnd.jupyter.widget-view+json": {
       "model_id": "637ce5bb821e4039a2838c560b00bb4e",
       "version_major": 2,
       "version_minor": 0
      },
      "text/plain": [
       "Loading K:   0%|          | 0/698 [00:00<?, ?it/s]"
      ]
     },
     "metadata": {},
     "output_type": "display_data"
    },
    {
     "data": {
      "application/vnd.jupyter.widget-view+json": {
       "model_id": "94882a40f4f0468a9b3ee2635c40c239",
       "version_major": 2,
       "version_minor": 0
      },
      "text/plain": [
       "Loading L:   0%|          | 0/698 [00:00<?, ?it/s]"
      ]
     },
     "metadata": {},
     "output_type": "display_data"
    },
    {
     "data": {
      "application/vnd.jupyter.widget-view+json": {
       "model_id": "e1cbd3c0f651495ca5a5a17b6871940f",
       "version_major": 2,
       "version_minor": 0
      },
      "text/plain": [
       "Loading M:   0%|          | 0/698 [00:00<?, ?it/s]"
      ]
     },
     "metadata": {},
     "output_type": "display_data"
    },
    {
     "data": {
      "application/vnd.jupyter.widget-view+json": {
       "model_id": "398ab44ccbfc4f1588eb0b58e800847a",
       "version_major": 2,
       "version_minor": 0
      },
      "text/plain": [
       "Loading N:   0%|          | 0/698 [00:00<?, ?it/s]"
      ]
     },
     "metadata": {},
     "output_type": "display_data"
    },
    {
     "data": {
      "application/vnd.jupyter.widget-view+json": {
       "model_id": "784b3c316bee479ab214d376dd0fbc5c",
       "version_major": 2,
       "version_minor": 0
      },
      "text/plain": [
       "Loading P:   0%|          | 0/698 [00:00<?, ?it/s]"
      ]
     },
     "metadata": {},
     "output_type": "display_data"
    },
    {
     "data": {
      "application/vnd.jupyter.widget-view+json": {
       "model_id": "007cf10ad96b4063b50c2aa709072a52",
       "version_major": 2,
       "version_minor": 0
      },
      "text/plain": [
       "Loading Q:   0%|          | 0/698 [00:00<?, ?it/s]"
      ]
     },
     "metadata": {},
     "output_type": "display_data"
    },
    {
     "data": {
      "application/vnd.jupyter.widget-view+json": {
       "model_id": "941c02ea10b74a63bd3911e4c269be3d",
       "version_major": 2,
       "version_minor": 0
      },
      "text/plain": [
       "Loading R:   0%|          | 0/698 [00:00<?, ?it/s]"
      ]
     },
     "metadata": {},
     "output_type": "display_data"
    },
    {
     "data": {
      "application/vnd.jupyter.widget-view+json": {
       "model_id": "c8ecca89c660429da798279ae3ef04ea",
       "version_major": 2,
       "version_minor": 0
      },
      "text/plain": [
       "Loading S:   0%|          | 0/698 [00:00<?, ?it/s]"
      ]
     },
     "metadata": {},
     "output_type": "display_data"
    },
    {
     "data": {
      "application/vnd.jupyter.widget-view+json": {
       "model_id": "93e571e91c94417f8bd4f8436fb1e239",
       "version_major": 2,
       "version_minor": 0
      },
      "text/plain": [
       "Loading T:   0%|          | 0/698 [00:00<?, ?it/s]"
      ]
     },
     "metadata": {},
     "output_type": "display_data"
    },
    {
     "data": {
      "application/vnd.jupyter.widget-view+json": {
       "model_id": "944e9cc44dda41d6a0ae6d8ef4780ee8",
       "version_major": 2,
       "version_minor": 0
      },
      "text/plain": [
       "Loading U:   0%|          | 0/698 [00:00<?, ?it/s]"
      ]
     },
     "metadata": {},
     "output_type": "display_data"
    },
    {
     "data": {
      "application/vnd.jupyter.widget-view+json": {
       "model_id": "b60f40fe5d114f2e96842b1f98046af6",
       "version_major": 2,
       "version_minor": 0
      },
      "text/plain": [
       "Loading V:   0%|          | 0/698 [00:00<?, ?it/s]"
      ]
     },
     "metadata": {},
     "output_type": "display_data"
    },
    {
     "data": {
      "application/vnd.jupyter.widget-view+json": {
       "model_id": "5eb9a67b91a64de88b27561f97b8faee",
       "version_major": 2,
       "version_minor": 0
      },
      "text/plain": [
       "Loading W:   0%|          | 0/698 [00:00<?, ?it/s]"
      ]
     },
     "metadata": {},
     "output_type": "display_data"
    },
    {
     "data": {
      "application/vnd.jupyter.widget-view+json": {
       "model_id": "17bc03cd9fdf48baa4ffc38e6be44cad",
       "version_major": 2,
       "version_minor": 0
      },
      "text/plain": [
       "Loading X:   0%|          | 0/698 [00:00<?, ?it/s]"
      ]
     },
     "metadata": {},
     "output_type": "display_data"
    },
    {
     "data": {
      "application/vnd.jupyter.widget-view+json": {
       "model_id": "d7d9ee7f6f6846fd9db82a268cc08ebf",
       "version_major": 2,
       "version_minor": 0
      },
      "text/plain": [
       "Loading Y:   0%|          | 0/698 [00:00<?, ?it/s]"
      ]
     },
     "metadata": {},
     "output_type": "display_data"
    },
    {
     "data": {
      "application/vnd.jupyter.widget-view+json": {
       "model_id": "f424b5bbe5f54a379026b40e9521d947",
       "version_major": 2,
       "version_minor": 0
      },
      "text/plain": [
       "Loading Z:   0%|          | 0/698 [00:00<?, ?it/s]"
      ]
     },
     "metadata": {},
     "output_type": "display_data"
    },
    {
     "data": {
      "application/vnd.jupyter.widget-view+json": {
       "model_id": "d5bb4a894c2948a1adf86e4998431043",
       "version_major": 2,
       "version_minor": 0
      },
      "text/plain": [
       "Loading manual:   0%|          | 0/35 [00:00<?, ?it/s]"
      ]
     },
     "metadata": {},
     "output_type": "display_data"
    },
    {
     "data": {
      "application/vnd.jupyter.widget-view+json": {
       "model_id": "b508614150404796a81d86c5b105e778",
       "version_major": 2,
       "version_minor": 0
      },
      "text/plain": [
       "Loading 0:   0%|          | 0/30 [00:00<?, ?it/s]"
      ]
     },
     "metadata": {},
     "output_type": "display_data"
    },
    {
     "data": {
      "application/vnd.jupyter.widget-view+json": {
       "model_id": "76b86ec16de0450cbab19d292bf3b89f",
       "version_major": 2,
       "version_minor": 0
      },
      "text/plain": [
       "Loading 1:   0%|          | 0/30 [00:00<?, ?it/s]"
      ]
     },
     "metadata": {},
     "output_type": "display_data"
    },
    {
     "data": {
      "application/vnd.jupyter.widget-view+json": {
       "model_id": "dab909a06659424fb670a796a8e855aa",
       "version_major": 2,
       "version_minor": 0
      },
      "text/plain": [
       "Loading 2:   0%|          | 0/30 [00:00<?, ?it/s]"
      ]
     },
     "metadata": {},
     "output_type": "display_data"
    },
    {
     "data": {
      "application/vnd.jupyter.widget-view+json": {
       "model_id": "32951c6c4b5b43ec9c2db88f1a0fa082",
       "version_major": 2,
       "version_minor": 0
      },
      "text/plain": [
       "Loading 3:   0%|          | 0/30 [00:00<?, ?it/s]"
      ]
     },
     "metadata": {},
     "output_type": "display_data"
    },
    {
     "data": {
      "application/vnd.jupyter.widget-view+json": {
       "model_id": "5daec7ec0beb419eac999420e21c809b",
       "version_major": 2,
       "version_minor": 0
      },
      "text/plain": [
       "Loading 4:   0%|          | 0/30 [00:00<?, ?it/s]"
      ]
     },
     "metadata": {},
     "output_type": "display_data"
    },
    {
     "data": {
      "application/vnd.jupyter.widget-view+json": {
       "model_id": "02fb76e5a2f24adc958a417d813f968e",
       "version_major": 2,
       "version_minor": 0
      },
      "text/plain": [
       "Loading 5:   0%|          | 0/30 [00:00<?, ?it/s]"
      ]
     },
     "metadata": {},
     "output_type": "display_data"
    },
    {
     "data": {
      "application/vnd.jupyter.widget-view+json": {
       "model_id": "f5d08e12d1614515b6dccfb59ebafdcd",
       "version_major": 2,
       "version_minor": 0
      },
      "text/plain": [
       "Loading 6:   0%|          | 0/30 [00:00<?, ?it/s]"
      ]
     },
     "metadata": {},
     "output_type": "display_data"
    },
    {
     "data": {
      "application/vnd.jupyter.widget-view+json": {
       "model_id": "f8df78bc342142229a1933ac5e39847e",
       "version_major": 2,
       "version_minor": 0
      },
      "text/plain": [
       "Loading 7:   0%|          | 0/30 [00:00<?, ?it/s]"
      ]
     },
     "metadata": {},
     "output_type": "display_data"
    },
    {
     "data": {
      "application/vnd.jupyter.widget-view+json": {
       "model_id": "97f4dbc569744ca4b73eceb0a8f14141",
       "version_major": 2,
       "version_minor": 0
      },
      "text/plain": [
       "Loading 8:   0%|          | 0/30 [00:00<?, ?it/s]"
      ]
     },
     "metadata": {},
     "output_type": "display_data"
    },
    {
     "data": {
      "application/vnd.jupyter.widget-view+json": {
       "model_id": "e8b83431ae2f468a88f463b17c3c5dac",
       "version_major": 2,
       "version_minor": 0
      },
      "text/plain": [
       "Loading 9:   0%|          | 0/30 [00:00<?, ?it/s]"
      ]
     },
     "metadata": {},
     "output_type": "display_data"
    },
    {
     "data": {
      "application/vnd.jupyter.widget-view+json": {
       "model_id": "8873fe74de2949babcb07860871b2877",
       "version_major": 2,
       "version_minor": 0
      },
      "text/plain": [
       "Loading A:   0%|          | 0/30 [00:00<?, ?it/s]"
      ]
     },
     "metadata": {},
     "output_type": "display_data"
    },
    {
     "data": {
      "application/vnd.jupyter.widget-view+json": {
       "model_id": "b489c8fcd31a49a58454930252122002",
       "version_major": 2,
       "version_minor": 0
      },
      "text/plain": [
       "Loading B:   0%|          | 0/30 [00:00<?, ?it/s]"
      ]
     },
     "metadata": {},
     "output_type": "display_data"
    },
    {
     "data": {
      "application/vnd.jupyter.widget-view+json": {
       "model_id": "df2de807ea294217831be0e404686650",
       "version_major": 2,
       "version_minor": 0
      },
      "text/plain": [
       "Loading C:   0%|          | 0/30 [00:00<?, ?it/s]"
      ]
     },
     "metadata": {},
     "output_type": "display_data"
    },
    {
     "data": {
      "application/vnd.jupyter.widget-view+json": {
       "model_id": "64a1e7fd0be042438214565094882ea0",
       "version_major": 2,
       "version_minor": 0
      },
      "text/plain": [
       "Loading D:   0%|          | 0/30 [00:00<?, ?it/s]"
      ]
     },
     "metadata": {},
     "output_type": "display_data"
    },
    {
     "data": {
      "application/vnd.jupyter.widget-view+json": {
       "model_id": "b1e5cfcfb5c5414f9f03a9f751948477",
       "version_major": 2,
       "version_minor": 0
      },
      "text/plain": [
       "Loading E:   0%|          | 0/30 [00:00<?, ?it/s]"
      ]
     },
     "metadata": {},
     "output_type": "display_data"
    },
    {
     "data": {
      "application/vnd.jupyter.widget-view+json": {
       "model_id": "d4b0dfdea9b64d16b4a5eeb7245def51",
       "version_major": 2,
       "version_minor": 0
      },
      "text/plain": [
       "Loading F:   0%|          | 0/30 [00:00<?, ?it/s]"
      ]
     },
     "metadata": {},
     "output_type": "display_data"
    },
    {
     "data": {
      "application/vnd.jupyter.widget-view+json": {
       "model_id": "779dc254cd944b1aa972df29b3545951",
       "version_major": 2,
       "version_minor": 0
      },
      "text/plain": [
       "Loading G:   0%|          | 0/30 [00:00<?, ?it/s]"
      ]
     },
     "metadata": {},
     "output_type": "display_data"
    },
    {
     "data": {
      "application/vnd.jupyter.widget-view+json": {
       "model_id": "832cbe1b8424491e99392fcbfb974aa1",
       "version_major": 2,
       "version_minor": 0
      },
      "text/plain": [
       "Loading H:   0%|          | 0/30 [00:00<?, ?it/s]"
      ]
     },
     "metadata": {},
     "output_type": "display_data"
    },
    {
     "data": {
      "application/vnd.jupyter.widget-view+json": {
       "model_id": "3e53ce0e51274c30999483f24915c2a8",
       "version_major": 2,
       "version_minor": 0
      },
      "text/plain": [
       "Loading I:   0%|          | 0/30 [00:00<?, ?it/s]"
      ]
     },
     "metadata": {},
     "output_type": "display_data"
    },
    {
     "data": {
      "application/vnd.jupyter.widget-view+json": {
       "model_id": "6d663d5dbe8946f2a60f7afac530b36d",
       "version_major": 2,
       "version_minor": 0
      },
      "text/plain": [
       "Loading J:   0%|          | 0/30 [00:00<?, ?it/s]"
      ]
     },
     "metadata": {},
     "output_type": "display_data"
    },
    {
     "data": {
      "application/vnd.jupyter.widget-view+json": {
       "model_id": "ba11942f3d3d42dd86719c162d583512",
       "version_major": 2,
       "version_minor": 0
      },
      "text/plain": [
       "Loading K:   0%|          | 0/30 [00:00<?, ?it/s]"
      ]
     },
     "metadata": {},
     "output_type": "display_data"
    },
    {
     "data": {
      "application/vnd.jupyter.widget-view+json": {
       "model_id": "78be673b8efa4728b55a99237025bacd",
       "version_major": 2,
       "version_minor": 0
      },
      "text/plain": [
       "Loading L:   0%|          | 0/30 [00:00<?, ?it/s]"
      ]
     },
     "metadata": {},
     "output_type": "display_data"
    },
    {
     "data": {
      "application/vnd.jupyter.widget-view+json": {
       "model_id": "44eb3d3467094fa7a74dfd46fa921496",
       "version_major": 2,
       "version_minor": 0
      },
      "text/plain": [
       "Loading M:   0%|          | 0/30 [00:00<?, ?it/s]"
      ]
     },
     "metadata": {},
     "output_type": "display_data"
    },
    {
     "data": {
      "application/vnd.jupyter.widget-view+json": {
       "model_id": "c1f2211a2c8047d2b0129219de8263e8",
       "version_major": 2,
       "version_minor": 0
      },
      "text/plain": [
       "Loading N:   0%|          | 0/30 [00:00<?, ?it/s]"
      ]
     },
     "metadata": {},
     "output_type": "display_data"
    },
    {
     "data": {
      "application/vnd.jupyter.widget-view+json": {
       "model_id": "f9fea66f634f4e249561ea86ff67b71c",
       "version_major": 2,
       "version_minor": 0
      },
      "text/plain": [
       "Loading P:   0%|          | 0/30 [00:00<?, ?it/s]"
      ]
     },
     "metadata": {},
     "output_type": "display_data"
    },
    {
     "data": {
      "application/vnd.jupyter.widget-view+json": {
       "model_id": "97613bebb43b49e8b31f46eec20f4d80",
       "version_major": 2,
       "version_minor": 0
      },
      "text/plain": [
       "Loading Q:   0%|          | 0/30 [00:00<?, ?it/s]"
      ]
     },
     "metadata": {},
     "output_type": "display_data"
    },
    {
     "data": {
      "application/vnd.jupyter.widget-view+json": {
       "model_id": "00a933066d4341479c3e234e70050b68",
       "version_major": 2,
       "version_minor": 0
      },
      "text/plain": [
       "Loading R:   0%|          | 0/30 [00:00<?, ?it/s]"
      ]
     },
     "metadata": {},
     "output_type": "display_data"
    },
    {
     "data": {
      "application/vnd.jupyter.widget-view+json": {
       "model_id": "d361a46a40f841c0a4d3d1d2878b58e8",
       "version_major": 2,
       "version_minor": 0
      },
      "text/plain": [
       "Loading S:   0%|          | 0/30 [00:00<?, ?it/s]"
      ]
     },
     "metadata": {},
     "output_type": "display_data"
    },
    {
     "data": {
      "application/vnd.jupyter.widget-view+json": {
       "model_id": "3c235c2033aa4ded99c0eff39ee1beec",
       "version_major": 2,
       "version_minor": 0
      },
      "text/plain": [
       "Loading T:   0%|          | 0/30 [00:00<?, ?it/s]"
      ]
     },
     "metadata": {},
     "output_type": "display_data"
    },
    {
     "data": {
      "application/vnd.jupyter.widget-view+json": {
       "model_id": "eac35df160484636a7f4fddefdacb7ec",
       "version_major": 2,
       "version_minor": 0
      },
      "text/plain": [
       "Loading U:   0%|          | 0/30 [00:00<?, ?it/s]"
      ]
     },
     "metadata": {},
     "output_type": "display_data"
    },
    {
     "data": {
      "application/vnd.jupyter.widget-view+json": {
       "model_id": "fee93cbffb484016b6ac3a0059ed5f10",
       "version_major": 2,
       "version_minor": 0
      },
      "text/plain": [
       "Loading V:   0%|          | 0/30 [00:00<?, ?it/s]"
      ]
     },
     "metadata": {},
     "output_type": "display_data"
    },
    {
     "data": {
      "application/vnd.jupyter.widget-view+json": {
       "model_id": "79c367f4160048d5bfef93f1e7bb69e8",
       "version_major": 2,
       "version_minor": 0
      },
      "text/plain": [
       "Loading W:   0%|          | 0/30 [00:00<?, ?it/s]"
      ]
     },
     "metadata": {},
     "output_type": "display_data"
    },
    {
     "data": {
      "application/vnd.jupyter.widget-view+json": {
       "model_id": "c36fc1a15b6848ffac4ef345b39a814c",
       "version_major": 2,
       "version_minor": 0
      },
      "text/plain": [
       "Loading X:   0%|          | 0/30 [00:00<?, ?it/s]"
      ]
     },
     "metadata": {},
     "output_type": "display_data"
    },
    {
     "data": {
      "application/vnd.jupyter.widget-view+json": {
       "model_id": "f203e33c0ebd4d7f92947f3c9c9ea781",
       "version_major": 2,
       "version_minor": 0
      },
      "text/plain": [
       "Loading Y:   0%|          | 0/30 [00:00<?, ?it/s]"
      ]
     },
     "metadata": {},
     "output_type": "display_data"
    },
    {
     "data": {
      "application/vnd.jupyter.widget-view+json": {
       "model_id": "7537941cd51140b48a6bdc271b1398b4",
       "version_major": 2,
       "version_minor": 0
      },
      "text/plain": [
       "Loading Z:   0%|          | 0/30 [00:00<?, ?it/s]"
      ]
     },
     "metadata": {},
     "output_type": "display_data"
    },
    {
     "name": "stdout",
     "output_type": "stream",
     "text": [
      "Data samples: 180840\n",
      "X_train shape: 162756\n",
      "Y_train shape: 162756\n",
      "X_test shape: 18084\n",
      "Y_test shape: 18084\n",
      "Epoch 1/25\n"
     ]
    },
    {
     "name": "stderr",
     "output_type": "stream",
     "text": [
      "2024-04-03 18:38:31.865441: E tensorflow/core/grappler/optimizers/meta_optimizer.cc:961] layout failed: INVALID_ARGUMENT: Size of values 0 does not match size of permutation 4 @ fanin shape insequential/dropout/dropout/SelectV2-2-TransposeNHWCToNCHW-LayoutOptimizer\n",
      "2024-04-03 18:38:33.471032: I external/local_xla/xla/stream_executor/cuda/cuda_dnn.cc:454] Loaded cuDNN version 8906\n",
      "2024-04-03 18:38:33.750529: I external/local_tsl/tsl/platform/default/subprocess.cc:304] Start cannot spawn child process: No such file or directory\n",
      "2024-04-03 18:38:35.083618: I external/local_tsl/tsl/platform/default/subprocess.cc:304] Start cannot spawn child process: No such file or directory\n",
      "2024-04-03 18:38:36.025689: I external/local_xla/xla/service/service.cc:168] XLA service 0x76c4511ad5c0 initialized for platform CUDA (this does not guarantee that XLA will be used). Devices:\n",
      "2024-04-03 18:38:36.025729: I external/local_xla/xla/service/service.cc:176]   StreamExecutor device (0): NVIDIA GeForce RTX 3050 Ti Laptop GPU, Compute Capability 8.6\n",
      "2024-04-03 18:38:36.045030: I tensorflow/compiler/mlir/tensorflow/utils/dump_mlir_util.cc:269] disabling MLIR crash reproducer, set env var `MLIR_CRASH_REPRODUCER_DIRECTORY` to enable.\n",
      "WARNING: All log messages before absl::InitializeLog() is called are written to STDERR\n",
      "I0000 00:00:1712158716.209820   41987 device_compiler.h:186] Compiled cluster using XLA!  This line is logged at most once for the lifetime of the process.\n",
      "2024-04-03 18:38:38.237937: W external/local_tsl/tsl/framework/bfc_allocator.cc:296] Allocator (GPU_0_bfc) ran out of memory trying to allocate 1.86GiB with freed_by_count=0. The caller indicates that this is not a failure, but this may mean that there could be performance gains if more memory were available.\n",
      "2024-04-03 18:38:38.598156: W external/local_tsl/tsl/framework/bfc_allocator.cc:296] Allocator (GPU_0_bfc) ran out of memory trying to allocate 1.86GiB with freed_by_count=0. The caller indicates that this is not a failure, but this may mean that there could be performance gains if more memory were available.\n",
      "2024-04-03 18:38:39.755100: W external/local_tsl/tsl/framework/bfc_allocator.cc:296] Allocator (GPU_0_bfc) ran out of memory trying to allocate 970.82MiB with freed_by_count=0. The caller indicates that this is not a failure, but this may mean that there could be performance gains if more memory were available.\n",
      "2024-04-03 18:38:41.912988: W external/local_tsl/tsl/framework/bfc_allocator.cc:296] Allocator (GPU_0_bfc) ran out of memory trying to allocate 970.82MiB with freed_by_count=0. The caller indicates that this is not a failure, but this may mean that there could be performance gains if more memory were available.\n"
     ]
    },
    {
     "name": "stdout",
     "output_type": "stream",
     "text": [
      "2034/2035 [============================>.] - ETA: 0s - loss: 1.2013 - accuracy: 0.6714"
     ]
    },
    {
     "name": "stderr",
     "output_type": "stream",
     "text": [
      "2024-04-03 18:40:56.189991: W external/local_tsl/tsl/framework/bfc_allocator.cc:296] Allocator (GPU_0_bfc) ran out of memory trying to allocate 1.17GiB with freed_by_count=0. The caller indicates that this is not a failure, but this may mean that there could be performance gains if more memory were available.\n",
      "2024-04-03 18:40:56.363502: W external/local_tsl/tsl/framework/bfc_allocator.cc:296] Allocator (GPU_0_bfc) ran out of memory trying to allocate 1.17GiB with freed_by_count=0. The caller indicates that this is not a failure, but this may mean that there could be performance gains if more memory were available.\n"
     ]
    },
    {
     "name": "stdout",
     "output_type": "stream",
     "text": [
      "2035/2035 [==============================] - 159s 71ms/step - loss: 1.2010 - accuracy: 0.6715 - val_loss: 0.1691 - val_accuracy: 0.9523\n",
      "Epoch 2/25\n",
      "2035/2035 [==============================] - 141s 69ms/step - loss: 0.1277 - accuracy: 0.9620 - val_loss: 0.0892 - val_accuracy: 0.9744\n",
      "Epoch 3/25\n",
      "2035/2035 [==============================] - 141s 69ms/step - loss: 0.0773 - accuracy: 0.9760 - val_loss: 0.0794 - val_accuracy: 0.9773\n",
      "Epoch 4/25\n",
      "2035/2035 [==============================] - 141s 69ms/step - loss: 0.0596 - accuracy: 0.9815 - val_loss: 0.0801 - val_accuracy: 0.9770\n",
      "Epoch 5/25\n",
      "2035/2035 [==============================] - 141s 69ms/step - loss: 0.0454 - accuracy: 0.9854 - val_loss: 0.0600 - val_accuracy: 0.9836\n",
      "Epoch 6/25\n",
      "2035/2035 [==============================] - 141s 69ms/step - loss: 0.0377 - accuracy: 0.9879 - val_loss: 0.0480 - val_accuracy: 0.9873\n",
      "Epoch 7/25\n",
      "2035/2035 [==============================] - 141s 69ms/step - loss: 0.0318 - accuracy: 0.9896 - val_loss: 0.0491 - val_accuracy: 0.9868\n",
      "Epoch 8/25\n",
      "2035/2035 [==============================] - 141s 69ms/step - loss: 0.0276 - accuracy: 0.9911 - val_loss: 0.0500 - val_accuracy: 0.9865\n",
      "Epoch 9/25\n",
      "2035/2035 [==============================] - 141s 69ms/step - loss: 0.0222 - accuracy: 0.9924 - val_loss: 0.0663 - val_accuracy: 0.9854\n",
      "Epoch 10/25\n",
      "2035/2035 [==============================] - 141s 69ms/step - loss: 0.0204 - accuracy: 0.9935 - val_loss: 0.0471 - val_accuracy: 0.9888\n",
      "Epoch 11/25\n",
      "2035/2035 [==============================] - 140s 69ms/step - loss: 0.0179 - accuracy: 0.9941 - val_loss: 0.0567 - val_accuracy: 0.9879\n",
      "Epoch 12/25\n",
      "2035/2035 [==============================] - 141s 69ms/step - loss: 0.0161 - accuracy: 0.9948 - val_loss: 0.0594 - val_accuracy: 0.9878\n",
      "Epoch 13/25\n",
      "2035/2035 [==============================] - 141s 69ms/step - loss: 0.0143 - accuracy: 0.9956 - val_loss: 0.0571 - val_accuracy: 0.9881\n",
      "Epoch 14/25\n",
      "2035/2035 [==============================] - 141s 69ms/step - loss: 0.0136 - accuracy: 0.9959 - val_loss: 0.0602 - val_accuracy: 0.9876\n",
      "Epoch 15/25\n",
      "2034/2035 [============================>.] - ETA: 0s - loss: 0.0119 - accuracy: 0.9963Restoring model weights from the end of the best epoch: 10.\n",
      "2035/2035 [==============================] - 141s 69ms/step - loss: 0.0119 - accuracy: 0.9963 - val_loss: 0.0708 - val_accuracy: 0.9848\n",
      "Epoch 15: early stopping\n"
     ]
    },
    {
     "data": {
      "image/png": "[encoded data removed]",
      "text/plain": [
       "<Figure size 1400x500 with 2 Axes>"
      ]
     },
     "metadata": {},
     "output_type": "display_data"
    },
    {
     "name": "stdout",
     "output_type": "stream",
     "text": [
      "Saved model v4 to disk\n"
     ]
    },
    {
     "ename": "",
     "evalue": "",
     "output_type": "error",
     "traceback": [
      "\u001b[1;31mThe Kernel crashed while executing code in the current cell or a previous cell. \n",
      "\u001b[1;31mPlease review the code in the cell(s) to identify a possible cause of the failure. \n",
      "\u001b[1;31mClick <a href='https://aka.ms/vscodeJupyterKernelCrash'>here</a> for more info. \n",
      "\u001b[1;31mView Jupyter <a href='command:jupyter.viewOutput'>log</a> for further details."
     ]
    }
   ],
   "source": [
    "model = create_model()\n",
    "history = train_model(model, learning_rate=0.001, batch_size=64, epochs=25, patience=5)\n",
    "plot_model(history, 4, save=True)\n",
    "save_model(model, 4)"
   ]
  }
 ],
 "metadata": {
  "kernelspec": {
   "display_name": "Python 3",
   "language": "python",
   "name": "python3"
  },
  "language_info": {
   "codemirror_mode": {
    "name": "ipython",
    "version": 3
   },
   "file_extension": ".py",
   "mimetype": "text/x-python",
   "name": "python",
   "nbconvert_exporter": "python",
   "pygments_lexer": "ipython3",
   "version": "3.11.8"
  }
 },
 "nbformat": 4,
 "nbformat_minor": 2
}
