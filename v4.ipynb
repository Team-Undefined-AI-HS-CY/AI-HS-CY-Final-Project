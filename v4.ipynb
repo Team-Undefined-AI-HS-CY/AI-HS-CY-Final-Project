{
 "cells": [
  {
   "cell_type": "code",
   "execution_count": 1,
   "metadata": {},
   "outputs": [
    {
     "name": "stderr",
     "output_type": "stream",
     "text": [
      "2024-03-29 19:21:55.959059: I tensorflow/core/util/port.cc:113] oneDNN custom operations are on. You may see slightly different numerical results due to floating-point round-off errors from different computation orders. To turn them off, set the environment variable `TF_ENABLE_ONEDNN_OPTS=0`.\n",
      "2024-03-29 19:21:55.984725: E external/local_xla/xla/stream_executor/cuda/cuda_dnn.cc:9261] Unable to register cuDNN factory: Attempting to register factory for plugin cuDNN when one has already been registered\n",
      "2024-03-29 19:21:55.984748: E external/local_xla/xla/stream_executor/cuda/cuda_fft.cc:607] Unable to register cuFFT factory: Attempting to register factory for plugin cuFFT when one has already been registered\n",
      "2024-03-29 19:21:55.985535: E external/local_xla/xla/stream_executor/cuda/cuda_blas.cc:1515] Unable to register cuBLAS factory: Attempting to register factory for plugin cuBLAS when one has already been registered\n",
      "2024-03-29 19:21:55.990236: I tensorflow/core/platform/cpu_feature_guard.cc:182] This TensorFlow binary is optimized to use available CPU instructions in performance-critical operations.\n",
      "To enable the following instructions: AVX2 AVX_VNNI FMA, in other operations, rebuild TensorFlow with the appropriate compiler flags.\n",
      "2024-03-29 19:21:56.417292: W tensorflow/compiler/tf2tensorrt/utils/py_utils.cc:38] TF-TRT Warning: Could not find TensorRT\n"
     ]
    }
   ],
   "source": [
    "import numpy as np\n",
    "import tensorflow as tf\n",
    "from keras.models import Sequential\n",
    "from keras.layers import Dense, Conv2D, MaxPooling2D, Flatten, Dropout, BatchNormalization\n",
    "from keras.losses import categorical_crossentropy\n",
    "from keras.optimizers import Adam\n",
    "import keras\n",
    "\n",
    "from settings import *\n",
    "\n",
    "from utils.general import clean_session, plot_model, split_dataset, scale_dataset, shape_dataset, print_dataset_info\n",
    "from utils.models.ocr import save_model"
   ]
  },
  {
   "cell_type": "code",
   "execution_count": 2,
   "metadata": {},
   "outputs": [],
   "source": [
    "import Datasets.OCR.CNN_Letters.loader as CNN_Letters\n",
    "import Datasets.OCR.manual.loader as manual\n",
    "import Datasets.OCR.EnglishFnt.loader as EnglishFnt"
   ]
  },
  {
   "cell_type": "code",
   "execution_count": 3,
   "metadata": {},
   "outputs": [],
   "source": [
    "# clean_session()"
   ]
  },
  {
   "cell_type": "code",
   "execution_count": 4,
   "metadata": {},
   "outputs": [],
   "source": [
    "def create_model():\n",
    "    model = Sequential()\n",
    "\n",
    "    # CNN\n",
    "    model.add(Conv2D(32, kernel_size=(3, 3), activation='relu',input_shape=INPUT_SHAPE))\n",
    "    model.add(Conv2D(64, kernel_size=(3, 3), activation='relu'))\n",
    "    model.add(Conv2D(128, kernel_size=(3, 3), activation='relu'))\n",
    "\n",
    "    # Pooling\n",
    "    model.add(MaxPooling2D(pool_size=(2, 2), strides=2, padding='same'))\n",
    "\n",
    "    # Drop some data points randomly (mainly for caligraphy reasons)\n",
    "    model.add(Dropout(0.25))\n",
    "\n",
    "    # Flattening before feeding to FCNN\n",
    "    model.add(Flatten())\n",
    "\n",
    "    # FCNN\n",
    "    # use softmax since we are doing classification (1 node for each possible output)\n",
    "    model.add(Dense(128, activation='relu'))\n",
    "    model.add(Dense(64, activation='relu'))\n",
    "    model.add(Dropout(0.3))\n",
    "    model.add(Dense(len(COMBINED_CHARS), activation='softmax'))\n",
    "\n",
    "    model.summary()\n",
    "\n",
    "    return model"
   ]
  },
  {
   "cell_type": "code",
   "execution_count": 5,
   "metadata": {},
   "outputs": [],
   "source": [
    "def train_model(model, learning_rate, batch_size, epochs, patience):\n",
    "    optimizer = Adam(learning_rate=learning_rate)\n",
    "    model.compile(loss=categorical_crossentropy, optimizer=optimizer, metrics=['accuracy'])\n",
    "\n",
    "    callbacks = [keras.callbacks.EarlyStopping(monitor='val_loss', patience=patience, restore_best_weights=True, verbose=1)]\n",
    "\n",
    "    CX_data, CY_data = CNN_Letters.load_dataset()\n",
    "    EX_data, EY_data = EnglishFnt.load_dataset(include_fonts=ENGLISH_FNT_FONTS)\n",
    "    MX_data, MY_data = manual.load_dataset()\n",
    "    X_data = np.concatenate((CX_data, MX_data, EX_data))\n",
    "    Y_data = np.concatenate((CY_data, MY_data, EY_data))\n",
    "\n",
    "    X_train, X_test, Y_train, Y_test = split_dataset(X_data, Y_data, test_percent=TEST_PERCENT, random_state=RANDOM_STATE, shuffle=True)\n",
    "    X_train, X_test = shape_dataset(X_train, X_test, input_shape=INPUT_SHAPE)\n",
    "    X_train, X_test = scale_dataset(X_train, X_test, batch_size=batch_size)\n",
    "\n",
    "    print_dataset_info(X_data, X_train, Y_train, X_test, Y_test)\n",
    "\n",
    "    history = model.fit(X_train, Y_train, batch_size=batch_size, epochs=epochs, validation_split=VALIDATION_PERCENT, callbacks=callbacks)\n",
    "\n",
    "    return history"
   ]
  },
  {
   "cell_type": "code",
   "execution_count": 6,
   "metadata": {},
   "outputs": [
    {
     "name": "stdout",
     "output_type": "stream",
     "text": [
      "Model: \"sequential\"\n",
      "_________________________________________________________________\n",
      " Layer (type)                Output Shape              Param #   \n",
      "=================================================================\n",
      " conv2d (Conv2D)             (None, 98, 48, 32)        320       \n",
      "                                                                 \n",
      " conv2d_1 (Conv2D)           (None, 96, 46, 64)        18496     \n",
      "                                                                 \n",
      " conv2d_2 (Conv2D)           (None, 94, 44, 128)       73856     \n",
      "                                                                 \n",
      " max_pooling2d (MaxPooling2  (None, 47, 22, 128)       0         \n",
      " D)                                                              \n",
      "                                                                 \n",
      " dropout (Dropout)           (None, 47, 22, 128)       0         \n",
      "                                                                 \n",
      " flatten (Flatten)           (None, 132352)            0         \n",
      "                                                                 \n",
      " dense (Dense)               (None, 128)               16941184  \n",
      "                                                                 \n",
      " dense_1 (Dense)             (None, 64)                8256      \n",
      "                                                                 \n",
      " dropout_1 (Dropout)         (None, 64)                0         \n",
      "                                                                 \n",
      " dense_2 (Dense)             (None, 35)                2275      \n",
      "                                                                 \n",
      "=================================================================\n",
      "Total params: 17044387 (65.02 MB)\n",
      "Trainable params: 17044387 (65.02 MB)\n",
      "Non-trainable params: 0 (0.00 Byte)\n",
      "_________________________________________________________________\n"
     ]
    },
    {
     "name": "stderr",
     "output_type": "stream",
     "text": [
      "2024-03-29 19:21:57.480036: I external/local_xla/xla/stream_executor/cuda/cuda_executor.cc:901] successful NUMA node read from SysFS had negative value (-1), but there must be at least one NUMA node, so returning NUMA node zero. See more at https://github.com/torvalds/linux/blob/v6.0/Documentation/ABI/testing/sysfs-bus-pci#L344-L355\n",
      "2024-03-29 19:21:57.497876: I external/local_xla/xla/stream_executor/cuda/cuda_executor.cc:901] successful NUMA node read from SysFS had negative value (-1), but there must be at least one NUMA node, so returning NUMA node zero. See more at https://github.com/torvalds/linux/blob/v6.0/Documentation/ABI/testing/sysfs-bus-pci#L344-L355\n",
      "2024-03-29 19:21:57.498007: I external/local_xla/xla/stream_executor/cuda/cuda_executor.cc:901] successful NUMA node read from SysFS had negative value (-1), but there must be at least one NUMA node, so returning NUMA node zero. See more at https://github.com/torvalds/linux/blob/v6.0/Documentation/ABI/testing/sysfs-bus-pci#L344-L355\n",
      "2024-03-29 19:21:57.499254: I external/local_xla/xla/stream_executor/cuda/cuda_executor.cc:901] successful NUMA node read from SysFS had negative value (-1), but there must be at least one NUMA node, so returning NUMA node zero. See more at https://github.com/torvalds/linux/blob/v6.0/Documentation/ABI/testing/sysfs-bus-pci#L344-L355\n",
      "2024-03-29 19:21:57.499363: I external/local_xla/xla/stream_executor/cuda/cuda_executor.cc:901] successful NUMA node read from SysFS had negative value (-1), but there must be at least one NUMA node, so returning NUMA node zero. See more at https://github.com/torvalds/linux/blob/v6.0/Documentation/ABI/testing/sysfs-bus-pci#L344-L355\n",
      "2024-03-29 19:21:57.499427: I external/local_xla/xla/stream_executor/cuda/cuda_executor.cc:901] successful NUMA node read from SysFS had negative value (-1), but there must be at least one NUMA node, so returning NUMA node zero. See more at https://github.com/torvalds/linux/blob/v6.0/Documentation/ABI/testing/sysfs-bus-pci#L344-L355\n",
      "2024-03-29 19:21:57.539472: I external/local_xla/xla/stream_executor/cuda/cuda_executor.cc:901] successful NUMA node read from SysFS had negative value (-1), but there must be at least one NUMA node, so returning NUMA node zero. See more at https://github.com/torvalds/linux/blob/v6.0/Documentation/ABI/testing/sysfs-bus-pci#L344-L355\n",
      "2024-03-29 19:21:57.539641: I external/local_xla/xla/stream_executor/cuda/cuda_executor.cc:901] successful NUMA node read from SysFS had negative value (-1), but there must be at least one NUMA node, so returning NUMA node zero. See more at https://github.com/torvalds/linux/blob/v6.0/Documentation/ABI/testing/sysfs-bus-pci#L344-L355\n",
      "2024-03-29 19:21:57.539712: I external/local_xla/xla/stream_executor/cuda/cuda_executor.cc:901] successful NUMA node read from SysFS had negative value (-1), but there must be at least one NUMA node, so returning NUMA node zero. See more at https://github.com/torvalds/linux/blob/v6.0/Documentation/ABI/testing/sysfs-bus-pci#L344-L355\n",
      "2024-03-29 19:21:57.539768: I tensorflow/core/common_runtime/gpu/gpu_device.cc:1929] Created device /job:localhost/replica:0/task:0/device:GPU:0 with 1994 MB memory:  -> device: 0, name: NVIDIA GeForce RTX 3050 Ti Laptop GPU, pci bus id: 0000:01:00.0, compute capability: 8.6\n"
     ]
    },
    {
     "data": {
      "application/vnd.jupyter.widget-view+json": {
       "model_id": "3f888a30c5e84e2a8f08b3583cb4acf9",
       "version_major": 2,
       "version_minor": 0
      },
      "text/plain": [
       "Loading CNN_Letters:   0%|          | 0/35 [00:00<?, ?it/s]"
      ]
     },
     "metadata": {},
     "output_type": "display_data"
    },
    {
     "data": {
      "application/vnd.jupyter.widget-view+json": {
       "model_id": "a0dd68c12f6f4cceb2698cd2e6b66ecc",
       "version_major": 2,
       "version_minor": 0
      },
      "text/plain": [
       "Loading 0:   0%|          | 0/1030 [00:00<?, ?it/s]"
      ]
     },
     "metadata": {},
     "output_type": "display_data"
    },
    {
     "data": {
      "application/vnd.jupyter.widget-view+json": {
       "model_id": "9e3328c2c5c940e28eb049d1aa3ce941",
       "version_major": 2,
       "version_minor": 0
      },
      "text/plain": [
       "Loading 1:   0%|          | 0/1030 [00:00<?, ?it/s]"
      ]
     },
     "metadata": {},
     "output_type": "display_data"
    },
    {
     "data": {
      "application/vnd.jupyter.widget-view+json": {
       "model_id": "3b22b643b172486dba71be204e0da40b",
       "version_major": 2,
       "version_minor": 0
      },
      "text/plain": [
       "Loading 2:   0%|          | 0/1030 [00:00<?, ?it/s]"
      ]
     },
     "metadata": {},
     "output_type": "display_data"
    },
    {
     "data": {
      "application/vnd.jupyter.widget-view+json": {
       "model_id": "0196d84c9e4a47ea90a3621c557f2524",
       "version_major": 2,
       "version_minor": 0
      },
      "text/plain": [
       "Loading 3:   0%|          | 0/1030 [00:00<?, ?it/s]"
      ]
     },
     "metadata": {},
     "output_type": "display_data"
    },
    {
     "data": {
      "application/vnd.jupyter.widget-view+json": {
       "model_id": "43990fcc073c425cafbe3d20cd78b115",
       "version_major": 2,
       "version_minor": 0
      },
      "text/plain": [
       "Loading 4:   0%|          | 0/1030 [00:00<?, ?it/s]"
      ]
     },
     "metadata": {},
     "output_type": "display_data"
    },
    {
     "data": {
      "application/vnd.jupyter.widget-view+json": {
       "model_id": "4de4ff7646bd4c008bff698ca2b0bab0",
       "version_major": 2,
       "version_minor": 0
      },
      "text/plain": [
       "Loading 5:   0%|          | 0/1030 [00:00<?, ?it/s]"
      ]
     },
     "metadata": {},
     "output_type": "display_data"
    },
    {
     "data": {
      "application/vnd.jupyter.widget-view+json": {
       "model_id": "39f857a9f4b84c38bb7dd02838a1814c",
       "version_major": 2,
       "version_minor": 0
      },
      "text/plain": [
       "Loading 6:   0%|          | 0/1030 [00:00<?, ?it/s]"
      ]
     },
     "metadata": {},
     "output_type": "display_data"
    },
    {
     "data": {
      "application/vnd.jupyter.widget-view+json": {
       "model_id": "c52207de12734965bb987641d17ec2ad",
       "version_major": 2,
       "version_minor": 0
      },
      "text/plain": [
       "Loading 7:   0%|          | 0/1030 [00:00<?, ?it/s]"
      ]
     },
     "metadata": {},
     "output_type": "display_data"
    },
    {
     "data": {
      "application/vnd.jupyter.widget-view+json": {
       "model_id": "56e0ee832c15427ca722d809410a8f6f",
       "version_major": 2,
       "version_minor": 0
      },
      "text/plain": [
       "Loading 8:   0%|          | 0/1030 [00:00<?, ?it/s]"
      ]
     },
     "metadata": {},
     "output_type": "display_data"
    },
    {
     "data": {
      "application/vnd.jupyter.widget-view+json": {
       "model_id": "46f3a1fc7d8041b48cf1e793fd37a52d",
       "version_major": 2,
       "version_minor": 0
      },
      "text/plain": [
       "Loading 9:   0%|          | 0/1030 [00:00<?, ?it/s]"
      ]
     },
     "metadata": {},
     "output_type": "display_data"
    },
    {
     "data": {
      "application/vnd.jupyter.widget-view+json": {
       "model_id": "f7e260fcd8c64988a0eacf1d72793e0f",
       "version_major": 2,
       "version_minor": 0
      },
      "text/plain": [
       "Loading A:   0%|          | 0/1010 [00:00<?, ?it/s]"
      ]
     },
     "metadata": {},
     "output_type": "display_data"
    },
    {
     "data": {
      "application/vnd.jupyter.widget-view+json": {
       "model_id": "257e7b5ec29344328b6b40046bc2c545",
       "version_major": 2,
       "version_minor": 0
      },
      "text/plain": [
       "Loading B:   0%|          | 0/1030 [00:00<?, ?it/s]"
      ]
     },
     "metadata": {},
     "output_type": "display_data"
    },
    {
     "data": {
      "application/vnd.jupyter.widget-view+json": {
       "model_id": "c997736e9dcd45caa2a3c00c78c0f2af",
       "version_major": 2,
       "version_minor": 0
      },
      "text/plain": [
       "Loading C:   0%|          | 0/1020 [00:00<?, ?it/s]"
      ]
     },
     "metadata": {},
     "output_type": "display_data"
    },
    {
     "data": {
      "application/vnd.jupyter.widget-view+json": {
       "model_id": "83c2f8c241404214a28f96d65ad1b26c",
       "version_major": 2,
       "version_minor": 0
      },
      "text/plain": [
       "Loading D:   0%|          | 0/1010 [00:00<?, ?it/s]"
      ]
     },
     "metadata": {},
     "output_type": "display_data"
    },
    {
     "data": {
      "application/vnd.jupyter.widget-view+json": {
       "model_id": "99bfb349f8e44187b042495747c8ec9c",
       "version_major": 2,
       "version_minor": 0
      },
      "text/plain": [
       "Loading E:   0%|          | 0/1010 [00:00<?, ?it/s]"
      ]
     },
     "metadata": {},
     "output_type": "display_data"
    },
    {
     "data": {
      "application/vnd.jupyter.widget-view+json": {
       "model_id": "31402b41efbb466ebad9b89ca6b831ee",
       "version_major": 2,
       "version_minor": 0
      },
      "text/plain": [
       "Loading F:   0%|          | 0/1020 [00:00<?, ?it/s]"
      ]
     },
     "metadata": {},
     "output_type": "display_data"
    },
    {
     "data": {
      "application/vnd.jupyter.widget-view+json": {
       "model_id": "d3bf6502a0ee43e3833f04b98e3b935a",
       "version_major": 2,
       "version_minor": 0
      },
      "text/plain": [
       "Loading G:   0%|          | 0/1020 [00:00<?, ?it/s]"
      ]
     },
     "metadata": {},
     "output_type": "display_data"
    },
    {
     "data": {
      "application/vnd.jupyter.widget-view+json": {
       "model_id": "2c7a1005cc274d47bf754dc581718e7c",
       "version_major": 2,
       "version_minor": 0
      },
      "text/plain": [
       "Loading H:   0%|          | 0/1020 [00:00<?, ?it/s]"
      ]
     },
     "metadata": {},
     "output_type": "display_data"
    },
    {
     "data": {
      "application/vnd.jupyter.widget-view+json": {
       "model_id": "9ea692f04dcb45e5825c1d34ea7f6bda",
       "version_major": 2,
       "version_minor": 0
      },
      "text/plain": [
       "Loading I:   0%|          | 0/1010 [00:00<?, ?it/s]"
      ]
     },
     "metadata": {},
     "output_type": "display_data"
    },
    {
     "data": {
      "application/vnd.jupyter.widget-view+json": {
       "model_id": "e0341fc70fc84248bd11487622f133b7",
       "version_major": 2,
       "version_minor": 0
      },
      "text/plain": [
       "Loading J:   0%|          | 0/1030 [00:00<?, ?it/s]"
      ]
     },
     "metadata": {},
     "output_type": "display_data"
    },
    {
     "data": {
      "application/vnd.jupyter.widget-view+json": {
       "model_id": "164849dc28ee4bb781dd148110fdacc5",
       "version_major": 2,
       "version_minor": 0
      },
      "text/plain": [
       "Loading K:   0%|          | 0/1010 [00:00<?, ?it/s]"
      ]
     },
     "metadata": {},
     "output_type": "display_data"
    },
    {
     "data": {
      "application/vnd.jupyter.widget-view+json": {
       "model_id": "be760d0d467245d190934ebf3036f97c",
       "version_major": 2,
       "version_minor": 0
      },
      "text/plain": [
       "Loading L:   0%|          | 0/1010 [00:00<?, ?it/s]"
      ]
     },
     "metadata": {},
     "output_type": "display_data"
    },
    {
     "data": {
      "application/vnd.jupyter.widget-view+json": {
       "model_id": "3d5085899b6742ecb22870682c8d15d3",
       "version_major": 2,
       "version_minor": 0
      },
      "text/plain": [
       "Loading M:   0%|          | 0/1020 [00:00<?, ?it/s]"
      ]
     },
     "metadata": {},
     "output_type": "display_data"
    },
    {
     "data": {
      "application/vnd.jupyter.widget-view+json": {
       "model_id": "064d217bb8dd4f698f1e5e810f467887",
       "version_major": 2,
       "version_minor": 0
      },
      "text/plain": [
       "Loading N:   0%|          | 0/1020 [00:00<?, ?it/s]"
      ]
     },
     "metadata": {},
     "output_type": "display_data"
    },
    {
     "data": {
      "application/vnd.jupyter.widget-view+json": {
       "model_id": "2d16745a891d490e8d4f59e706225c28",
       "version_major": 2,
       "version_minor": 0
      },
      "text/plain": [
       "Loading P:   0%|          | 0/1010 [00:00<?, ?it/s]"
      ]
     },
     "metadata": {},
     "output_type": "display_data"
    },
    {
     "data": {
      "application/vnd.jupyter.widget-view+json": {
       "model_id": "23b2484e426948148ff07cf46cad15c7",
       "version_major": 2,
       "version_minor": 0
      },
      "text/plain": [
       "Loading Q:   0%|          | 0/1010 [00:00<?, ?it/s]"
      ]
     },
     "metadata": {},
     "output_type": "display_data"
    },
    {
     "data": {
      "application/vnd.jupyter.widget-view+json": {
       "model_id": "aa0c3e6f542d405cb4f82c457289fe84",
       "version_major": 2,
       "version_minor": 0
      },
      "text/plain": [
       "Loading R:   0%|          | 0/1020 [00:00<?, ?it/s]"
      ]
     },
     "metadata": {},
     "output_type": "display_data"
    },
    {
     "data": {
      "application/vnd.jupyter.widget-view+json": {
       "model_id": "aaaf525b259d4416bf5f0f1e7963e9c3",
       "version_major": 2,
       "version_minor": 0
      },
      "text/plain": [
       "Loading S:   0%|          | 0/1020 [00:00<?, ?it/s]"
      ]
     },
     "metadata": {},
     "output_type": "display_data"
    },
    {
     "data": {
      "application/vnd.jupyter.widget-view+json": {
       "model_id": "4947900dd03548279fd4e5867b84f5b7",
       "version_major": 2,
       "version_minor": 0
      },
      "text/plain": [
       "Loading T:   0%|          | 0/1020 [00:00<?, ?it/s]"
      ]
     },
     "metadata": {},
     "output_type": "display_data"
    },
    {
     "data": {
      "application/vnd.jupyter.widget-view+json": {
       "model_id": "c891d032be1744b5a230c26d75bddbc5",
       "version_major": 2,
       "version_minor": 0
      },
      "text/plain": [
       "Loading U:   0%|          | 0/1010 [00:00<?, ?it/s]"
      ]
     },
     "metadata": {},
     "output_type": "display_data"
    },
    {
     "data": {
      "application/vnd.jupyter.widget-view+json": {
       "model_id": "3aeab2eb7454460294a7c69bba3e1638",
       "version_major": 2,
       "version_minor": 0
      },
      "text/plain": [
       "Loading V:   0%|          | 0/1030 [00:00<?, ?it/s]"
      ]
     },
     "metadata": {},
     "output_type": "display_data"
    },
    {
     "data": {
      "application/vnd.jupyter.widget-view+json": {
       "model_id": "a251690bcfd34ed5ad140101eb5852d6",
       "version_major": 2,
       "version_minor": 0
      },
      "text/plain": [
       "Loading W:   0%|          | 0/1010 [00:00<?, ?it/s]"
      ]
     },
     "metadata": {},
     "output_type": "display_data"
    },
    {
     "data": {
      "application/vnd.jupyter.widget-view+json": {
       "model_id": "2fc7ef59dc2b4deabf6857ff4c3949ef",
       "version_major": 2,
       "version_minor": 0
      },
      "text/plain": [
       "Loading X:   0%|          | 0/1010 [00:00<?, ?it/s]"
      ]
     },
     "metadata": {},
     "output_type": "display_data"
    },
    {
     "data": {
      "application/vnd.jupyter.widget-view+json": {
       "model_id": "f13497ea94464d27873d725afb1858cd",
       "version_major": 2,
       "version_minor": 0
      },
      "text/plain": [
       "Loading Y:   0%|          | 0/1010 [00:00<?, ?it/s]"
      ]
     },
     "metadata": {},
     "output_type": "display_data"
    },
    {
     "data": {
      "application/vnd.jupyter.widget-view+json": {
       "model_id": "a7812a920de24ae9952d447e43d1a46d",
       "version_major": 2,
       "version_minor": 0
      },
      "text/plain": [
       "Loading Z:   0%|          | 0/810 [00:00<?, ?it/s]"
      ]
     },
     "metadata": {},
     "output_type": "display_data"
    },
    {
     "data": {
      "application/vnd.jupyter.widget-view+json": {
       "model_id": "562bceba1e2c4cd3a6a16fbd34bf630e",
       "version_major": 2,
       "version_minor": 0
      },
      "text/plain": [
       "Loading EnglishFnt:   0%|          | 0/35 [00:00<?, ?it/s]"
      ]
     },
     "metadata": {},
     "output_type": "display_data"
    },
    {
     "data": {
      "application/vnd.jupyter.widget-view+json": {
       "model_id": "5498e3d2335d49d3b118f1687877b3c5",
       "version_major": 2,
       "version_minor": 0
      },
      "text/plain": [
       "Loading 0:   0%|          | 0/698 [00:00<?, ?it/s]"
      ]
     },
     "metadata": {},
     "output_type": "display_data"
    },
    {
     "data": {
      "application/vnd.jupyter.widget-view+json": {
       "model_id": "ae9fe07aff354a5782358ca5b6342bd4",
       "version_major": 2,
       "version_minor": 0
      },
      "text/plain": [
       "Loading 1:   0%|          | 0/698 [00:00<?, ?it/s]"
      ]
     },
     "metadata": {},
     "output_type": "display_data"
    },
    {
     "data": {
      "application/vnd.jupyter.widget-view+json": {
       "model_id": "3d8da90d892a4b1e8a07b459f78eb8c9",
       "version_major": 2,
       "version_minor": 0
      },
      "text/plain": [
       "Loading 2:   0%|          | 0/698 [00:00<?, ?it/s]"
      ]
     },
     "metadata": {},
     "output_type": "display_data"
    },
    {
     "data": {
      "application/vnd.jupyter.widget-view+json": {
       "model_id": "488d946946464110b155303d2086c701",
       "version_major": 2,
       "version_minor": 0
      },
      "text/plain": [
       "Loading 3:   0%|          | 0/698 [00:00<?, ?it/s]"
      ]
     },
     "metadata": {},
     "output_type": "display_data"
    },
    {
     "data": {
      "application/vnd.jupyter.widget-view+json": {
       "model_id": "4beec5d947e849e0b239e1716f2e5e15",
       "version_major": 2,
       "version_minor": 0
      },
      "text/plain": [
       "Loading 4:   0%|          | 0/698 [00:00<?, ?it/s]"
      ]
     },
     "metadata": {},
     "output_type": "display_data"
    },
    {
     "data": {
      "application/vnd.jupyter.widget-view+json": {
       "model_id": "5a93d4dd912d4d9697fe0f3104e0c045",
       "version_major": 2,
       "version_minor": 0
      },
      "text/plain": [
       "Loading 5:   0%|          | 0/698 [00:00<?, ?it/s]"
      ]
     },
     "metadata": {},
     "output_type": "display_data"
    },
    {
     "data": {
      "application/vnd.jupyter.widget-view+json": {
       "model_id": "d9e44ba601aa416a8ebf5661c93f09b4",
       "version_major": 2,
       "version_minor": 0
      },
      "text/plain": [
       "Loading 6:   0%|          | 0/698 [00:00<?, ?it/s]"
      ]
     },
     "metadata": {},
     "output_type": "display_data"
    },
    {
     "data": {
      "application/vnd.jupyter.widget-view+json": {
       "model_id": "2e686bca1e4647a6b649d6c65543f579",
       "version_major": 2,
       "version_minor": 0
      },
      "text/plain": [
       "Loading 7:   0%|          | 0/698 [00:00<?, ?it/s]"
      ]
     },
     "metadata": {},
     "output_type": "display_data"
    },
    {
     "data": {
      "application/vnd.jupyter.widget-view+json": {
       "model_id": "b6f812caac4e4ad2b7664e93483d7635",
       "version_major": 2,
       "version_minor": 0
      },
      "text/plain": [
       "Loading 8:   0%|          | 0/698 [00:00<?, ?it/s]"
      ]
     },
     "metadata": {},
     "output_type": "display_data"
    },
    {
     "data": {
      "application/vnd.jupyter.widget-view+json": {
       "model_id": "19ab81f732ef4eb18921e9595aaf07f0",
       "version_major": 2,
       "version_minor": 0
      },
      "text/plain": [
       "Loading 9:   0%|          | 0/698 [00:00<?, ?it/s]"
      ]
     },
     "metadata": {},
     "output_type": "display_data"
    },
    {
     "data": {
      "application/vnd.jupyter.widget-view+json": {
       "model_id": "82012057020c45e1902d60f87d183d25",
       "version_major": 2,
       "version_minor": 0
      },
      "text/plain": [
       "Loading A:   0%|          | 0/698 [00:00<?, ?it/s]"
      ]
     },
     "metadata": {},
     "output_type": "display_data"
    },
    {
     "data": {
      "application/vnd.jupyter.widget-view+json": {
       "model_id": "bc38333f4964417894a5193df0582707",
       "version_major": 2,
       "version_minor": 0
      },
      "text/plain": [
       "Loading B:   0%|          | 0/698 [00:00<?, ?it/s]"
      ]
     },
     "metadata": {},
     "output_type": "display_data"
    },
    {
     "data": {
      "application/vnd.jupyter.widget-view+json": {
       "model_id": "8198bba7db4b453393fb7a743170f41a",
       "version_major": 2,
       "version_minor": 0
      },
      "text/plain": [
       "Loading C:   0%|          | 0/698 [00:00<?, ?it/s]"
      ]
     },
     "metadata": {},
     "output_type": "display_data"
    },
    {
     "data": {
      "application/vnd.jupyter.widget-view+json": {
       "model_id": "9e81e4708f7342d0a3f934ef5e4931a5",
       "version_major": 2,
       "version_minor": 0
      },
      "text/plain": [
       "Loading D:   0%|          | 0/698 [00:00<?, ?it/s]"
      ]
     },
     "metadata": {},
     "output_type": "display_data"
    },
    {
     "data": {
      "application/vnd.jupyter.widget-view+json": {
       "model_id": "209358f5b01f47b5a43f50165e707256",
       "version_major": 2,
       "version_minor": 0
      },
      "text/plain": [
       "Loading E:   0%|          | 0/698 [00:00<?, ?it/s]"
      ]
     },
     "metadata": {},
     "output_type": "display_data"
    },
    {
     "data": {
      "application/vnd.jupyter.widget-view+json": {
       "model_id": "9342f6ddb2214254962988a009e0b43a",
       "version_major": 2,
       "version_minor": 0
      },
      "text/plain": [
       "Loading F:   0%|          | 0/698 [00:00<?, ?it/s]"
      ]
     },
     "metadata": {},
     "output_type": "display_data"
    },
    {
     "data": {
      "application/vnd.jupyter.widget-view+json": {
       "model_id": "4e4cd33d19b5429184d66e7ab9a51b2e",
       "version_major": 2,
       "version_minor": 0
      },
      "text/plain": [
       "Loading G:   0%|          | 0/698 [00:00<?, ?it/s]"
      ]
     },
     "metadata": {},
     "output_type": "display_data"
    },
    {
     "data": {
      "application/vnd.jupyter.widget-view+json": {
       "model_id": "3b6eb274bf4d4905a056dd6cb162b0dc",
       "version_major": 2,
       "version_minor": 0
      },
      "text/plain": [
       "Loading H:   0%|          | 0/698 [00:00<?, ?it/s]"
      ]
     },
     "metadata": {},
     "output_type": "display_data"
    },
    {
     "data": {
      "application/vnd.jupyter.widget-view+json": {
       "model_id": "1547b77b21784c1895651cc09af12732",
       "version_major": 2,
       "version_minor": 0
      },
      "text/plain": [
       "Loading I:   0%|          | 0/698 [00:00<?, ?it/s]"
      ]
     },
     "metadata": {},
     "output_type": "display_data"
    },
    {
     "data": {
      "application/vnd.jupyter.widget-view+json": {
       "model_id": "87cc7dbacbb5463b9e2efee1f2c413f3",
       "version_major": 2,
       "version_minor": 0
      },
      "text/plain": [
       "Loading J:   0%|          | 0/698 [00:00<?, ?it/s]"
      ]
     },
     "metadata": {},
     "output_type": "display_data"
    },
    {
     "data": {
      "application/vnd.jupyter.widget-view+json": {
       "model_id": "4db8349c086445e49124cca6c7d6e358",
       "version_major": 2,
       "version_minor": 0
      },
      "text/plain": [
       "Loading K:   0%|          | 0/698 [00:00<?, ?it/s]"
      ]
     },
     "metadata": {},
     "output_type": "display_data"
    },
    {
     "data": {
      "application/vnd.jupyter.widget-view+json": {
       "model_id": "73d31fd0c42b4dd4ac558111caed2a10",
       "version_major": 2,
       "version_minor": 0
      },
      "text/plain": [
       "Loading L:   0%|          | 0/698 [00:00<?, ?it/s]"
      ]
     },
     "metadata": {},
     "output_type": "display_data"
    },
    {
     "data": {
      "application/vnd.jupyter.widget-view+json": {
       "model_id": "9faae8cb62974ba7815502b62eea5f00",
       "version_major": 2,
       "version_minor": 0
      },
      "text/plain": [
       "Loading M:   0%|          | 0/698 [00:00<?, ?it/s]"
      ]
     },
     "metadata": {},
     "output_type": "display_data"
    },
    {
     "data": {
      "application/vnd.jupyter.widget-view+json": {
       "model_id": "33655bd435ff48eaa9afdbb96c0fc23b",
       "version_major": 2,
       "version_minor": 0
      },
      "text/plain": [
       "Loading N:   0%|          | 0/698 [00:00<?, ?it/s]"
      ]
     },
     "metadata": {},
     "output_type": "display_data"
    },
    {
     "data": {
      "application/vnd.jupyter.widget-view+json": {
       "model_id": "df8ce4eb9dd14767a9e7158d4cb582f4",
       "version_major": 2,
       "version_minor": 0
      },
      "text/plain": [
       "Loading P:   0%|          | 0/698 [00:00<?, ?it/s]"
      ]
     },
     "metadata": {},
     "output_type": "display_data"
    },
    {
     "data": {
      "application/vnd.jupyter.widget-view+json": {
       "model_id": "15ebac7348d4448486bca441c7c35d62",
       "version_major": 2,
       "version_minor": 0
      },
      "text/plain": [
       "Loading Q:   0%|          | 0/698 [00:00<?, ?it/s]"
      ]
     },
     "metadata": {},
     "output_type": "display_data"
    },
    {
     "data": {
      "application/vnd.jupyter.widget-view+json": {
       "model_id": "e9e90b4ee1fa4ad2b159cd2644ea04ed",
       "version_major": 2,
       "version_minor": 0
      },
      "text/plain": [
       "Loading R:   0%|          | 0/698 [00:00<?, ?it/s]"
      ]
     },
     "metadata": {},
     "output_type": "display_data"
    },
    {
     "data": {
      "application/vnd.jupyter.widget-view+json": {
       "model_id": "c6d2e54611f54f4991e65e2e5de87ec4",
       "version_major": 2,
       "version_minor": 0
      },
      "text/plain": [
       "Loading S:   0%|          | 0/698 [00:00<?, ?it/s]"
      ]
     },
     "metadata": {},
     "output_type": "display_data"
    },
    {
     "data": {
      "application/vnd.jupyter.widget-view+json": {
       "model_id": "0c050840fa1b4e29b442c7599321bdf5",
       "version_major": 2,
       "version_minor": 0
      },
      "text/plain": [
       "Loading T:   0%|          | 0/698 [00:00<?, ?it/s]"
      ]
     },
     "metadata": {},
     "output_type": "display_data"
    },
    {
     "data": {
      "application/vnd.jupyter.widget-view+json": {
       "model_id": "f271019fa22249fa84473ecad390f66e",
       "version_major": 2,
       "version_minor": 0
      },
      "text/plain": [
       "Loading U:   0%|          | 0/698 [00:00<?, ?it/s]"
      ]
     },
     "metadata": {},
     "output_type": "display_data"
    },
    {
     "data": {
      "application/vnd.jupyter.widget-view+json": {
       "model_id": "d35c53bcda364a8da0aaa575122788b2",
       "version_major": 2,
       "version_minor": 0
      },
      "text/plain": [
       "Loading V:   0%|          | 0/698 [00:00<?, ?it/s]"
      ]
     },
     "metadata": {},
     "output_type": "display_data"
    },
    {
     "data": {
      "application/vnd.jupyter.widget-view+json": {
       "model_id": "ffe709ab9cde4131a50bb87998254f56",
       "version_major": 2,
       "version_minor": 0
      },
      "text/plain": [
       "Loading W:   0%|          | 0/698 [00:00<?, ?it/s]"
      ]
     },
     "metadata": {},
     "output_type": "display_data"
    },
    {
     "data": {
      "application/vnd.jupyter.widget-view+json": {
       "model_id": "a5f51e39541942c782df5f0666f07f9d",
       "version_major": 2,
       "version_minor": 0
      },
      "text/plain": [
       "Loading X:   0%|          | 0/698 [00:00<?, ?it/s]"
      ]
     },
     "metadata": {},
     "output_type": "display_data"
    },
    {
     "data": {
      "application/vnd.jupyter.widget-view+json": {
       "model_id": "96ad8fa8fac54f86945dd7c853c308bc",
       "version_major": 2,
       "version_minor": 0
      },
      "text/plain": [
       "Loading Y:   0%|          | 0/698 [00:00<?, ?it/s]"
      ]
     },
     "metadata": {},
     "output_type": "display_data"
    },
    {
     "data": {
      "application/vnd.jupyter.widget-view+json": {
       "model_id": "a2cdf224efd54519aca8a6fe4aff2941",
       "version_major": 2,
       "version_minor": 0
      },
      "text/plain": [
       "Loading Z:   0%|          | 0/698 [00:00<?, ?it/s]"
      ]
     },
     "metadata": {},
     "output_type": "display_data"
    },
    {
     "data": {
      "application/vnd.jupyter.widget-view+json": {
       "model_id": "93e38d7b38414454b1b314100fe17e21",
       "version_major": 2,
       "version_minor": 0
      },
      "text/plain": [
       "Loading manual:   0%|          | 0/35 [00:00<?, ?it/s]"
      ]
     },
     "metadata": {},
     "output_type": "display_data"
    },
    {
     "data": {
      "application/vnd.jupyter.widget-view+json": {
       "model_id": "d6bc1f229def446f8a147c5d0dbfc240",
       "version_major": 2,
       "version_minor": 0
      },
      "text/plain": [
       "Loading 0:   0%|          | 0/30 [00:00<?, ?it/s]"
      ]
     },
     "metadata": {},
     "output_type": "display_data"
    },
    {
     "data": {
      "application/vnd.jupyter.widget-view+json": {
       "model_id": "fd0842470cac4cd68189e2185a2d9590",
       "version_major": 2,
       "version_minor": 0
      },
      "text/plain": [
       "Loading 1:   0%|          | 0/30 [00:00<?, ?it/s]"
      ]
     },
     "metadata": {},
     "output_type": "display_data"
    },
    {
     "data": {
      "application/vnd.jupyter.widget-view+json": {
       "model_id": "8eaf1f8c68b9466abf16b741eacba8e5",
       "version_major": 2,
       "version_minor": 0
      },
      "text/plain": [
       "Loading 2:   0%|          | 0/30 [00:00<?, ?it/s]"
      ]
     },
     "metadata": {},
     "output_type": "display_data"
    },
    {
     "data": {
      "application/vnd.jupyter.widget-view+json": {
       "model_id": "f2b5e5fa97c84b57a35165694bc3d78c",
       "version_major": 2,
       "version_minor": 0
      },
      "text/plain": [
       "Loading 3:   0%|          | 0/30 [00:00<?, ?it/s]"
      ]
     },
     "metadata": {},
     "output_type": "display_data"
    },
    {
     "data": {
      "application/vnd.jupyter.widget-view+json": {
       "model_id": "d5fd2a1bb6754c4c853611447d56ba29",
       "version_major": 2,
       "version_minor": 0
      },
      "text/plain": [
       "Loading 4:   0%|          | 0/30 [00:00<?, ?it/s]"
      ]
     },
     "metadata": {},
     "output_type": "display_data"
    },
    {
     "data": {
      "application/vnd.jupyter.widget-view+json": {
       "model_id": "31734bdb15114557938ffad2734b6527",
       "version_major": 2,
       "version_minor": 0
      },
      "text/plain": [
       "Loading 5:   0%|          | 0/30 [00:00<?, ?it/s]"
      ]
     },
     "metadata": {},
     "output_type": "display_data"
    },
    {
     "data": {
      "application/vnd.jupyter.widget-view+json": {
       "model_id": "062c7beb3b034c0698a99e84c54ea71f",
       "version_major": 2,
       "version_minor": 0
      },
      "text/plain": [
       "Loading 6:   0%|          | 0/30 [00:00<?, ?it/s]"
      ]
     },
     "metadata": {},
     "output_type": "display_data"
    },
    {
     "data": {
      "application/vnd.jupyter.widget-view+json": {
       "model_id": "1fae7e5993b448c18460851784636d3c",
       "version_major": 2,
       "version_minor": 0
      },
      "text/plain": [
       "Loading 7:   0%|          | 0/30 [00:00<?, ?it/s]"
      ]
     },
     "metadata": {},
     "output_type": "display_data"
    },
    {
     "data": {
      "application/vnd.jupyter.widget-view+json": {
       "model_id": "fb67d5308a1b4b18a1a3e263ba603dcd",
       "version_major": 2,
       "version_minor": 0
      },
      "text/plain": [
       "Loading 8:   0%|          | 0/30 [00:00<?, ?it/s]"
      ]
     },
     "metadata": {},
     "output_type": "display_data"
    },
    {
     "data": {
      "application/vnd.jupyter.widget-view+json": {
       "model_id": "9e71b813e91c4859a10b618635eedaf3",
       "version_major": 2,
       "version_minor": 0
      },
      "text/plain": [
       "Loading 9:   0%|          | 0/30 [00:00<?, ?it/s]"
      ]
     },
     "metadata": {},
     "output_type": "display_data"
    },
    {
     "data": {
      "application/vnd.jupyter.widget-view+json": {
       "model_id": "08dc622e2f954028a1208c5d3a281578",
       "version_major": 2,
       "version_minor": 0
      },
      "text/plain": [
       "Loading A:   0%|          | 0/30 [00:00<?, ?it/s]"
      ]
     },
     "metadata": {},
     "output_type": "display_data"
    },
    {
     "data": {
      "application/vnd.jupyter.widget-view+json": {
       "model_id": "da450cf0a23e4458846033266b15e6cf",
       "version_major": 2,
       "version_minor": 0
      },
      "text/plain": [
       "Loading B:   0%|          | 0/30 [00:00<?, ?it/s]"
      ]
     },
     "metadata": {},
     "output_type": "display_data"
    },
    {
     "data": {
      "application/vnd.jupyter.widget-view+json": {
       "model_id": "06ed15237416434cb46a82048db5a9d9",
       "version_major": 2,
       "version_minor": 0
      },
      "text/plain": [
       "Loading C:   0%|          | 0/30 [00:00<?, ?it/s]"
      ]
     },
     "metadata": {},
     "output_type": "display_data"
    },
    {
     "data": {
      "application/vnd.jupyter.widget-view+json": {
       "model_id": "24d6e6e2abd84ecea6b4e26b7f1ffb94",
       "version_major": 2,
       "version_minor": 0
      },
      "text/plain": [
       "Loading D:   0%|          | 0/30 [00:00<?, ?it/s]"
      ]
     },
     "metadata": {},
     "output_type": "display_data"
    },
    {
     "data": {
      "application/vnd.jupyter.widget-view+json": {
       "model_id": "fcebfe33ea5e4809a320bc4f56b42649",
       "version_major": 2,
       "version_minor": 0
      },
      "text/plain": [
       "Loading E:   0%|          | 0/30 [00:00<?, ?it/s]"
      ]
     },
     "metadata": {},
     "output_type": "display_data"
    },
    {
     "data": {
      "application/vnd.jupyter.widget-view+json": {
       "model_id": "b6f2fbe6ddfd4f7dbdc86b740500807b",
       "version_major": 2,
       "version_minor": 0
      },
      "text/plain": [
       "Loading F:   0%|          | 0/30 [00:00<?, ?it/s]"
      ]
     },
     "metadata": {},
     "output_type": "display_data"
    },
    {
     "data": {
      "application/vnd.jupyter.widget-view+json": {
       "model_id": "a313b78968b14368a464503ad981cc9d",
       "version_major": 2,
       "version_minor": 0
      },
      "text/plain": [
       "Loading G:   0%|          | 0/30 [00:00<?, ?it/s]"
      ]
     },
     "metadata": {},
     "output_type": "display_data"
    },
    {
     "data": {
      "application/vnd.jupyter.widget-view+json": {
       "model_id": "97bf5fc6d00e426a8874e39520d10cd0",
       "version_major": 2,
       "version_minor": 0
      },
      "text/plain": [
       "Loading H:   0%|          | 0/30 [00:00<?, ?it/s]"
      ]
     },
     "metadata": {},
     "output_type": "display_data"
    },
    {
     "data": {
      "application/vnd.jupyter.widget-view+json": {
       "model_id": "3ade0959790740bda729c242a1865111",
       "version_major": 2,
       "version_minor": 0
      },
      "text/plain": [
       "Loading I:   0%|          | 0/30 [00:00<?, ?it/s]"
      ]
     },
     "metadata": {},
     "output_type": "display_data"
    },
    {
     "data": {
      "application/vnd.jupyter.widget-view+json": {
       "model_id": "5215a9d838324065996a827b7fbf1d06",
       "version_major": 2,
       "version_minor": 0
      },
      "text/plain": [
       "Loading J:   0%|          | 0/30 [00:00<?, ?it/s]"
      ]
     },
     "metadata": {},
     "output_type": "display_data"
    },
    {
     "data": {
      "application/vnd.jupyter.widget-view+json": {
       "model_id": "9297a0ac1377457bb0f5f174cb2e4df6",
       "version_major": 2,
       "version_minor": 0
      },
      "text/plain": [
       "Loading K:   0%|          | 0/30 [00:00<?, ?it/s]"
      ]
     },
     "metadata": {},
     "output_type": "display_data"
    },
    {
     "data": {
      "application/vnd.jupyter.widget-view+json": {
       "model_id": "31ac3a6902b14b2b87962efd736a7be9",
       "version_major": 2,
       "version_minor": 0
      },
      "text/plain": [
       "Loading L:   0%|          | 0/30 [00:00<?, ?it/s]"
      ]
     },
     "metadata": {},
     "output_type": "display_data"
    },
    {
     "data": {
      "application/vnd.jupyter.widget-view+json": {
       "model_id": "a7e2131d60ac422e86bc7d4fefb8d1a4",
       "version_major": 2,
       "version_minor": 0
      },
      "text/plain": [
       "Loading M:   0%|          | 0/30 [00:00<?, ?it/s]"
      ]
     },
     "metadata": {},
     "output_type": "display_data"
    },
    {
     "data": {
      "application/vnd.jupyter.widget-view+json": {
       "model_id": "6a01ef71b4a241fcad6a56a1c52145e4",
       "version_major": 2,
       "version_minor": 0
      },
      "text/plain": [
       "Loading N:   0%|          | 0/30 [00:00<?, ?it/s]"
      ]
     },
     "metadata": {},
     "output_type": "display_data"
    },
    {
     "data": {
      "application/vnd.jupyter.widget-view+json": {
       "model_id": "ad217f0a01804dff8860af8b7464e946",
       "version_major": 2,
       "version_minor": 0
      },
      "text/plain": [
       "Loading P:   0%|          | 0/30 [00:00<?, ?it/s]"
      ]
     },
     "metadata": {},
     "output_type": "display_data"
    },
    {
     "data": {
      "application/vnd.jupyter.widget-view+json": {
       "model_id": "f001b6f0fd774936882b67577fc05fa2",
       "version_major": 2,
       "version_minor": 0
      },
      "text/plain": [
       "Loading Q:   0%|          | 0/30 [00:00<?, ?it/s]"
      ]
     },
     "metadata": {},
     "output_type": "display_data"
    },
    {
     "data": {
      "application/vnd.jupyter.widget-view+json": {
       "model_id": "385375d4d9ff4fa09d6439ffa6752aa8",
       "version_major": 2,
       "version_minor": 0
      },
      "text/plain": [
       "Loading R:   0%|          | 0/30 [00:00<?, ?it/s]"
      ]
     },
     "metadata": {},
     "output_type": "display_data"
    },
    {
     "data": {
      "application/vnd.jupyter.widget-view+json": {
       "model_id": "291653f7cd3f4fb18ef4961bc7f01cbb",
       "version_major": 2,
       "version_minor": 0
      },
      "text/plain": [
       "Loading S:   0%|          | 0/30 [00:00<?, ?it/s]"
      ]
     },
     "metadata": {},
     "output_type": "display_data"
    },
    {
     "data": {
      "application/vnd.jupyter.widget-view+json": {
       "model_id": "904ae2f21bbc4df2a22b5c3d0bd33fc1",
       "version_major": 2,
       "version_minor": 0
      },
      "text/plain": [
       "Loading T:   0%|          | 0/30 [00:00<?, ?it/s]"
      ]
     },
     "metadata": {},
     "output_type": "display_data"
    },
    {
     "data": {
      "application/vnd.jupyter.widget-view+json": {
       "model_id": "3e6929879eba454fb94f316f1d4a42b2",
       "version_major": 2,
       "version_minor": 0
      },
      "text/plain": [
       "Loading U:   0%|          | 0/30 [00:00<?, ?it/s]"
      ]
     },
     "metadata": {},
     "output_type": "display_data"
    },
    {
     "data": {
      "application/vnd.jupyter.widget-view+json": {
       "model_id": "8611e1f08f214631a0e36492630bc553",
       "version_major": 2,
       "version_minor": 0
      },
      "text/plain": [
       "Loading V:   0%|          | 0/30 [00:00<?, ?it/s]"
      ]
     },
     "metadata": {},
     "output_type": "display_data"
    },
    {
     "data": {
      "application/vnd.jupyter.widget-view+json": {
       "model_id": "0c3a40d64a5a49bbbdb712b8d1f08eb4",
       "version_major": 2,
       "version_minor": 0
      },
      "text/plain": [
       "Loading W:   0%|          | 0/30 [00:00<?, ?it/s]"
      ]
     },
     "metadata": {},
     "output_type": "display_data"
    },
    {
     "data": {
      "application/vnd.jupyter.widget-view+json": {
       "model_id": "95b4996679264ed19b31d57f1e2233a3",
       "version_major": 2,
       "version_minor": 0
      },
      "text/plain": [
       "Loading X:   0%|          | 0/30 [00:00<?, ?it/s]"
      ]
     },
     "metadata": {},
     "output_type": "display_data"
    },
    {
     "data": {
      "application/vnd.jupyter.widget-view+json": {
       "model_id": "57250ffc88d4462ba6a620254aae5a37",
       "version_major": 2,
       "version_minor": 0
      },
      "text/plain": [
       "Loading Y:   0%|          | 0/30 [00:00<?, ?it/s]"
      ]
     },
     "metadata": {},
     "output_type": "display_data"
    },
    {
     "data": {
      "application/vnd.jupyter.widget-view+json": {
       "model_id": "716b8ab3a1e844009d56e5b577c28921",
       "version_major": 2,
       "version_minor": 0
      },
      "text/plain": [
       "Loading Z:   0%|          | 0/30 [00:00<?, ?it/s]"
      ]
     },
     "metadata": {},
     "output_type": "display_data"
    },
    {
     "name": "stdout",
     "output_type": "stream",
     "text": [
      "Data samples: 180840\n",
      "X_train shape: 162756\n",
      "Y_train shape: 162756\n",
      "X_test shape: 18084\n",
      "Y_test shape: 18084\n",
      "Epoch 1/25\n"
     ]
    },
    {
     "name": "stderr",
     "output_type": "stream",
     "text": [
      "2024-03-29 19:22:07.488622: E tensorflow/core/grappler/optimizers/meta_optimizer.cc:961] layout failed: INVALID_ARGUMENT: Size of values 0 does not match size of permutation 4 @ fanin shape insequential/dropout/dropout/SelectV2-2-TransposeNHWCToNCHW-LayoutOptimizer\n",
      "2024-03-29 19:22:07.853579: I external/local_xla/xla/stream_executor/cuda/cuda_dnn.cc:454] Loaded cuDNN version 8906\n",
      "2024-03-29 19:22:07.897165: I external/local_tsl/tsl/platform/default/subprocess.cc:304] Start cannot spawn child process: No such file or directory\n",
      "2024-03-29 19:22:08.167811: W external/local_tsl/tsl/framework/bfc_allocator.cc:296] Allocator (GPU_0_bfc) ran out of memory trying to allocate 1.03GiB with freed_by_count=0. The caller indicates that this is not a failure, but this may mean that there could be performance gains if more memory were available.\n",
      "2024-03-29 19:22:08.315437: W external/local_tsl/tsl/framework/bfc_allocator.cc:296] Allocator (GPU_0_bfc) ran out of memory trying to allocate 1.03GiB with freed_by_count=0. The caller indicates that this is not a failure, but this may mean that there could be performance gains if more memory were available.\n",
      "2024-03-29 19:22:08.342254: W external/local_tsl/tsl/framework/bfc_allocator.cc:296] Allocator (GPU_0_bfc) ran out of memory trying to allocate 274.50MiB with freed_by_count=0. The caller indicates that this is not a failure, but this may mean that there could be performance gains if more memory were available.\n",
      "2024-03-29 19:22:08.342273: W tensorflow/core/kernels/gpu_utils.cc:54] Failed to allocate memory for convolution redzone checking; skipping this check. This is benign and only means that we won't check cudnn for out-of-bounds reads and writes. This message will only be printed once.\n",
      "2024-03-29 19:22:08.364067: W external/local_tsl/tsl/framework/bfc_allocator.cc:296] Allocator (GPU_0_bfc) ran out of memory trying to allocate 908.12MiB with freed_by_count=0. The caller indicates that this is not a failure, but this may mean that there could be performance gains if more memory were available.\n",
      "2024-03-29 19:22:08.364097: W external/local_tsl/tsl/framework/bfc_allocator.cc:296] Allocator (GPU_0_bfc) ran out of memory trying to allocate 254.00MiB with freed_by_count=0. The caller indicates that this is not a failure, but this may mean that there could be performance gains if more memory were available.\n",
      "2024-03-29 19:22:08.364106: W external/local_tsl/tsl/framework/bfc_allocator.cc:296] Allocator (GPU_0_bfc) ran out of memory trying to allocate 412.78MiB with freed_by_count=0. The caller indicates that this is not a failure, but this may mean that there could be performance gains if more memory were available.\n",
      "2024-03-29 19:22:08.364115: W external/local_tsl/tsl/framework/bfc_allocator.cc:296] Allocator (GPU_0_bfc) ran out of memory trying to allocate 412.78MiB with freed_by_count=0. The caller indicates that this is not a failure, but this may mean that there could be performance gains if more memory were available.\n",
      "2024-03-29 19:22:08.380012: W external/local_tsl/tsl/framework/bfc_allocator.cc:296] Allocator (GPU_0_bfc) ran out of memory trying to allocate 412.78MiB with freed_by_count=0. The caller indicates that this is not a failure, but this may mean that there could be performance gains if more memory were available.\n",
      "2024-03-29 19:22:08.450707: W external/local_tsl/tsl/framework/bfc_allocator.cc:296] Allocator (GPU_0_bfc) ran out of memory trying to allocate 412.78MiB with freed_by_count=0. The caller indicates that this is not a failure, but this may mean that there could be performance gains if more memory were available.\n",
      "2024-03-29 19:22:08.494200: W external/local_tsl/tsl/framework/bfc_allocator.cc:296] Allocator (GPU_0_bfc) ran out of memory trying to allocate 412.78MiB with freed_by_count=0. The caller indicates that this is not a failure, but this may mean that there could be performance gains if more memory were available.\n",
      "2024-03-29 19:22:08.929285: I external/local_tsl/tsl/platform/default/subprocess.cc:304] Start cannot spawn child process: No such file or directory\n",
      "2024-03-29 19:22:09.249253: I external/local_xla/xla/service/service.cc:168] XLA service 0x7bc144d70e20 initialized for platform CUDA (this does not guarantee that XLA will be used). Devices:\n",
      "2024-03-29 19:22:09.249270: I external/local_xla/xla/service/service.cc:176]   StreamExecutor device (0): NVIDIA GeForce RTX 3050 Ti Laptop GPU, Compute Capability 8.6\n",
      "2024-03-29 19:22:09.257209: I tensorflow/compiler/mlir/tensorflow/utils/dump_mlir_util.cc:269] disabling MLIR crash reproducer, set env var `MLIR_CRASH_REPRODUCER_DIRECTORY` to enable.\n",
      "WARNING: All log messages before absl::InitializeLog() is called are written to STDERR\n",
      "I0000 00:00:1711732929.319465  169598 device_compiler.h:186] Compiled cluster using XLA!  This line is logged at most once for the lifetime of the process.\n"
     ]
    },
    {
     "name": "stdout",
     "output_type": "stream",
     "text": [
      "1018/1018 [==============================] - 163s 146ms/step - loss: 0.4645 - accuracy: 0.8680 - val_loss: 0.0825 - val_accuracy: 0.9775\n",
      "Epoch 2/25\n",
      "1018/1018 [==============================] - 154s 151ms/step - loss: 0.0967 - accuracy: 0.9705 - val_loss: 0.0560 - val_accuracy: 0.9852\n",
      "Epoch 3/25\n",
      "1018/1018 [==============================] - 154s 151ms/step - loss: 0.0615 - accuracy: 0.9812 - val_loss: 0.0466 - val_accuracy: 0.9869\n",
      "Epoch 4/25\n",
      "1018/1018 [==============================] - 154s 151ms/step - loss: 0.0442 - accuracy: 0.9865 - val_loss: 0.0443 - val_accuracy: 0.9881\n",
      "Epoch 5/25\n",
      "1018/1018 [==============================] - 153s 151ms/step - loss: 0.0354 - accuracy: 0.9885 - val_loss: 0.0426 - val_accuracy: 0.9893\n",
      "Epoch 6/25\n",
      "1018/1018 [==============================] - 153s 151ms/step - loss: 0.0297 - accuracy: 0.9906 - val_loss: 0.0449 - val_accuracy: 0.9896\n",
      "Epoch 7/25\n",
      "1018/1018 [==============================] - 153s 150ms/step - loss: 0.0265 - accuracy: 0.9918 - val_loss: 0.0488 - val_accuracy: 0.9884\n",
      "Epoch 8/25\n",
      "1018/1018 [==============================] - 153s 150ms/step - loss: 0.0229 - accuracy: 0.9928 - val_loss: 0.0488 - val_accuracy: 0.9889\n",
      "Epoch 9/25\n",
      "1018/1018 [==============================] - 153s 150ms/step - loss: 0.0206 - accuracy: 0.9935 - val_loss: 0.0536 - val_accuracy: 0.9899\n",
      "Epoch 10/25\n",
      "1017/1018 [============================>.] - ETA: 0s - loss: 0.0176 - accuracy: 0.9945Restoring model weights from the end of the best epoch: 5.\n",
      "1018/1018 [==============================] - 153s 150ms/step - loss: 0.0176 - accuracy: 0.9945 - val_loss: 0.0475 - val_accuracy: 0.9907\n",
      "Epoch 10: early stopping\n"
     ]
    },
    {
     "data": {
      "image/png": "[encoded data removed]",
      "text/plain": [
       "<Figure size 1400x500 with 2 Axes>"
      ]
     },
     "metadata": {},
     "output_type": "display_data"
    },
    {
     "name": "stdout",
     "output_type": "stream",
     "text": [
      "Saved model v4 to disk\n"
     ]
    },
    {
     "ename": "",
     "evalue": "",
     "output_type": "error",
     "traceback": [
      "\u001b[1;31mThe Kernel crashed while executing code in the current cell or a previous cell. \n",
      "\u001b[1;31mPlease review the code in the cell(s) to identify a possible cause of the failure. \n",
      "\u001b[1;31mClick <a href='https://aka.ms/vscodeJupyterKernelCrash'>here</a> for more info. \n",
      "\u001b[1;31mView Jupyter <a href='command:jupyter.viewOutput'>log</a> for further details."
     ]
    }
   ],
   "source": [
    "model = create_model()\n",
    "history = train_model(model, learning_rate=0.001, batch_size=128, epochs=25, patience=5)\n",
    "plot_model(history, 4, save=True)\n",
    "save_model(model, 4)"
   ]
  }
 ],
 "metadata": {
  "kernelspec": {
   "display_name": "Python 3",
   "language": "python",
   "name": "python3"
  },
  "language_info": {
   "codemirror_mode": {
    "name": "ipython",
    "version": 3
   },
   "file_extension": ".py",
   "mimetype": "text/x-python",
   "name": "python",
   "nbconvert_exporter": "python",
   "pygments_lexer": "ipython3",
   "version": "3.11.8"
  }
 },
 "nbformat": 4,
 "nbformat_minor": 2
}
