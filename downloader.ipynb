{
 "cells": [
  {
   "cell_type": "code",
   "execution_count": 2,
   "metadata": {},
   "outputs": [],
   "source": [
    "from settings import *\n",
    "\n",
    "from roboflow import Roboflow\n",
    "import opendatasets as od\n",
    "import os\n",
    "import shutil\n",
    "import requests\n",
    "import tarfile"
   ]
  },
  {
   "cell_type": "code",
   "execution_count": 7,
   "metadata": {},
   "outputs": [],
   "source": [
    "info = {\"name\":\"License-Plate-Dataset\", \"url\":\"https://universe.roboflow.com/augmented-startups/vehicle-registration-plates-trudk/dataset/2\"}\n",
    "if not os.path.exists(f\"{YOLO_DATASETS_DIR}/{info['name']}\"):\n",
    "    rf = Roboflow(api_key=ROBOFLOW_API_KEY)\n",
    "    project = rf.workspace(\"augmented-startups\").project(\"vehicle-registration-plates-trudk\")\n",
    "    version = project.version(2)\n",
    "    dataset = version.download(\"yolov8\")\n",
    "\n",
    "    # check if it is done and move to YOLO_DATASETS_DIR\n",
    "    if os.path.exists(dataset.location):\n",
    "        print(f\"Downloaded {info['name']} at {dataset.location}\")\n",
    "        #move to YOLO_DATASETS_DIR\n",
    "        print(f\"Moving to {YOLO_DATASETS_DIR}\")\n",
    "        # dont overwrite if it exists\n",
    "\n",
    "        shutil.move(dataset.location, f\"{YOLO_DATASETS_DIR}/{info['name']}\")"
   ]
  },
  {
   "cell_type": "code",
   "execution_count": 3,
   "metadata": {},
   "outputs": [
    {
     "name": "stdout",
     "output_type": "stream",
     "text": [
      "Downloaded EnglishFnt at Datasets/OCR/EnglishFnt.tgz\n"
     ]
    }
   ],
   "source": [
    "# EnglishFnt\n",
    "info = {\"name\":\"EnglishFnt\", \"secondary_name\":\"English\",\"url\":\"https://web.archive.org/web/20160430061540/http://www.ee.surrey.ac.uk/CVSSP/demos/chars74k/EnglishFnt.tgz\"}\n",
    "if not os.path.exists(f\"{OCR_DATASETS_DIR}/{info['name']}/{info['secondary_name']}\"):\n",
    "    r = requests.get(info[\"url\"], stream=True)\n",
    "    with open(f\"{OCR_DATASETS_DIR}/{info['name']}.tgz\", \"wb\") as f:\n",
    "        shutil.copyfileobj(r.raw, f)\n",
    "    print(f\"Downloaded {info['name']} at {OCR_DATASETS_DIR}/{info['name']}.tgz\")\n",
    "\n",
    "    # extract\n",
    "    tar = tarfile.open(f\"{OCR_DATASETS_DIR}/{info['name']}.tgz\")\n",
    "    tar.extractall(f\"{OCR_DATASETS_DIR}/{info['name']}\")\n",
    "    tar.close()\n",
    "\n",
    "    # remove\n",
    "    os.remove(f\"{OCR_DATASETS_DIR}/{info['name']}.tgz\")"
   ]
  },
  {
   "cell_type": "code",
   "execution_count": 18,
   "metadata": {},
   "outputs": [
    {
     "name": "stdout",
     "output_type": "stream",
     "text": [
      "Downloading license-plate-digits-classification-dataset.zip to Datasets/OCR/CNN_Letters/license-plate-digits-classification-dataset\n"
     ]
    },
    {
     "name": "stderr",
     "output_type": "stream",
     "text": [
      "  6%|▌         | 3.00M/52.6M [00:00<00:11, 4.71MB/s]"
     ]
    },
    {
     "name": "stderr",
     "output_type": "stream",
     "text": [
      "100%|██████████| 52.6M/52.6M [00:05<00:00, 9.43MB/s]\n"
     ]
    },
    {
     "name": "stdout",
     "output_type": "stream",
     "text": [
      "\n"
     ]
    }
   ],
   "source": [
    "# CNN_Letters Dataset\n",
    "info = {\"name\":\"CNN_Letters\",\"secondary_name\":\"license-plate-digits-classification-dataset\",\"url\":\"https://www.kaggle.com/datasets/aladdinss/license-plate-digits-classification-dataset\"}\n",
    "if not os.path.exists(f\"{OCR_DATASETS_DIR}/{info['name']}/{info['secondary_name']}\"):\n",
    "    od.download(info['url'], f\"{OCR_DATASETS_DIR}/{info['name']}/{info['secondary_name']}\")"
   ]
  }
 ],
 "metadata": {
  "kernelspec": {
   "display_name": ".venv",
   "language": "python",
   "name": "python3"
  },
  "language_info": {
   "codemirror_mode": {
    "name": "ipython",
    "version": 3
   },
   "file_extension": ".py",
   "mimetype": "text/x-python",
   "name": "python",
   "nbconvert_exporter": "python",
   "pygments_lexer": "ipython3",
   "version": "3.11.8"
  }
 },
 "nbformat": 4,
 "nbformat_minor": 2
}
