{
    "cells": [
        {
            "cell_type": "code",
            "execution_count": 1,
            "metadata": {},
            "outputs": [
                {
                    "name": "stderr",
                    "output_type": "stream",
                    "text": [
                        "2024-03-25 00:16:27.149970: I tensorflow/core/util/port.cc:113] oneDNN custom operations are on. You may see slightly different numerical results due to floating-point round-off errors from different computation orders. To turn them off, set the environment variable `TF_ENABLE_ONEDNN_OPTS=0`.\n",
                        "2024-03-25 00:16:27.174291: E external/local_xla/xla/stream_executor/cuda/cuda_dnn.cc:9261] Unable to register cuDNN factory: Attempting to register factory for plugin cuDNN when one has already been registered\n",
                        "2024-03-25 00:16:27.174314: E external/local_xla/xla/stream_executor/cuda/cuda_fft.cc:607] Unable to register cuFFT factory: Attempting to register factory for plugin cuFFT when one has already been registered\n",
                        "2024-03-25 00:16:27.174974: E external/local_xla/xla/stream_executor/cuda/cuda_blas.cc:1515] Unable to register cuBLAS factory: Attempting to register factory for plugin cuBLAS when one has already been registered\n",
                        "2024-03-25 00:16:27.179340: I tensorflow/core/platform/cpu_feature_guard.cc:182] This TensorFlow binary is optimized to use available CPU instructions in performance-critical operations.\n",
                        "To enable the following instructions: AVX2 AVX_VNNI FMA, in other operations, rebuild TensorFlow with the appropriate compiler flags.\n",
                        "2024-03-25 00:16:27.622029: W tensorflow/compiler/tf2tensorrt/utils/py_utils.cc:38] TF-TRT Warning: Could not find TensorRT\n"
                    ]
                }
            ],
            "source": [
                "import numpy as np\n",
                "import tensorflow as tf\n",
                "from keras.models import Sequential\n",
                "from keras.layers import Dense, Conv2D, MaxPooling2D, Flatten, Dropout, BatchNormalization\n",
                "from keras.losses import categorical_crossentropy\n",
                "from keras.optimizers import Adam\n",
                "import keras\n",
                "\n",
                "from settings import *\n",
                "\n",
                "from utils.general import clean_session, plot_model, split_dataset, scale_dataset, shape_dataset, print_dataset_info\n",
                "from utils.models.ocr import save_model"
            ]
        },
        {
            "cell_type": "code",
            "execution_count": 2,
            "metadata": {},
            "outputs": [],
            "source": [
                "import Datasets.OCR.EnglishFnt.loader as EnglishFnt"
            ]
        },
        {
            "cell_type": "code",
            "execution_count": 3,
            "metadata": {},
            "outputs": [],
            "source": [
                "def create_model():\n",
                "    model = Sequential()\n",
                "    # Signle convolution to extract features\n",
                "\n",
                "    # CNN\n",
                "    model.add(Conv2D(32, kernel_size=(3, 3), activation='relu',input_shape=INPUT_SHAPE))\n",
                "    model.add(Conv2D(64, kernel_size=(3, 3), activation='relu'))\n",
                "    model.add(Conv2D(128, kernel_size=(3, 3), activation='relu'))\n",
                "\n",
                "    # Pooling\n",
                "    model.add(MaxPooling2D(pool_size=(2, 2), strides=2, padding='same'))\n",
                "\n",
                "    # Drop some data points randomly (mainly for caligraphy reasons)\n",
                "    model.add(Dropout(0.25))\n",
                "\n",
                "    # Flattening before feeding to FCNN\n",
                "    model.add(Flatten())\n",
                "\n",
                "    # FCNN\n",
                "    # use softmax since we are doing classification (1 node for each possible output)\n",
                "    model.add(Dense(128, activation='relu'))\n",
                "    model.add(Dropout(0.5))\n",
                "    model.add(Dense(len(COMBINED_CHARS), activation='softmax'))\n",
                "\n",
                "    model.summary()\n",
                "\n",
                "    return model\n"
            ]
        },
        {
            "cell_type": "code",
            "execution_count": 4,
            "metadata": {},
            "outputs": [],
            "source": [
                "def train_model(model, learning_rate, batch_size, epochs):\n",
                "    optimizer = Adam(learning_rate=learning_rate)\n",
                "    model.compile(loss=categorical_crossentropy, optimizer=optimizer, metrics=['accuracy'])\n",
                "\n",
                "    EX_data, EY_data = EnglishFnt.load_dataset()\n",
                "    X_data = EX_data\n",
                "    Y_data = EY_data\n",
                "\n",
                "    X_train, X_test, Y_train, Y_test = split_dataset(X_data, Y_data, test_percent=TEST_PERCENT, random_state=RANDOM_STATE, shuffle=True)\n",
                "    X_train, X_test = shape_dataset(X_train, X_test, input_shape=INPUT_SHAPE)\n",
                "    X_train, X_test = scale_dataset(X_train, X_test, batch_size=batch_size)\n",
                "\n",
                "    print_dataset_info(X_data, X_train, Y_train, X_test, Y_test)\n",
                "\n",
                "    history = model.fit(X_train, Y_train, batch_size=batch_size, epochs=epochs, validation_split=VALIDATION_PERCENT)\n",
                "\n",
                "    return history"
            ]
        },
        {
            "cell_type": "code",
            "execution_count": 5,
            "metadata": {},
            "outputs": [
                {
                    "name": "stdout",
                    "output_type": "stream",
                    "text": [
                        "Model: \"sequential\"\n",
                        "_________________________________________________________________\n",
                        " Layer (type)                Output Shape              Param #   \n",
                        "=================================================================\n",
                        " conv2d (Conv2D)             (None, 98, 48, 32)        320       \n",
                        "                                                                 \n",
                        " conv2d_1 (Conv2D)           (None, 96, 46, 64)        18496     \n",
                        "                                                                 \n",
                        " conv2d_2 (Conv2D)           (None, 94, 44, 128)       73856     \n",
                        "                                                                 \n",
                        " max_pooling2d (MaxPooling2  (None, 47, 22, 128)       0         \n",
                        " D)                                                              \n",
                        "                                                                 \n",
                        " dropout (Dropout)           (None, 47, 22, 128)       0         \n",
                        "                                                                 \n",
                        " flatten (Flatten)           (None, 132352)            0         \n",
                        "                                                                 \n",
                        " dense (Dense)               (None, 128)               16941184  \n",
                        "                                                                 \n",
                        " dropout_1 (Dropout)         (None, 128)               0         \n",
                        "                                                                 \n",
                        " dense_1 (Dense)             (None, 35)                4515      \n",
                        "                                                                 \n",
                        "=================================================================\n",
                        "Total params: 17038371 (65.00 MB)\n",
                        "Trainable params: 17038371 (65.00 MB)\n",
                        "Non-trainable params: 0 (0.00 Byte)\n",
                        "_________________________________________________________________\n"
                    ]
                },
                {
                    "name": "stderr",
                    "output_type": "stream",
                    "text": [
                        "2024-03-25 00:16:28.827078: I external/local_xla/xla/stream_executor/cuda/cuda_executor.cc:901] successful NUMA node read from SysFS had negative value (-1), but there must be at least one NUMA node, so returning NUMA node zero. See more at https://github.com/torvalds/linux/blob/v6.0/Documentation/ABI/testing/sysfs-bus-pci#L344-L355\n",
                        "2024-03-25 00:16:28.854030: I external/local_xla/xla/stream_executor/cuda/cuda_executor.cc:901] successful NUMA node read from SysFS had negative value (-1), but there must be at least one NUMA node, so returning NUMA node zero. See more at https://github.com/torvalds/linux/blob/v6.0/Documentation/ABI/testing/sysfs-bus-pci#L344-L355\n",
                        "2024-03-25 00:16:28.854202: I external/local_xla/xla/stream_executor/cuda/cuda_executor.cc:901] successful NUMA node read from SysFS had negative value (-1), but there must be at least one NUMA node, so returning NUMA node zero. See more at https://github.com/torvalds/linux/blob/v6.0/Documentation/ABI/testing/sysfs-bus-pci#L344-L355\n",
                        "2024-03-25 00:16:28.854916: I external/local_xla/xla/stream_executor/cuda/cuda_executor.cc:901] successful NUMA node read from SysFS had negative value (-1), but there must be at least one NUMA node, so returning NUMA node zero. See more at https://github.com/torvalds/linux/blob/v6.0/Documentation/ABI/testing/sysfs-bus-pci#L344-L355\n",
                        "2024-03-25 00:16:28.855011: I external/local_xla/xla/stream_executor/cuda/cuda_executor.cc:901] successful NUMA node read from SysFS had negative value (-1), but there must be at least one NUMA node, so returning NUMA node zero. See more at https://github.com/torvalds/linux/blob/v6.0/Documentation/ABI/testing/sysfs-bus-pci#L344-L355\n",
                        "2024-03-25 00:16:28.855070: I external/local_xla/xla/stream_executor/cuda/cuda_executor.cc:901] successful NUMA node read from SysFS had negative value (-1), but there must be at least one NUMA node, so returning NUMA node zero. See more at https://github.com/torvalds/linux/blob/v6.0/Documentation/ABI/testing/sysfs-bus-pci#L344-L355\n",
                        "2024-03-25 00:16:28.912293: I external/local_xla/xla/stream_executor/cuda/cuda_executor.cc:901] successful NUMA node read from SysFS had negative value (-1), but there must be at least one NUMA node, so returning NUMA node zero. See more at https://github.com/torvalds/linux/blob/v6.0/Documentation/ABI/testing/sysfs-bus-pci#L344-L355\n",
                        "2024-03-25 00:16:28.912425: I external/local_xla/xla/stream_executor/cuda/cuda_executor.cc:901] successful NUMA node read from SysFS had negative value (-1), but there must be at least one NUMA node, so returning NUMA node zero. See more at https://github.com/torvalds/linux/blob/v6.0/Documentation/ABI/testing/sysfs-bus-pci#L344-L355\n",
                        "2024-03-25 00:16:28.912498: I external/local_xla/xla/stream_executor/cuda/cuda_executor.cc:901] successful NUMA node read from SysFS had negative value (-1), but there must be at least one NUMA node, so returning NUMA node zero. See more at https://github.com/torvalds/linux/blob/v6.0/Documentation/ABI/testing/sysfs-bus-pci#L344-L355\n",
                        "2024-03-25 00:16:28.912556: I tensorflow/core/common_runtime/gpu/gpu_device.cc:1929] Created device /job:localhost/replica:0/task:0/device:GPU:0 with 2093 MB memory:  -> device: 0, name: NVIDIA GeForce RTX 3050 Ti Laptop GPU, pci bus id: 0000:01:00.0, compute capability: 8.6\n"
                    ]
                },
                {
                    "data": {
                        "application/vnd.jupyter.widget-view+json": {
                            "model_id": "47a12378f97d45a7b8d1a50d67541b8f",
                            "version_major": 2,
                            "version_minor": 0
                        },
                        "text/plain": [
                            "Loading EnglishFnt:   0%|          | 0/35 [00:00<?, ?it/s]"
                        ]
                    },
                    "metadata": {},
                    "output_type": "display_data"
                },
                {
                    "data": {
                        "application/vnd.jupyter.widget-view+json": {
                            "model_id": "fcc67af6d68a437d94d06818453474b1",
                            "version_major": 2,
                            "version_minor": 0
                        },
                        "text/plain": [
                            "Loading 0:   0%|          | 0/1015 [00:00<?, ?it/s]"
                        ]
                    },
                    "metadata": {},
                    "output_type": "display_data"
                },
                {
                    "data": {
                        "application/vnd.jupyter.widget-view+json": {
                            "model_id": "f6c6823a478042c88a555567298910c9",
                            "version_major": 2,
                            "version_minor": 0
                        },
                        "text/plain": [
                            "Loading 1:   0%|          | 0/1015 [00:00<?, ?it/s]"
                        ]
                    },
                    "metadata": {},
                    "output_type": "display_data"
                },
                {
                    "data": {
                        "application/vnd.jupyter.widget-view+json": {
                            "model_id": "f9e452af645540c687a7506d28624b27",
                            "version_major": 2,
                            "version_minor": 0
                        },
                        "text/plain": [
                            "Loading 2:   0%|          | 0/1015 [00:00<?, ?it/s]"
                        ]
                    },
                    "metadata": {},
                    "output_type": "display_data"
                },
                {
                    "data": {
                        "application/vnd.jupyter.widget-view+json": {
                            "model_id": "16218ea03a29428b99ae1e35d5dc73a1",
                            "version_major": 2,
                            "version_minor": 0
                        },
                        "text/plain": [
                            "Loading 3:   0%|          | 0/1015 [00:00<?, ?it/s]"
                        ]
                    },
                    "metadata": {},
                    "output_type": "display_data"
                },
                {
                    "data": {
                        "application/vnd.jupyter.widget-view+json": {
                            "model_id": "1403d42d27cf434fb8b8930c25916457",
                            "version_major": 2,
                            "version_minor": 0
                        },
                        "text/plain": [
                            "Loading 4:   0%|          | 0/1015 [00:00<?, ?it/s]"
                        ]
                    },
                    "metadata": {},
                    "output_type": "display_data"
                },
                {
                    "data": {
                        "application/vnd.jupyter.widget-view+json": {
                            "model_id": "851bded9baf744a7865b7b44a99dee45",
                            "version_major": 2,
                            "version_minor": 0
                        },
                        "text/plain": [
                            "Loading 5:   0%|          | 0/1015 [00:00<?, ?it/s]"
                        ]
                    },
                    "metadata": {},
                    "output_type": "display_data"
                },
                {
                    "data": {
                        "application/vnd.jupyter.widget-view+json": {
                            "model_id": "8e5d6f5b235b4776b9e611e31d4e090b",
                            "version_major": 2,
                            "version_minor": 0
                        },
                        "text/plain": [
                            "Loading 6:   0%|          | 0/1015 [00:00<?, ?it/s]"
                        ]
                    },
                    "metadata": {},
                    "output_type": "display_data"
                },
                {
                    "data": {
                        "application/vnd.jupyter.widget-view+json": {
                            "model_id": "c09ae0d13f4f4f62ae194b8caa74f755",
                            "version_major": 2,
                            "version_minor": 0
                        },
                        "text/plain": [
                            "Loading 7:   0%|          | 0/1015 [00:00<?, ?it/s]"
                        ]
                    },
                    "metadata": {},
                    "output_type": "display_data"
                },
                {
                    "data": {
                        "application/vnd.jupyter.widget-view+json": {
                            "model_id": "02c7c2ce812948a6ac17a42ae9c8e8a2",
                            "version_major": 2,
                            "version_minor": 0
                        },
                        "text/plain": [
                            "Loading 8:   0%|          | 0/1015 [00:00<?, ?it/s]"
                        ]
                    },
                    "metadata": {},
                    "output_type": "display_data"
                },
                {
                    "data": {
                        "application/vnd.jupyter.widget-view+json": {
                            "model_id": "6e01c732be74472dafe2661b394d31a7",
                            "version_major": 2,
                            "version_minor": 0
                        },
                        "text/plain": [
                            "Loading 9:   0%|          | 0/1015 [00:00<?, ?it/s]"
                        ]
                    },
                    "metadata": {},
                    "output_type": "display_data"
                },
                {
                    "data": {
                        "application/vnd.jupyter.widget-view+json": {
                            "model_id": "31d0f1e2fed1438d9528f591aa366661",
                            "version_major": 2,
                            "version_minor": 0
                        },
                        "text/plain": [
                            "Loading A:   0%|          | 0/1015 [00:00<?, ?it/s]"
                        ]
                    },
                    "metadata": {},
                    "output_type": "display_data"
                },
                {
                    "data": {
                        "application/vnd.jupyter.widget-view+json": {
                            "model_id": "adb578321a0447dfb6c99d63727fcbc6",
                            "version_major": 2,
                            "version_minor": 0
                        },
                        "text/plain": [
                            "Loading B:   0%|          | 0/1015 [00:00<?, ?it/s]"
                        ]
                    },
                    "metadata": {},
                    "output_type": "display_data"
                },
                {
                    "data": {
                        "application/vnd.jupyter.widget-view+json": {
                            "model_id": "dab836cff6a24819a6a811245339aca7",
                            "version_major": 2,
                            "version_minor": 0
                        },
                        "text/plain": [
                            "Loading C:   0%|          | 0/1015 [00:00<?, ?it/s]"
                        ]
                    },
                    "metadata": {},
                    "output_type": "display_data"
                },
                {
                    "data": {
                        "application/vnd.jupyter.widget-view+json": {
                            "model_id": "ba478c98522c48fdbdf92c551c5c51dd",
                            "version_major": 2,
                            "version_minor": 0
                        },
                        "text/plain": [
                            "Loading D:   0%|          | 0/1015 [00:00<?, ?it/s]"
                        ]
                    },
                    "metadata": {},
                    "output_type": "display_data"
                },
                {
                    "data": {
                        "application/vnd.jupyter.widget-view+json": {
                            "model_id": "18cac5d7fad04da998e5ffbff3558bf1",
                            "version_major": 2,
                            "version_minor": 0
                        },
                        "text/plain": [
                            "Loading E:   0%|          | 0/1015 [00:00<?, ?it/s]"
                        ]
                    },
                    "metadata": {},
                    "output_type": "display_data"
                },
                {
                    "data": {
                        "application/vnd.jupyter.widget-view+json": {
                            "model_id": "d3230122ff344568af93f3e93c835dcc",
                            "version_major": 2,
                            "version_minor": 0
                        },
                        "text/plain": [
                            "Loading F:   0%|          | 0/1015 [00:00<?, ?it/s]"
                        ]
                    },
                    "metadata": {},
                    "output_type": "display_data"
                },
                {
                    "data": {
                        "application/vnd.jupyter.widget-view+json": {
                            "model_id": "71a03445070c4cb798968d99d649ff69",
                            "version_major": 2,
                            "version_minor": 0
                        },
                        "text/plain": [
                            "Loading G:   0%|          | 0/1015 [00:00<?, ?it/s]"
                        ]
                    },
                    "metadata": {},
                    "output_type": "display_data"
                },
                {
                    "data": {
                        "application/vnd.jupyter.widget-view+json": {
                            "model_id": "54793af476ae4dd68e1846bc2c963b80",
                            "version_major": 2,
                            "version_minor": 0
                        },
                        "text/plain": [
                            "Loading H:   0%|          | 0/1015 [00:00<?, ?it/s]"
                        ]
                    },
                    "metadata": {},
                    "output_type": "display_data"
                },
                {
                    "data": {
                        "application/vnd.jupyter.widget-view+json": {
                            "model_id": "bb8e2dcdb04e49d5ab630272e9130ebc",
                            "version_major": 2,
                            "version_minor": 0
                        },
                        "text/plain": [
                            "Loading I:   0%|          | 0/1015 [00:00<?, ?it/s]"
                        ]
                    },
                    "metadata": {},
                    "output_type": "display_data"
                },
                {
                    "data": {
                        "application/vnd.jupyter.widget-view+json": {
                            "model_id": "64b2962323a34ef3b4d48e95394b21d1",
                            "version_major": 2,
                            "version_minor": 0
                        },
                        "text/plain": [
                            "Loading J:   0%|          | 0/1015 [00:00<?, ?it/s]"
                        ]
                    },
                    "metadata": {},
                    "output_type": "display_data"
                },
                {
                    "data": {
                        "application/vnd.jupyter.widget-view+json": {
                            "model_id": "f7593ad658d04cfdb282f40bbc19b33b",
                            "version_major": 2,
                            "version_minor": 0
                        },
                        "text/plain": [
                            "Loading K:   0%|          | 0/1015 [00:00<?, ?it/s]"
                        ]
                    },
                    "metadata": {},
                    "output_type": "display_data"
                },
                {
                    "data": {
                        "application/vnd.jupyter.widget-view+json": {
                            "model_id": "40642c761e3b486f9bcf93b485e6f897",
                            "version_major": 2,
                            "version_minor": 0
                        },
                        "text/plain": [
                            "Loading L:   0%|          | 0/1015 [00:00<?, ?it/s]"
                        ]
                    },
                    "metadata": {},
                    "output_type": "display_data"
                },
                {
                    "data": {
                        "application/vnd.jupyter.widget-view+json": {
                            "model_id": "d11f22577cba42398e2b47b67a2b53f1",
                            "version_major": 2,
                            "version_minor": 0
                        },
                        "text/plain": [
                            "Loading M:   0%|          | 0/1015 [00:00<?, ?it/s]"
                        ]
                    },
                    "metadata": {},
                    "output_type": "display_data"
                },
                {
                    "data": {
                        "application/vnd.jupyter.widget-view+json": {
                            "model_id": "5294e00f50b245178f3052bab1124a1c",
                            "version_major": 2,
                            "version_minor": 0
                        },
                        "text/plain": [
                            "Loading N:   0%|          | 0/1015 [00:00<?, ?it/s]"
                        ]
                    },
                    "metadata": {},
                    "output_type": "display_data"
                },
                {
                    "data": {
                        "application/vnd.jupyter.widget-view+json": {
                            "model_id": "40ffcaf50f184cb9871de1fb3d127786",
                            "version_major": 2,
                            "version_minor": 0
                        },
                        "text/plain": [
                            "Loading P:   0%|          | 0/1015 [00:00<?, ?it/s]"
                        ]
                    },
                    "metadata": {},
                    "output_type": "display_data"
                },
                {
                    "data": {
                        "application/vnd.jupyter.widget-view+json": {
                            "model_id": "c5a4ae11e1b54cdc9bf395d300fdc2aa",
                            "version_major": 2,
                            "version_minor": 0
                        },
                        "text/plain": [
                            "Loading Q:   0%|          | 0/1015 [00:00<?, ?it/s]"
                        ]
                    },
                    "metadata": {},
                    "output_type": "display_data"
                },
                {
                    "data": {
                        "application/vnd.jupyter.widget-view+json": {
                            "model_id": "7ca5ae40b99b46feb754338b3f315845",
                            "version_major": 2,
                            "version_minor": 0
                        },
                        "text/plain": [
                            "Loading R:   0%|          | 0/1015 [00:00<?, ?it/s]"
                        ]
                    },
                    "metadata": {},
                    "output_type": "display_data"
                },
                {
                    "data": {
                        "application/vnd.jupyter.widget-view+json": {
                            "model_id": "c106eb58888e4bf488cc5fe7e0dcf2b5",
                            "version_major": 2,
                            "version_minor": 0
                        },
                        "text/plain": [
                            "Loading S:   0%|          | 0/1015 [00:00<?, ?it/s]"
                        ]
                    },
                    "metadata": {},
                    "output_type": "display_data"
                },
                {
                    "data": {
                        "application/vnd.jupyter.widget-view+json": {
                            "model_id": "6f48975b9bcd491d8bb556ae9ea83b76",
                            "version_major": 2,
                            "version_minor": 0
                        },
                        "text/plain": [
                            "Loading T:   0%|          | 0/1015 [00:00<?, ?it/s]"
                        ]
                    },
                    "metadata": {},
                    "output_type": "display_data"
                },
                {
                    "data": {
                        "application/vnd.jupyter.widget-view+json": {
                            "model_id": "e291718368674b38aa629e19d635954f",
                            "version_major": 2,
                            "version_minor": 0
                        },
                        "text/plain": [
                            "Loading U:   0%|          | 0/1015 [00:00<?, ?it/s]"
                        ]
                    },
                    "metadata": {},
                    "output_type": "display_data"
                },
                {
                    "data": {
                        "application/vnd.jupyter.widget-view+json": {
                            "model_id": "b44c738858a64a10afbf6505f2c4281c",
                            "version_major": 2,
                            "version_minor": 0
                        },
                        "text/plain": [
                            "Loading V:   0%|          | 0/1015 [00:00<?, ?it/s]"
                        ]
                    },
                    "metadata": {},
                    "output_type": "display_data"
                },
                {
                    "data": {
                        "application/vnd.jupyter.widget-view+json": {
                            "model_id": "0f44d17344b342dba562a08254df6e88",
                            "version_major": 2,
                            "version_minor": 0
                        },
                        "text/plain": [
                            "Loading W:   0%|          | 0/1015 [00:00<?, ?it/s]"
                        ]
                    },
                    "metadata": {},
                    "output_type": "display_data"
                },
                {
                    "data": {
                        "application/vnd.jupyter.widget-view+json": {
                            "model_id": "5c953723bd94473eab9e3c5d620242ab",
                            "version_major": 2,
                            "version_minor": 0
                        },
                        "text/plain": [
                            "Loading X:   0%|          | 0/1015 [00:00<?, ?it/s]"
                        ]
                    },
                    "metadata": {},
                    "output_type": "display_data"
                },
                {
                    "data": {
                        "application/vnd.jupyter.widget-view+json": {
                            "model_id": "b184be5e11214d81ad56bd690debfd78",
                            "version_major": 2,
                            "version_minor": 0
                        },
                        "text/plain": [
                            "Loading Y:   0%|          | 0/1015 [00:00<?, ?it/s]"
                        ]
                    },
                    "metadata": {},
                    "output_type": "display_data"
                },
                {
                    "data": {
                        "application/vnd.jupyter.widget-view+json": {
                            "model_id": "f0eccc8c3f314f47a5ad8841ea64ba9e",
                            "version_major": 2,
                            "version_minor": 0
                        },
                        "text/plain": [
                            "Loading Z:   0%|          | 0/1015 [00:00<?, ?it/s]"
                        ]
                    },
                    "metadata": {},
                    "output_type": "display_data"
                },
                {
                    "name": "stdout",
                    "output_type": "stream",
                    "text": [
                        "Data samples: 106575\n",
                        "X_train shape: 85260\n",
                        "Y_train shape: 85260\n",
                        "X_test shape: 21315\n",
                        "Y_test shape: 21315\n",
                        "Epoch 1/15\n"
                    ]
                },
                {
                    "name": "stderr",
                    "output_type": "stream",
                    "text": [
                        "2024-03-25 00:16:38.581813: E tensorflow/core/grappler/optimizers/meta_optimizer.cc:961] layout failed: INVALID_ARGUMENT: Size of values 0 does not match size of permutation 4 @ fanin shape insequential/dropout/dropout/SelectV2-2-TransposeNHWCToNCHW-LayoutOptimizer\n",
                        "2024-03-25 00:16:38.997161: I external/local_xla/xla/stream_executor/cuda/cuda_dnn.cc:454] Loaded cuDNN version 8906\n",
                        "2024-03-25 00:16:39.041907: I external/local_tsl/tsl/platform/default/subprocess.cc:304] Start cannot spawn child process: No such file or directory\n",
                        "2024-03-25 00:16:39.978834: I external/local_tsl/tsl/platform/default/subprocess.cc:304] Start cannot spawn child process: No such file or directory\n",
                        "2024-03-25 00:16:40.260196: I external/local_xla/xla/service/service.cc:168] XLA service 0x718704d609c0 initialized for platform CUDA (this does not guarantee that XLA will be used). Devices:\n",
                        "2024-03-25 00:16:40.260213: I external/local_xla/xla/service/service.cc:176]   StreamExecutor device (0): NVIDIA GeForce RTX 3050 Ti Laptop GPU, Compute Capability 8.6\n",
                        "2024-03-25 00:16:40.263633: I tensorflow/compiler/mlir/tensorflow/utils/dump_mlir_util.cc:269] disabling MLIR crash reproducer, set env var `MLIR_CRASH_REPRODUCER_DIRECTORY` to enable.\n",
                        "WARNING: All log messages before absl::InitializeLog() is called are written to STDERR\n",
                        "I0000 00:00:1711318600.313895  183330 device_compiler.h:186] Compiled cluster using XLA!  This line is logged at most once for the lifetime of the process.\n",
                        "2024-03-25 00:16:41.592810: W external/local_tsl/tsl/framework/bfc_allocator.cc:296] Allocator (GPU_0_bfc) ran out of memory trying to allocate 1.86GiB with freed_by_count=0. The caller indicates that this is not a failure, but this may mean that there could be performance gains if more memory were available.\n",
                        "2024-03-25 00:16:41.999898: W external/local_tsl/tsl/framework/bfc_allocator.cc:296] Allocator (GPU_0_bfc) ran out of memory trying to allocate 1.86GiB with freed_by_count=0. The caller indicates that this is not a failure, but this may mean that there could be performance gains if more memory were available.\n"
                    ]
                },
                {
                    "name": "stdout",
                    "output_type": "stream",
                    "text": [
                        "1065/1066 [============================>.] - ETA: 0s - loss: 0.8187 - accuracy: 0.7671"
                    ]
                },
                {
                    "name": "stderr",
                    "output_type": "stream",
                    "text": [
                        "2024-03-25 00:17:58.274712: W external/local_tsl/tsl/framework/bfc_allocator.cc:296] Allocator (GPU_0_bfc) ran out of memory trying to allocate 1.40GiB with freed_by_count=0. The caller indicates that this is not a failure, but this may mean that there could be performance gains if more memory were available.\n",
                        "2024-03-25 00:17:58.606375: W external/local_tsl/tsl/framework/bfc_allocator.cc:296] Allocator (GPU_0_bfc) ran out of memory trying to allocate 1.40GiB with freed_by_count=0. The caller indicates that this is not a failure, but this may mean that there could be performance gains if more memory were available.\n"
                    ]
                },
                {
                    "name": "stdout",
                    "output_type": "stream",
                    "text": [
                        "1066/1066 [==============================] - 90s 76ms/step - loss: 0.8185 - accuracy: 0.7672 - val_loss: 0.1940 - val_accuracy: 0.9451\n",
                        "Epoch 2/15\n",
                        "1066/1066 [==============================] - 73s 68ms/step - loss: 0.3384 - accuracy: 0.8946 - val_loss: 0.1290 - val_accuracy: 0.9601\n",
                        "Epoch 3/15\n",
                        "1066/1066 [==============================] - 69s 65ms/step - loss: 0.2503 - accuracy: 0.9179 - val_loss: 0.1045 - val_accuracy: 0.9669\n",
                        "Epoch 4/15\n",
                        "1066/1066 [==============================] - 74s 70ms/step - loss: 0.1999 - accuracy: 0.9324 - val_loss: 0.0926 - val_accuracy: 0.9704\n",
                        "Epoch 5/15\n",
                        "1066/1066 [==============================] - 68s 64ms/step - loss: 0.1768 - accuracy: 0.9387 - val_loss: 0.0844 - val_accuracy: 0.9731\n",
                        "Epoch 6/15\n",
                        "1066/1066 [==============================] - 63s 59ms/step - loss: 0.1499 - accuracy: 0.9479 - val_loss: 0.0752 - val_accuracy: 0.9750\n",
                        "Epoch 7/15\n",
                        "1066/1066 [==============================] - 68s 63ms/step - loss: 0.1310 - accuracy: 0.9546 - val_loss: 0.0709 - val_accuracy: 0.9778\n",
                        "Epoch 8/15\n",
                        "1066/1066 [==============================] - 64s 60ms/step - loss: 0.1197 - accuracy: 0.9573 - val_loss: 0.0716 - val_accuracy: 0.9773\n",
                        "Epoch 9/15\n",
                        "1066/1066 [==============================] - 62s 58ms/step - loss: 0.1104 - accuracy: 0.9608 - val_loss: 0.0693 - val_accuracy: 0.9788\n",
                        "Epoch 10/15\n",
                        "1066/1066 [==============================] - 62s 58ms/step - loss: 0.0971 - accuracy: 0.9651 - val_loss: 0.0666 - val_accuracy: 0.9788\n",
                        "Epoch 11/15\n",
                        "1066/1066 [==============================] - 62s 58ms/step - loss: 0.0897 - accuracy: 0.9673 - val_loss: 0.0656 - val_accuracy: 0.9810\n",
                        "Epoch 12/15\n",
                        "1066/1066 [==============================] - 64s 60ms/step - loss: 0.0838 - accuracy: 0.9698 - val_loss: 0.0701 - val_accuracy: 0.9797\n",
                        "Epoch 13/15\n",
                        "1066/1066 [==============================] - 64s 60ms/step - loss: 0.0791 - accuracy: 0.9720 - val_loss: 0.0672 - val_accuracy: 0.9806\n",
                        "Epoch 14/15\n",
                        "1066/1066 [==============================] - 63s 59ms/step - loss: 0.0747 - accuracy: 0.9726 - val_loss: 0.0668 - val_accuracy: 0.9807\n",
                        "Epoch 15/15\n",
                        "1066/1066 [==============================] - 63s 59ms/step - loss: 0.0692 - accuracy: 0.9749 - val_loss: 0.0723 - val_accuracy: 0.9814\n"
                    ]
                },
                {
                    "data": {
                        "image/png": "[encoded data removed]",
                        "text/plain": [
                            "<Figure size 1400x500 with 2 Axes>"
                        ]
                    },
                    "metadata": {},
                    "output_type": "display_data"
                },
                {
                    "name": "stdout",
                    "output_type": "stream",
                    "text": [
                        "Saved model v1 to disk\n"
                    ]
                }
            ],
            "source": [
                "model = create_model()\n",
                "history = train_model(model, learning_rate=0.001, batch_size=64, epochs=15)\n",
                "plot_model(history, version=1, save=True)\n",
                "save_model(model, version=1)"
            ]
        }
    ],
    "metadata": {
        "kernelspec": {
            "display_name": "Python 3",
            "language": "python",
            "name": "python3"
        },
        "language_info": {
            "codemirror_mode": {
                "name": "ipython",
                "version": 3
            },
            "file_extension": ".py",
            "mimetype": "text/x-python",
            "name": "python",
            "nbconvert_exporter": "python",
            "pygments_lexer": "ipython3",
            "version": "3.11.8"
        }
    },
    "nbformat": 4,
    "nbformat_minor": 2
}
