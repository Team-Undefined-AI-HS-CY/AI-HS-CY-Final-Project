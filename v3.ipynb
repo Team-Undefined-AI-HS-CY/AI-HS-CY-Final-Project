{
 "cells": [
  {
   "cell_type": "code",
   "execution_count": null,
   "metadata": {},
   "outputs": [],
   "source": [
    "import numpy as np\n",
    "import tensorflow as tf\n",
    "from keras.models import Sequential\n",
    "from keras.layers import Dense, Conv2D, MaxPooling2D, Flatten, Dropout, BatchNormalization\n",
    "from keras.losses import categorical_crossentropy\n",
    "from keras.optimizers import Adam\n",
    "import keras\n",
    "\n",
    "from settings import *\n",
    "\n",
    "from utils.general import clean_session, plot_model, split_dataset, scale_dataset, shape_dataset, print_dataset_info\n",
    "from utils.models.ocr import save_model"
   ]
  },
  {
   "cell_type": "code",
   "execution_count": null,
   "metadata": {},
   "outputs": [],
   "source": [
    "import Datasets.OCR.CNN_Letters.loader as CNN_Letters\n",
    "import Datasets.OCR.manual.loader as manual\n",
    "import Datasets.OCR.EnglishFnt.loader as EnglishFnt"
   ]
  },
  {
   "cell_type": "code",
   "execution_count": null,
   "metadata": {},
   "outputs": [],
   "source": [
    "# clean_session()"
   ]
  },
  {
   "cell_type": "code",
   "execution_count": null,
   "metadata": {},
   "outputs": [],
   "source": [
    "def create_model():\n",
    "    model = Sequential()\n",
    "\n",
    "    # CNN\n",
    "    model.add(Conv2D(32, kernel_size=(3, 3), activation='relu',input_shape=INPUT_SHAPE))\n",
    "    model.add(Conv2D(64, kernel_size=(3, 3), activation='relu'))\n",
    "    model.add(BatchNormalization())\n",
    "    model.add(Conv2D(128, kernel_size=(3, 3), activation='relu'))\n",
    "\n",
    "    # Pooling\n",
    "    model.add(MaxPooling2D(pool_size=(2, 2), strides=2, padding='same'))\n",
    "\n",
    "    # Flattening before feeding to FCNN\n",
    "    model.add(Flatten())\n",
    "\n",
    "    # FCNN\n",
    "    model.add(Dense(64, activation='relu'))\n",
    "    # use softmax since we are doing classification (1 node for each possible output)\n",
    "    model.add(Dense(len(COMBINED_CHARS), activation='softmax'))\n",
    "\n",
    "    model.summary()\n",
    "\n",
    "    return model\n"
   ]
  },
  {
   "cell_type": "code",
   "execution_count": null,
   "metadata": {},
   "outputs": [],
   "source": [
    "def train_model(model, learning_rate, batch_size, epochs, patience):\n",
    "    optimizer = Adam(learning_rate=learning_rate)\n",
    "    model.compile(loss=categorical_crossentropy, optimizer=optimizer, metrics=['accuracy'])\n",
    "\n",
    "    callbacks = [keras.callbacks.EarlyStopping(monitor='val_loss', patience=patience, restore_best_weights=True, verbose=1)]\n",
    "\n",
    "    CX_data, CY_data = CNN_Letters.load_dataset()\n",
    "    EX_data, EY_data = EnglishFnt.load_dataset(include_fonts=ENGLISH_FNT_FONTS)\n",
    "    MX_data, MY_data = manual.load_dataset()\n",
    "    X_data = np.concatenate((CX_data, MX_data, EX_data))\n",
    "    Y_data = np.concatenate((CY_data, MY_data, EY_data))\n",
    "\n",
    "    X_train, X_test, Y_train, Y_test = split_dataset(X_data, Y_data, test_percent=TEST_PERCENT, random_state=RANDOM_STATE)\n",
    "    X_train, X_test = shape_dataset(X_train, X_test, input_shape=INPUT_SHAPE)\n",
    "    X_train, X_test = scale_dataset(X_train, X_test)\n",
    "\n",
    "    print_dataset_info(X_data, X_train, Y_train, X_test, Y_test)\n",
    "\n",
    "    history = model.fit(X_train, Y_train, batch_size=batch_size, epochs=epochs, validation_split=VALIDATION_PERCENT, callbacks=callbacks)\n",
    "\n",
    "    return history"
   ]
  },
  {
   "cell_type": "code",
   "execution_count": null,
   "metadata": {},
   "outputs": [],
   "source": [
    "model = create_model()\n",
    "history = train_model(model, learning_rate=0.001, batch_size=16, epochs=50, patience=5)\n",
    "plot_model(history)\n",
    "save_model(model, 3)"
   ]
  }
 ],
 "metadata": {
  "kernelspec": {
   "display_name": "Python 3",
   "language": "python",
   "name": "python3"
  },
  "language_info": {
   "codemirror_mode": {
    "name": "ipython",
    "version": 3
   },
   "file_extension": ".py",
   "mimetype": "text/x-python",
   "name": "python",
   "nbconvert_exporter": "python",
   "pygments_lexer": "ipython3",
   "version": "3.11.8"
  }
 },
 "nbformat": 4,
 "nbformat_minor": 2
}
