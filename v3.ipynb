{
    "cells": [
        {
            "cell_type": "code",
            "execution_count": 2,
            "metadata": {},
            "outputs": [],
            "source": [
                "import numpy as np\n",
                "import tensorflow as tf\n",
                "from keras.models import Sequential\n",
                "from keras.layers import Dense, Conv2D, MaxPooling2D, Flatten, Dropout, BatchNormalization\n",
                "from keras.losses import categorical_crossentropy\n",
                "from keras.optimizers import Adam\n",
                "import keras\n",
                "\n",
                "from settings import *\n",
                "\n",
                "from utils.general import clean_session, plot_model, split_dataset, scale_dataset, shape_dataset, print_dataset_info\n",
                "from utils.models.ocr import save_model"
            ]
        },
        {
            "cell_type": "code",
            "execution_count": 3,
            "metadata": {},
            "outputs": [],
            "source": [
                "import Datasets.OCR.CNN_Letters.loader as CNN_Letters\n",
                "import Datasets.OCR.manual.loader as manual\n",
                "import Datasets.OCR.EnglishFnt.loader as EnglishFnt"
            ]
        },
        {
            "cell_type": "code",
            "execution_count": 4,
            "metadata": {},
            "outputs": [],
            "source": [
                "# clean_session()"
            ]
        },
        {
            "cell_type": "code",
            "execution_count": 5,
            "metadata": {},
            "outputs": [],
            "source": [
                "def create_model():\n",
                "    model = Sequential()\n",
                "\n",
                "    # CNN\n",
                "    model.add(Conv2D(32, kernel_size=(3, 3), activation='relu',input_shape=INPUT_SHAPE))\n",
                "    model.add(Conv2D(64, kernel_size=(3, 3), activation='relu'))\n",
                "    model.add(Conv2D(128, kernel_size=(3, 3), activation='relu'))\n",
                "\n",
                "    # Pooling\n",
                "    model.add(MaxPooling2D(pool_size=(2, 2), strides=2, padding='same'))\n",
                "\n",
                "    # Drop some data points randomly (mainly for caligraphy reasons)\n",
                "    model.add(Dropout(0.25))\n",
                "\n",
                "    # Flattening before feeding to FCNN\n",
                "    model.add(Flatten())\n",
                "\n",
                "    # FCNN\n",
                "    # use softmax since we are doing classification (1 node for each possible output)\n",
                "    model.add(Dense(128, activation='relu'))\n",
                "    model.add(Dense(64, activation='relu'))\n",
                "    model.add(Dropout(0.3))\n",
                "    model.add(Dense(len(COMBINED_CHARS), activation='softmax'))\n",
                "\n",
                "    model.summary()\n",
                "\n",
                "    return model\n"
            ]
        },
        {
            "cell_type": "code",
            "execution_count": 6,
            "metadata": {},
            "outputs": [],
            "source": [
                "def train_model(model, learning_rate, batch_size, epochs, patience):\n",
                "    optimizer = Adam(learning_rate=learning_rate)\n",
                "    model.compile(loss=categorical_crossentropy, optimizer=optimizer, metrics=['accuracy'])\n",
                "\n",
                "    callbacks = [keras.callbacks.EarlyStopping(monitor='val_loss', patience=patience, restore_best_weights=True, verbose=1)]\n",
                "\n",
                "    CX_data, CY_data = CNN_Letters.load_dataset()\n",
                "    MX_data, MY_data = manual.load_dataset()\n",
                "    X_data = np.concatenate((CX_data, MX_data))\n",
                "    Y_data = np.concatenate((CY_data, MY_data))\n",
                "\n",
                "    X_train, X_test, Y_train, Y_test = split_dataset(X_data, Y_data, test_percent=TEST_PERCENT, random_state=RANDOM_STATE, shuffle=True)\n",
                "    X_train, X_test = shape_dataset(X_train, X_test, input_shape=INPUT_SHAPE)\n",
                "    X_train, X_test = scale_dataset(X_train, X_test, batch_size=batch_size)\n",
                "\n",
                "    print_dataset_info(X_data, X_train, Y_train, X_test, Y_test)\n",
                "\n",
                "    history = model.fit(X_train, Y_train, batch_size=batch_size, epochs=epochs, validation_split=VALIDATION_PERCENT, callbacks=callbacks)\n",
                "\n",
                "    return history"
            ]
        },
        {
            "cell_type": "code",
            "execution_count": 7,
            "metadata": {},
            "outputs": [
                {
                    "name": "stderr",
                    "output_type": "stream",
                    "text": [
                        "2024-03-25 02:31:55.482409: I external/local_xla/xla/stream_executor/cuda/cuda_executor.cc:901] successful NUMA node read from SysFS had negative value (-1), but there must be at least one NUMA node, so returning NUMA node zero. See more at https://github.com/torvalds/linux/blob/v6.0/Documentation/ABI/testing/sysfs-bus-pci#L344-L355\n",
                        "2024-03-25 02:31:55.608902: I external/local_xla/xla/stream_executor/cuda/cuda_executor.cc:901] successful NUMA node read from SysFS had negative value (-1), but there must be at least one NUMA node, so returning NUMA node zero. See more at https://github.com/torvalds/linux/blob/v6.0/Documentation/ABI/testing/sysfs-bus-pci#L344-L355\n",
                        "2024-03-25 02:31:55.609892: I external/local_xla/xla/stream_executor/cuda/cuda_executor.cc:901] successful NUMA node read from SysFS had negative value (-1), but there must be at least one NUMA node, so returning NUMA node zero. See more at https://github.com/torvalds/linux/blob/v6.0/Documentation/ABI/testing/sysfs-bus-pci#L344-L355\n",
                        "2024-03-25 02:31:55.617330: I external/local_xla/xla/stream_executor/cuda/cuda_executor.cc:901] successful NUMA node read from SysFS had negative value (-1), but there must be at least one NUMA node, so returning NUMA node zero. See more at https://github.com/torvalds/linux/blob/v6.0/Documentation/ABI/testing/sysfs-bus-pci#L344-L355\n",
                        "2024-03-25 02:31:55.618332: I external/local_xla/xla/stream_executor/cuda/cuda_executor.cc:901] successful NUMA node read from SysFS had negative value (-1), but there must be at least one NUMA node, so returning NUMA node zero. See more at https://github.com/torvalds/linux/blob/v6.0/Documentation/ABI/testing/sysfs-bus-pci#L344-L355\n",
                        "2024-03-25 02:31:55.618975: I external/local_xla/xla/stream_executor/cuda/cuda_executor.cc:901] successful NUMA node read from SysFS had negative value (-1), but there must be at least one NUMA node, so returning NUMA node zero. See more at https://github.com/torvalds/linux/blob/v6.0/Documentation/ABI/testing/sysfs-bus-pci#L344-L355\n",
                        "2024-03-25 02:31:55.871862: I external/local_xla/xla/stream_executor/cuda/cuda_executor.cc:901] successful NUMA node read from SysFS had negative value (-1), but there must be at least one NUMA node, so returning NUMA node zero. See more at https://github.com/torvalds/linux/blob/v6.0/Documentation/ABI/testing/sysfs-bus-pci#L344-L355\n",
                        "2024-03-25 02:31:55.872812: I external/local_xla/xla/stream_executor/cuda/cuda_executor.cc:901] successful NUMA node read from SysFS had negative value (-1), but there must be at least one NUMA node, so returning NUMA node zero. See more at https://github.com/torvalds/linux/blob/v6.0/Documentation/ABI/testing/sysfs-bus-pci#L344-L355\n",
                        "2024-03-25 02:31:55.873542: I external/local_xla/xla/stream_executor/cuda/cuda_executor.cc:901] successful NUMA node read from SysFS had negative value (-1), but there must be at least one NUMA node, so returning NUMA node zero. See more at https://github.com/torvalds/linux/blob/v6.0/Documentation/ABI/testing/sysfs-bus-pci#L344-L355\n",
                        "2024-03-25 02:31:55.874060: I tensorflow/core/common_runtime/gpu/gpu_device.cc:1929] Created device /job:localhost/replica:0/task:0/device:GPU:0 with 2201 MB memory:  -> device: 0, name: NVIDIA GeForce RTX 3050 Ti Laptop GPU, pci bus id: 0000:01:00.0, compute capability: 8.6\n"
                    ]
                },
                {
                    "name": "stdout",
                    "output_type": "stream",
                    "text": [
                        "Model: \"sequential\"\n",
                        "_________________________________________________________________\n",
                        " Layer (type)                Output Shape              Param #   \n",
                        "=================================================================\n",
                        " conv2d (Conv2D)             (None, 98, 48, 32)        320       \n",
                        "                                                                 \n",
                        " conv2d_1 (Conv2D)           (None, 96, 46, 64)        18496     \n",
                        "                                                                 \n",
                        " conv2d_2 (Conv2D)           (None, 94, 44, 128)       73856     \n",
                        "                                                                 \n",
                        " max_pooling2d (MaxPooling2  (None, 47, 22, 128)       0         \n",
                        " D)                                                              \n",
                        "                                                                 \n",
                        " dropout (Dropout)           (None, 47, 22, 128)       0         \n",
                        "                                                                 \n",
                        " flatten (Flatten)           (None, 132352)            0         \n",
                        "                                                                 \n",
                        " dense (Dense)               (None, 128)               16941184  \n",
                        "                                                                 \n",
                        " dense_1 (Dense)             (None, 64)                8256      \n",
                        "                                                                 \n",
                        " dropout_1 (Dropout)         (None, 64)                0         \n",
                        "                                                                 \n",
                        " dense_2 (Dense)             (None, 35)                2275      \n",
                        "                                                                 \n",
                        "=================================================================\n",
                        "Total params: 17044387 (65.02 MB)\n",
                        "Trainable params: 17044387 (65.02 MB)\n",
                        "Non-trainable params: 0 (0.00 Byte)\n",
                        "_________________________________________________________________\n"
                    ]
                },
                {
                    "data": {
                        "application/vnd.jupyter.widget-view+json": {
                            "model_id": "11e70ff2beb34a5bab17b1a97c4b282e",
                            "version_major": 2,
                            "version_minor": 0
                        },
                        "text/plain": [
                            "Loading CNN_Letters:   0%|          | 0/35 [00:00<?, ?it/s]"
                        ]
                    },
                    "metadata": {},
                    "output_type": "display_data"
                },
                {
                    "data": {
                        "application/vnd.jupyter.widget-view+json": {
                            "model_id": "3947f031f0724de28a9262007c23f3b4",
                            "version_major": 2,
                            "version_minor": 0
                        },
                        "text/plain": [
                            "Loading 0:   0%|          | 0/1030 [00:00<?, ?it/s]"
                        ]
                    },
                    "metadata": {},
                    "output_type": "display_data"
                },
                {
                    "data": {
                        "application/vnd.jupyter.widget-view+json": {
                            "model_id": "ca785ab2e5744cf1a2e56868d8fb72c1",
                            "version_major": 2,
                            "version_minor": 0
                        },
                        "text/plain": [
                            "Loading 1:   0%|          | 0/1030 [00:00<?, ?it/s]"
                        ]
                    },
                    "metadata": {},
                    "output_type": "display_data"
                },
                {
                    "data": {
                        "application/vnd.jupyter.widget-view+json": {
                            "model_id": "c83410d054474b6ab8048827624a9f6a",
                            "version_major": 2,
                            "version_minor": 0
                        },
                        "text/plain": [
                            "Loading 2:   0%|          | 0/1030 [00:00<?, ?it/s]"
                        ]
                    },
                    "metadata": {},
                    "output_type": "display_data"
                },
                {
                    "data": {
                        "application/vnd.jupyter.widget-view+json": {
                            "model_id": "e1af0f93d3d1426d9fc7e99ca92143ad",
                            "version_major": 2,
                            "version_minor": 0
                        },
                        "text/plain": [
                            "Loading 3:   0%|          | 0/1030 [00:00<?, ?it/s]"
                        ]
                    },
                    "metadata": {},
                    "output_type": "display_data"
                },
                {
                    "data": {
                        "application/vnd.jupyter.widget-view+json": {
                            "model_id": "f2f2ae78d32d4a2bb1ec2b8c6e5fcc07",
                            "version_major": 2,
                            "version_minor": 0
                        },
                        "text/plain": [
                            "Loading 4:   0%|          | 0/1030 [00:00<?, ?it/s]"
                        ]
                    },
                    "metadata": {},
                    "output_type": "display_data"
                },
                {
                    "data": {
                        "application/vnd.jupyter.widget-view+json": {
                            "model_id": "e84a1b2b78124edaa902647036e012a7",
                            "version_major": 2,
                            "version_minor": 0
                        },
                        "text/plain": [
                            "Loading 5:   0%|          | 0/1030 [00:00<?, ?it/s]"
                        ]
                    },
                    "metadata": {},
                    "output_type": "display_data"
                },
                {
                    "data": {
                        "application/vnd.jupyter.widget-view+json": {
                            "model_id": "d9003629803d41988cf53ef588cc2190",
                            "version_major": 2,
                            "version_minor": 0
                        },
                        "text/plain": [
                            "Loading 6:   0%|          | 0/1030 [00:00<?, ?it/s]"
                        ]
                    },
                    "metadata": {},
                    "output_type": "display_data"
                },
                {
                    "data": {
                        "application/vnd.jupyter.widget-view+json": {
                            "model_id": "a6e743ce5e04485ea566e782e0d14972",
                            "version_major": 2,
                            "version_minor": 0
                        },
                        "text/plain": [
                            "Loading 7:   0%|          | 0/1030 [00:00<?, ?it/s]"
                        ]
                    },
                    "metadata": {},
                    "output_type": "display_data"
                },
                {
                    "data": {
                        "application/vnd.jupyter.widget-view+json": {
                            "model_id": "4470fc35777149f795b076cdfcd46534",
                            "version_major": 2,
                            "version_minor": 0
                        },
                        "text/plain": [
                            "Loading 8:   0%|          | 0/1030 [00:00<?, ?it/s]"
                        ]
                    },
                    "metadata": {},
                    "output_type": "display_data"
                },
                {
                    "data": {
                        "application/vnd.jupyter.widget-view+json": {
                            "model_id": "c28066cc92d248d99c0dfcc08ab4264f",
                            "version_major": 2,
                            "version_minor": 0
                        },
                        "text/plain": [
                            "Loading 9:   0%|          | 0/1030 [00:00<?, ?it/s]"
                        ]
                    },
                    "metadata": {},
                    "output_type": "display_data"
                },
                {
                    "data": {
                        "application/vnd.jupyter.widget-view+json": {
                            "model_id": "5f23a90e4e544ab7802ec8690cc6829c",
                            "version_major": 2,
                            "version_minor": 0
                        },
                        "text/plain": [
                            "Loading A:   0%|          | 0/1010 [00:00<?, ?it/s]"
                        ]
                    },
                    "metadata": {},
                    "output_type": "display_data"
                },
                {
                    "data": {
                        "application/vnd.jupyter.widget-view+json": {
                            "model_id": "093b34fbf06940b5b95e057d614aa4ea",
                            "version_major": 2,
                            "version_minor": 0
                        },
                        "text/plain": [
                            "Loading B:   0%|          | 0/1030 [00:00<?, ?it/s]"
                        ]
                    },
                    "metadata": {},
                    "output_type": "display_data"
                },
                {
                    "data": {
                        "application/vnd.jupyter.widget-view+json": {
                            "model_id": "23657fabff2c450b8541cb75a2190377",
                            "version_major": 2,
                            "version_minor": 0
                        },
                        "text/plain": [
                            "Loading C:   0%|          | 0/1020 [00:00<?, ?it/s]"
                        ]
                    },
                    "metadata": {},
                    "output_type": "display_data"
                },
                {
                    "data": {
                        "application/vnd.jupyter.widget-view+json": {
                            "model_id": "89b307d548f543e8b9366e00c2eba4f4",
                            "version_major": 2,
                            "version_minor": 0
                        },
                        "text/plain": [
                            "Loading D:   0%|          | 0/1010 [00:00<?, ?it/s]"
                        ]
                    },
                    "metadata": {},
                    "output_type": "display_data"
                },
                {
                    "data": {
                        "application/vnd.jupyter.widget-view+json": {
                            "model_id": "4758254345384493bc0cd2a32aa635be",
                            "version_major": 2,
                            "version_minor": 0
                        },
                        "text/plain": [
                            "Loading E:   0%|          | 0/1010 [00:00<?, ?it/s]"
                        ]
                    },
                    "metadata": {},
                    "output_type": "display_data"
                },
                {
                    "data": {
                        "application/vnd.jupyter.widget-view+json": {
                            "model_id": "1ee952ad86c340319eceecce0d809090",
                            "version_major": 2,
                            "version_minor": 0
                        },
                        "text/plain": [
                            "Loading F:   0%|          | 0/1020 [00:00<?, ?it/s]"
                        ]
                    },
                    "metadata": {},
                    "output_type": "display_data"
                },
                {
                    "data": {
                        "application/vnd.jupyter.widget-view+json": {
                            "model_id": "258f2ad2ff124de5a13f29e649276967",
                            "version_major": 2,
                            "version_minor": 0
                        },
                        "text/plain": [
                            "Loading G:   0%|          | 0/1020 [00:00<?, ?it/s]"
                        ]
                    },
                    "metadata": {},
                    "output_type": "display_data"
                },
                {
                    "data": {
                        "application/vnd.jupyter.widget-view+json": {
                            "model_id": "d4823a2bffed4d91b2641bc15e0e73af",
                            "version_major": 2,
                            "version_minor": 0
                        },
                        "text/plain": [
                            "Loading H:   0%|          | 0/1020 [00:00<?, ?it/s]"
                        ]
                    },
                    "metadata": {},
                    "output_type": "display_data"
                },
                {
                    "data": {
                        "application/vnd.jupyter.widget-view+json": {
                            "model_id": "fe6c715130784f378f85c50b478b29e6",
                            "version_major": 2,
                            "version_minor": 0
                        },
                        "text/plain": [
                            "Loading I:   0%|          | 0/1010 [00:00<?, ?it/s]"
                        ]
                    },
                    "metadata": {},
                    "output_type": "display_data"
                },
                {
                    "data": {
                        "application/vnd.jupyter.widget-view+json": {
                            "model_id": "6e90ae40fd0f465aa5e198064b700e6f",
                            "version_major": 2,
                            "version_minor": 0
                        },
                        "text/plain": [
                            "Loading J:   0%|          | 0/1030 [00:00<?, ?it/s]"
                        ]
                    },
                    "metadata": {},
                    "output_type": "display_data"
                },
                {
                    "data": {
                        "application/vnd.jupyter.widget-view+json": {
                            "model_id": "017712f5d51947a2a85bd6be0016acb4",
                            "version_major": 2,
                            "version_minor": 0
                        },
                        "text/plain": [
                            "Loading K:   0%|          | 0/1010 [00:00<?, ?it/s]"
                        ]
                    },
                    "metadata": {},
                    "output_type": "display_data"
                },
                {
                    "data": {
                        "application/vnd.jupyter.widget-view+json": {
                            "model_id": "9abf72d219d14608a4d6c9689b8381f3",
                            "version_major": 2,
                            "version_minor": 0
                        },
                        "text/plain": [
                            "Loading L:   0%|          | 0/1010 [00:00<?, ?it/s]"
                        ]
                    },
                    "metadata": {},
                    "output_type": "display_data"
                },
                {
                    "data": {
                        "application/vnd.jupyter.widget-view+json": {
                            "model_id": "b2fbb5d61f4c4205b023532f6070b3f4",
                            "version_major": 2,
                            "version_minor": 0
                        },
                        "text/plain": [
                            "Loading M:   0%|          | 0/1020 [00:00<?, ?it/s]"
                        ]
                    },
                    "metadata": {},
                    "output_type": "display_data"
                },
                {
                    "data": {
                        "application/vnd.jupyter.widget-view+json": {
                            "model_id": "6829d4332bc143ebac1e50d3a464cb91",
                            "version_major": 2,
                            "version_minor": 0
                        },
                        "text/plain": [
                            "Loading N:   0%|          | 0/1020 [00:00<?, ?it/s]"
                        ]
                    },
                    "metadata": {},
                    "output_type": "display_data"
                },
                {
                    "data": {
                        "application/vnd.jupyter.widget-view+json": {
                            "model_id": "46a3e9fcc28c4678a4bded0e5a4b50c2",
                            "version_major": 2,
                            "version_minor": 0
                        },
                        "text/plain": [
                            "Loading P:   0%|          | 0/1010 [00:00<?, ?it/s]"
                        ]
                    },
                    "metadata": {},
                    "output_type": "display_data"
                },
                {
                    "data": {
                        "application/vnd.jupyter.widget-view+json": {
                            "model_id": "d02c6d59fe024b3a82c3d6504fbe517b",
                            "version_major": 2,
                            "version_minor": 0
                        },
                        "text/plain": [
                            "Loading Q:   0%|          | 0/1010 [00:00<?, ?it/s]"
                        ]
                    },
                    "metadata": {},
                    "output_type": "display_data"
                },
                {
                    "data": {
                        "application/vnd.jupyter.widget-view+json": {
                            "model_id": "2645d03d0bcb438e8c922f322c79ecf3",
                            "version_major": 2,
                            "version_minor": 0
                        },
                        "text/plain": [
                            "Loading R:   0%|          | 0/1020 [00:00<?, ?it/s]"
                        ]
                    },
                    "metadata": {},
                    "output_type": "display_data"
                },
                {
                    "data": {
                        "application/vnd.jupyter.widget-view+json": {
                            "model_id": "701400d07d2c4e148629d08117d3ab43",
                            "version_major": 2,
                            "version_minor": 0
                        },
                        "text/plain": [
                            "Loading S:   0%|          | 0/1020 [00:00<?, ?it/s]"
                        ]
                    },
                    "metadata": {},
                    "output_type": "display_data"
                },
                {
                    "data": {
                        "application/vnd.jupyter.widget-view+json": {
                            "model_id": "73d8840f25c44926b4fe4d7a8bc3e7eb",
                            "version_major": 2,
                            "version_minor": 0
                        },
                        "text/plain": [
                            "Loading T:   0%|          | 0/1020 [00:00<?, ?it/s]"
                        ]
                    },
                    "metadata": {},
                    "output_type": "display_data"
                },
                {
                    "data": {
                        "application/vnd.jupyter.widget-view+json": {
                            "model_id": "928a2aa20f644e309e1f91947caef39c",
                            "version_major": 2,
                            "version_minor": 0
                        },
                        "text/plain": [
                            "Loading U:   0%|          | 0/1010 [00:00<?, ?it/s]"
                        ]
                    },
                    "metadata": {},
                    "output_type": "display_data"
                },
                {
                    "data": {
                        "application/vnd.jupyter.widget-view+json": {
                            "model_id": "cea5c6d004cc407b834d656899b2587e",
                            "version_major": 2,
                            "version_minor": 0
                        },
                        "text/plain": [
                            "Loading V:   0%|          | 0/1030 [00:00<?, ?it/s]"
                        ]
                    },
                    "metadata": {},
                    "output_type": "display_data"
                },
                {
                    "data": {
                        "application/vnd.jupyter.widget-view+json": {
                            "model_id": "1c150a91b0ec4f74b55cf12a85e76293",
                            "version_major": 2,
                            "version_minor": 0
                        },
                        "text/plain": [
                            "Loading W:   0%|          | 0/1010 [00:00<?, ?it/s]"
                        ]
                    },
                    "metadata": {},
                    "output_type": "display_data"
                },
                {
                    "data": {
                        "application/vnd.jupyter.widget-view+json": {
                            "model_id": "77f018da54444a80824bd1ec60c2e9bb",
                            "version_major": 2,
                            "version_minor": 0
                        },
                        "text/plain": [
                            "Loading X:   0%|          | 0/1010 [00:00<?, ?it/s]"
                        ]
                    },
                    "metadata": {},
                    "output_type": "display_data"
                },
                {
                    "data": {
                        "application/vnd.jupyter.widget-view+json": {
                            "model_id": "69127feb1bf3421aa28f5db43f1c638d",
                            "version_major": 2,
                            "version_minor": 0
                        },
                        "text/plain": [
                            "Loading Y:   0%|          | 0/1010 [00:00<?, ?it/s]"
                        ]
                    },
                    "metadata": {},
                    "output_type": "display_data"
                },
                {
                    "data": {
                        "application/vnd.jupyter.widget-view+json": {
                            "model_id": "15ba589e120a4c3a962d45801e0fd237",
                            "version_major": 2,
                            "version_minor": 0
                        },
                        "text/plain": [
                            "Loading Z:   0%|          | 0/810 [00:00<?, ?it/s]"
                        ]
                    },
                    "metadata": {},
                    "output_type": "display_data"
                },
                {
                    "data": {
                        "application/vnd.jupyter.widget-view+json": {
                            "model_id": "2c85abeea53e4b2c9d989517b467068f",
                            "version_major": 2,
                            "version_minor": 0
                        },
                        "text/plain": [
                            "Loading manual:   0%|          | 0/35 [00:00<?, ?it/s]"
                        ]
                    },
                    "metadata": {},
                    "output_type": "display_data"
                },
                {
                    "data": {
                        "application/vnd.jupyter.widget-view+json": {
                            "model_id": "21b79d93e5df4b86814bb59f2a106179",
                            "version_major": 2,
                            "version_minor": 0
                        },
                        "text/plain": [
                            "Loading 0:   0%|          | 0/30 [00:00<?, ?it/s]"
                        ]
                    },
                    "metadata": {},
                    "output_type": "display_data"
                },
                {
                    "data": {
                        "application/vnd.jupyter.widget-view+json": {
                            "model_id": "fcafce3df27f48b188b558a8ceec4300",
                            "version_major": 2,
                            "version_minor": 0
                        },
                        "text/plain": [
                            "Loading 1:   0%|          | 0/30 [00:00<?, ?it/s]"
                        ]
                    },
                    "metadata": {},
                    "output_type": "display_data"
                },
                {
                    "data": {
                        "application/vnd.jupyter.widget-view+json": {
                            "model_id": "f1fdef3bafad451fa47341de5b890a3d",
                            "version_major": 2,
                            "version_minor": 0
                        },
                        "text/plain": [
                            "Loading 2:   0%|          | 0/30 [00:00<?, ?it/s]"
                        ]
                    },
                    "metadata": {},
                    "output_type": "display_data"
                },
                {
                    "data": {
                        "application/vnd.jupyter.widget-view+json": {
                            "model_id": "387cb1d9965443f092e75bad4e792a2e",
                            "version_major": 2,
                            "version_minor": 0
                        },
                        "text/plain": [
                            "Loading 3:   0%|          | 0/30 [00:00<?, ?it/s]"
                        ]
                    },
                    "metadata": {},
                    "output_type": "display_data"
                },
                {
                    "data": {
                        "application/vnd.jupyter.widget-view+json": {
                            "model_id": "3155be0535394728982ed9d61dfe298a",
                            "version_major": 2,
                            "version_minor": 0
                        },
                        "text/plain": [
                            "Loading 4:   0%|          | 0/30 [00:00<?, ?it/s]"
                        ]
                    },
                    "metadata": {},
                    "output_type": "display_data"
                },
                {
                    "data": {
                        "application/vnd.jupyter.widget-view+json": {
                            "model_id": "42d9bc818d114226817029acb2e3e0af",
                            "version_major": 2,
                            "version_minor": 0
                        },
                        "text/plain": [
                            "Loading 5:   0%|          | 0/30 [00:00<?, ?it/s]"
                        ]
                    },
                    "metadata": {},
                    "output_type": "display_data"
                },
                {
                    "data": {
                        "application/vnd.jupyter.widget-view+json": {
                            "model_id": "4604e97af4a7436e85775f83f1ccc1ad",
                            "version_major": 2,
                            "version_minor": 0
                        },
                        "text/plain": [
                            "Loading 6:   0%|          | 0/30 [00:00<?, ?it/s]"
                        ]
                    },
                    "metadata": {},
                    "output_type": "display_data"
                },
                {
                    "data": {
                        "application/vnd.jupyter.widget-view+json": {
                            "model_id": "96dd5269702e45868258ae11618b0a78",
                            "version_major": 2,
                            "version_minor": 0
                        },
                        "text/plain": [
                            "Loading 7:   0%|          | 0/30 [00:00<?, ?it/s]"
                        ]
                    },
                    "metadata": {},
                    "output_type": "display_data"
                },
                {
                    "data": {
                        "application/vnd.jupyter.widget-view+json": {
                            "model_id": "af4d6d22dca54a1e8db22d21cbb2f51f",
                            "version_major": 2,
                            "version_minor": 0
                        },
                        "text/plain": [
                            "Loading 8:   0%|          | 0/30 [00:00<?, ?it/s]"
                        ]
                    },
                    "metadata": {},
                    "output_type": "display_data"
                },
                {
                    "data": {
                        "application/vnd.jupyter.widget-view+json": {
                            "model_id": "c9410fab7c40404cb03f3fae04cdb289",
                            "version_major": 2,
                            "version_minor": 0
                        },
                        "text/plain": [
                            "Loading 9:   0%|          | 0/30 [00:00<?, ?it/s]"
                        ]
                    },
                    "metadata": {},
                    "output_type": "display_data"
                },
                {
                    "data": {
                        "application/vnd.jupyter.widget-view+json": {
                            "model_id": "63eaa612468143b9a59d9f936f6d9c32",
                            "version_major": 2,
                            "version_minor": 0
                        },
                        "text/plain": [
                            "Loading A:   0%|          | 0/30 [00:00<?, ?it/s]"
                        ]
                    },
                    "metadata": {},
                    "output_type": "display_data"
                },
                {
                    "data": {
                        "application/vnd.jupyter.widget-view+json": {
                            "model_id": "f613e78be8334e61bd941c7fca8cf93f",
                            "version_major": 2,
                            "version_minor": 0
                        },
                        "text/plain": [
                            "Loading B:   0%|          | 0/30 [00:00<?, ?it/s]"
                        ]
                    },
                    "metadata": {},
                    "output_type": "display_data"
                },
                {
                    "data": {
                        "application/vnd.jupyter.widget-view+json": {
                            "model_id": "98f20e2314e049a5b94d5e8f69b57183",
                            "version_major": 2,
                            "version_minor": 0
                        },
                        "text/plain": [
                            "Loading C:   0%|          | 0/30 [00:00<?, ?it/s]"
                        ]
                    },
                    "metadata": {},
                    "output_type": "display_data"
                },
                {
                    "data": {
                        "application/vnd.jupyter.widget-view+json": {
                            "model_id": "1fa7725b9a0642c89f278a115e74a42b",
                            "version_major": 2,
                            "version_minor": 0
                        },
                        "text/plain": [
                            "Loading D:   0%|          | 0/30 [00:00<?, ?it/s]"
                        ]
                    },
                    "metadata": {},
                    "output_type": "display_data"
                },
                {
                    "data": {
                        "application/vnd.jupyter.widget-view+json": {
                            "model_id": "4e1fffa3d5d84b079a061eb8de8c6ece",
                            "version_major": 2,
                            "version_minor": 0
                        },
                        "text/plain": [
                            "Loading E:   0%|          | 0/30 [00:00<?, ?it/s]"
                        ]
                    },
                    "metadata": {},
                    "output_type": "display_data"
                },
                {
                    "data": {
                        "application/vnd.jupyter.widget-view+json": {
                            "model_id": "a8529b376a9d42119ea9d89143f70009",
                            "version_major": 2,
                            "version_minor": 0
                        },
                        "text/plain": [
                            "Loading F:   0%|          | 0/30 [00:00<?, ?it/s]"
                        ]
                    },
                    "metadata": {},
                    "output_type": "display_data"
                },
                {
                    "data": {
                        "application/vnd.jupyter.widget-view+json": {
                            "model_id": "9e620840dbb548baa6fffb69309ae868",
                            "version_major": 2,
                            "version_minor": 0
                        },
                        "text/plain": [
                            "Loading G:   0%|          | 0/30 [00:00<?, ?it/s]"
                        ]
                    },
                    "metadata": {},
                    "output_type": "display_data"
                },
                {
                    "data": {
                        "application/vnd.jupyter.widget-view+json": {
                            "model_id": "2b7c68256fe9474baae24ddcc88f5930",
                            "version_major": 2,
                            "version_minor": 0
                        },
                        "text/plain": [
                            "Loading H:   0%|          | 0/30 [00:00<?, ?it/s]"
                        ]
                    },
                    "metadata": {},
                    "output_type": "display_data"
                },
                {
                    "data": {
                        "application/vnd.jupyter.widget-view+json": {
                            "model_id": "74d4ef2b2cb04edb9aa31052cbbcebed",
                            "version_major": 2,
                            "version_minor": 0
                        },
                        "text/plain": [
                            "Loading I:   0%|          | 0/30 [00:00<?, ?it/s]"
                        ]
                    },
                    "metadata": {},
                    "output_type": "display_data"
                },
                {
                    "data": {
                        "application/vnd.jupyter.widget-view+json": {
                            "model_id": "bac4f7763f6e46528ad9cb339eb38a69",
                            "version_major": 2,
                            "version_minor": 0
                        },
                        "text/plain": [
                            "Loading J:   0%|          | 0/30 [00:00<?, ?it/s]"
                        ]
                    },
                    "metadata": {},
                    "output_type": "display_data"
                },
                {
                    "data": {
                        "application/vnd.jupyter.widget-view+json": {
                            "model_id": "85cf3a5115d94e2d91cae293f643a7d0",
                            "version_major": 2,
                            "version_minor": 0
                        },
                        "text/plain": [
                            "Loading K:   0%|          | 0/30 [00:00<?, ?it/s]"
                        ]
                    },
                    "metadata": {},
                    "output_type": "display_data"
                },
                {
                    "data": {
                        "application/vnd.jupyter.widget-view+json": {
                            "model_id": "82b8198a4fe745bd9825586d4919f905",
                            "version_major": 2,
                            "version_minor": 0
                        },
                        "text/plain": [
                            "Loading L:   0%|          | 0/30 [00:00<?, ?it/s]"
                        ]
                    },
                    "metadata": {},
                    "output_type": "display_data"
                },
                {
                    "data": {
                        "application/vnd.jupyter.widget-view+json": {
                            "model_id": "dd1176e836664087a1a3aac25a18d570",
                            "version_major": 2,
                            "version_minor": 0
                        },
                        "text/plain": [
                            "Loading M:   0%|          | 0/30 [00:00<?, ?it/s]"
                        ]
                    },
                    "metadata": {},
                    "output_type": "display_data"
                },
                {
                    "data": {
                        "application/vnd.jupyter.widget-view+json": {
                            "model_id": "7f28bf9263684224b7e7d1a5edb9f1f8",
                            "version_major": 2,
                            "version_minor": 0
                        },
                        "text/plain": [
                            "Loading N:   0%|          | 0/30 [00:00<?, ?it/s]"
                        ]
                    },
                    "metadata": {},
                    "output_type": "display_data"
                },
                {
                    "data": {
                        "application/vnd.jupyter.widget-view+json": {
                            "model_id": "75909ace0a3b4173a4a1e85c0f8b3878",
                            "version_major": 2,
                            "version_minor": 0
                        },
                        "text/plain": [
                            "Loading P:   0%|          | 0/30 [00:00<?, ?it/s]"
                        ]
                    },
                    "metadata": {},
                    "output_type": "display_data"
                },
                {
                    "data": {
                        "application/vnd.jupyter.widget-view+json": {
                            "model_id": "e720baa345554bba9f25671ebbab41e5",
                            "version_major": 2,
                            "version_minor": 0
                        },
                        "text/plain": [
                            "Loading Q:   0%|          | 0/30 [00:00<?, ?it/s]"
                        ]
                    },
                    "metadata": {},
                    "output_type": "display_data"
                },
                {
                    "data": {
                        "application/vnd.jupyter.widget-view+json": {
                            "model_id": "48b49d67d3aa4c2db9371fdc1063f13c",
                            "version_major": 2,
                            "version_minor": 0
                        },
                        "text/plain": [
                            "Loading R:   0%|          | 0/30 [00:00<?, ?it/s]"
                        ]
                    },
                    "metadata": {},
                    "output_type": "display_data"
                },
                {
                    "data": {
                        "application/vnd.jupyter.widget-view+json": {
                            "model_id": "cbd04d3a0f074ddc9bbf06dc436b05d2",
                            "version_major": 2,
                            "version_minor": 0
                        },
                        "text/plain": [
                            "Loading S:   0%|          | 0/30 [00:00<?, ?it/s]"
                        ]
                    },
                    "metadata": {},
                    "output_type": "display_data"
                },
                {
                    "data": {
                        "application/vnd.jupyter.widget-view+json": {
                            "model_id": "1cbf7cf9dd7f44eb915dd83634b16f56",
                            "version_major": 2,
                            "version_minor": 0
                        },
                        "text/plain": [
                            "Loading T:   0%|          | 0/30 [00:00<?, ?it/s]"
                        ]
                    },
                    "metadata": {},
                    "output_type": "display_data"
                },
                {
                    "data": {
                        "application/vnd.jupyter.widget-view+json": {
                            "model_id": "77d88757c3a849a1aa544cad91679f93",
                            "version_major": 2,
                            "version_minor": 0
                        },
                        "text/plain": [
                            "Loading U:   0%|          | 0/30 [00:00<?, ?it/s]"
                        ]
                    },
                    "metadata": {},
                    "output_type": "display_data"
                },
                {
                    "data": {
                        "application/vnd.jupyter.widget-view+json": {
                            "model_id": "c4bcd3a29ed4482aa958c89f32a34643",
                            "version_major": 2,
                            "version_minor": 0
                        },
                        "text/plain": [
                            "Loading V:   0%|          | 0/30 [00:00<?, ?it/s]"
                        ]
                    },
                    "metadata": {},
                    "output_type": "display_data"
                },
                {
                    "data": {
                        "application/vnd.jupyter.widget-view+json": {
                            "model_id": "ca30a7b3f71f4a7a859e08a68b73a395",
                            "version_major": 2,
                            "version_minor": 0
                        },
                        "text/plain": [
                            "Loading W:   0%|          | 0/30 [00:00<?, ?it/s]"
                        ]
                    },
                    "metadata": {},
                    "output_type": "display_data"
                },
                {
                    "data": {
                        "application/vnd.jupyter.widget-view+json": {
                            "model_id": "30bc8d98e2704c7b8fea0f2a3947ed6e",
                            "version_major": 2,
                            "version_minor": 0
                        },
                        "text/plain": [
                            "Loading X:   0%|          | 0/30 [00:00<?, ?it/s]"
                        ]
                    },
                    "metadata": {},
                    "output_type": "display_data"
                },
                {
                    "data": {
                        "application/vnd.jupyter.widget-view+json": {
                            "model_id": "5cef04504191407b84a648c9c45feb91",
                            "version_major": 2,
                            "version_minor": 0
                        },
                        "text/plain": [
                            "Loading Y:   0%|          | 0/30 [00:00<?, ?it/s]"
                        ]
                    },
                    "metadata": {},
                    "output_type": "display_data"
                },
                {
                    "data": {
                        "application/vnd.jupyter.widget-view+json": {
                            "model_id": "f24d0cff499a4fe18ca5c62dd6e0c870",
                            "version_major": 2,
                            "version_minor": 0
                        },
                        "text/plain": [
                            "Loading Z:   0%|          | 0/30 [00:00<?, ?it/s]"
                        ]
                    },
                    "metadata": {},
                    "output_type": "display_data"
                },
                {
                    "name": "stdout",
                    "output_type": "stream",
                    "text": [
                        "Data samples: 107550\n",
                        "X_train shape: 96795\n",
                        "Y_train shape: 96795\n",
                        "X_test shape: 10755\n",
                        "Y_test shape: 10755\n",
                        "Epoch 1/25\n"
                    ]
                },
                {
                    "name": "stderr",
                    "output_type": "stream",
                    "text": [
                        "2024-03-25 02:33:21.407478: E tensorflow/core/grappler/optimizers/meta_optimizer.cc:961] layout failed: INVALID_ARGUMENT: Size of values 0 does not match size of permutation 4 @ fanin shape insequential/dropout/dropout/SelectV2-2-TransposeNHWCToNCHW-LayoutOptimizer\n",
                        "2024-03-25 02:33:24.969511: I external/local_xla/xla/stream_executor/cuda/cuda_dnn.cc:454] Loaded cuDNN version 8906\n",
                        "2024-03-25 02:33:25.447171: I external/local_tsl/tsl/platform/default/subprocess.cc:304] Start cannot spawn child process: No such file or directory\n",
                        "2024-03-25 02:33:26.047416: W external/local_tsl/tsl/framework/bfc_allocator.cc:296] Allocator (GPU_0_bfc) ran out of memory trying to allocate 1.03GiB with freed_by_count=0. The caller indicates that this is not a failure, but this may mean that there could be performance gains if more memory were available.\n",
                        "2024-03-25 02:33:26.229033: W external/local_tsl/tsl/framework/bfc_allocator.cc:296] Allocator (GPU_0_bfc) ran out of memory trying to allocate 1.03GiB with freed_by_count=0. The caller indicates that this is not a failure, but this may mean that there could be performance gains if more memory were available.\n",
                        "2024-03-25 02:33:26.319901: W external/local_tsl/tsl/framework/bfc_allocator.cc:296] Allocator (GPU_0_bfc) ran out of memory trying to allocate 908.12MiB with freed_by_count=0. The caller indicates that this is not a failure, but this may mean that there could be performance gains if more memory were available.\n",
                        "2024-03-25 02:33:26.707063: W external/local_tsl/tsl/framework/bfc_allocator.cc:296] Allocator (GPU_0_bfc) ran out of memory trying to allocate 2.05GiB with freed_by_count=0. The caller indicates that this is not a failure, but this may mean that there could be performance gains if more memory were available.\n",
                        "2024-03-25 02:33:26.724535: W external/local_tsl/tsl/framework/bfc_allocator.cc:296] Allocator (GPU_0_bfc) ran out of memory trying to allocate 908.12MiB with freed_by_count=0. The caller indicates that this is not a failure, but this may mean that there could be performance gains if more memory were available.\n",
                        "2024-03-25 02:33:27.116838: W external/local_tsl/tsl/framework/bfc_allocator.cc:296] Allocator (GPU_0_bfc) ran out of memory trying to allocate 2.05GiB with freed_by_count=0. The caller indicates that this is not a failure, but this may mean that there could be performance gains if more memory were available.\n",
                        "2024-03-25 02:33:28.113934: I external/local_tsl/tsl/platform/default/subprocess.cc:304] Start cannot spawn child process: No such file or directory\n",
                        "2024-03-25 02:33:31.101467: I external/local_xla/xla/service/service.cc:168] XLA service 0x76d7bcd71b90 initialized for platform CUDA (this does not guarantee that XLA will be used). Devices:\n",
                        "2024-03-25 02:33:31.101627: I external/local_xla/xla/service/service.cc:176]   StreamExecutor device (0): NVIDIA GeForce RTX 3050 Ti Laptop GPU, Compute Capability 8.6\n",
                        "2024-03-25 02:33:31.134875: I tensorflow/compiler/mlir/tensorflow/utils/dump_mlir_util.cc:269] disabling MLIR crash reproducer, set env var `MLIR_CRASH_REPRODUCER_DIRECTORY` to enable.\n",
                        "WARNING: All log messages before absl::InitializeLog() is called are written to STDERR\n",
                        "I0000 00:00:1711326811.640196  360544 device_compiler.h:186] Compiled cluster using XLA!  This line is logged at most once for the lifetime of the process.\n",
                        "2024-03-25 02:33:34.841190: W external/local_tsl/tsl/framework/bfc_allocator.cc:296] Allocator (GPU_0_bfc) ran out of memory trying to allocate 650.78MiB with freed_by_count=0. The caller indicates that this is not a failure, but this may mean that there could be performance gains if more memory were available.\n",
                        "2024-03-25 02:33:35.405559: W external/local_tsl/tsl/framework/bfc_allocator.cc:296] Allocator (GPU_0_bfc) ran out of memory trying to allocate 650.78MiB with freed_by_count=0. The caller indicates that this is not a failure, but this may mean that there could be performance gains if more memory were available.\n",
                        "2024-03-25 02:33:36.024170: W external/local_tsl/tsl/framework/bfc_allocator.cc:296] Allocator (GPU_0_bfc) ran out of memory trying to allocate 1.27GiB with freed_by_count=0. The caller indicates that this is not a failure, but this may mean that there could be performance gains if more memory were available.\n",
                        "2024-03-25 02:33:36.314897: W external/local_tsl/tsl/framework/bfc_allocator.cc:296] Allocator (GPU_0_bfc) ran out of memory trying to allocate 3.70GiB with freed_by_count=0. The caller indicates that this is not a failure, but this may mean that there could be performance gains if more memory were available.\n"
                    ]
                },
                {
                    "name": "stdout",
                    "output_type": "stream",
                    "text": [
                        "605/605 [==============================] - 136s 167ms/step - loss: 0.5068 - accuracy: 0.8539 - val_loss: 0.0358 - val_accuracy: 0.9906\n",
                        "Epoch 2/25\n",
                        "605/605 [==============================] - 83s 137ms/step - loss: 0.0671 - accuracy: 0.9794 - val_loss: 0.0223 - val_accuracy: 0.9936\n",
                        "Epoch 3/25\n",
                        "605/605 [==============================] - 83s 137ms/step - loss: 0.0411 - accuracy: 0.9871 - val_loss: 0.0158 - val_accuracy: 0.9957\n",
                        "Epoch 4/25\n",
                        "605/605 [==============================] - 83s 137ms/step - loss: 0.0283 - accuracy: 0.9915 - val_loss: 0.0121 - val_accuracy: 0.9967\n",
                        "Epoch 5/25\n",
                        "605/605 [==============================] - 83s 137ms/step - loss: 0.0214 - accuracy: 0.9935 - val_loss: 0.0121 - val_accuracy: 0.9964\n",
                        "Epoch 6/25\n",
                        "605/605 [==============================] - 83s 137ms/step - loss: 0.0190 - accuracy: 0.9941 - val_loss: 0.0102 - val_accuracy: 0.9974\n",
                        "Epoch 7/25\n",
                        "605/605 [==============================] - 83s 136ms/step - loss: 0.0143 - accuracy: 0.9951 - val_loss: 0.0121 - val_accuracy: 0.9964\n",
                        "Epoch 8/25\n",
                        "605/605 [==============================] - 83s 137ms/step - loss: 0.0143 - accuracy: 0.9954 - val_loss: 0.0090 - val_accuracy: 0.9971\n",
                        "Epoch 9/25\n",
                        "605/605 [==============================] - 83s 137ms/step - loss: 0.0113 - accuracy: 0.9966 - val_loss: 0.0086 - val_accuracy: 0.9978\n",
                        "Epoch 10/25\n",
                        "605/605 [==============================] - 83s 137ms/step - loss: 0.0110 - accuracy: 0.9969 - val_loss: 0.0078 - val_accuracy: 0.9981\n",
                        "Epoch 11/25\n",
                        "605/605 [==============================] - 82s 136ms/step - loss: 0.0084 - accuracy: 0.9973 - val_loss: 0.0081 - val_accuracy: 0.9981\n",
                        "Epoch 12/25\n",
                        "605/605 [==============================] - 83s 137ms/step - loss: 0.0074 - accuracy: 0.9975 - val_loss: 0.0082 - val_accuracy: 0.9985\n",
                        "Epoch 13/25\n",
                        "605/605 [==============================] - 83s 136ms/step - loss: 0.0086 - accuracy: 0.9974 - val_loss: 0.0102 - val_accuracy: 0.9976\n",
                        "Epoch 14/25\n",
                        "605/605 [==============================] - 83s 136ms/step - loss: 0.0070 - accuracy: 0.9979 - val_loss: 0.0084 - val_accuracy: 0.9981\n",
                        "Epoch 15/25\n",
                        "605/605 [==============================] - ETA: 0s - loss: 0.0079 - accuracy: 0.9978Restoring model weights from the end of the best epoch: 10.\n",
                        "605/605 [==============================] - 83s 137ms/step - loss: 0.0079 - accuracy: 0.9978 - val_loss: 0.0082 - val_accuracy: 0.9983\n",
                        "Epoch 15: early stopping\n"
                    ]
                },
                {
                    "data": {
                        "image/png": "[encoded data removed]",
                        "text/plain": [
                            "<Figure size 1400x500 with 2 Axes>"
                        ]
                    },
                    "metadata": {},
                    "output_type": "display_data"
                },
                {
                    "name": "stdout",
                    "output_type": "stream",
                    "text": [
                        "Saved model v3 to disk\n"
                    ]
                },
                {
                    "ename": "",
                    "evalue": "",
                    "output_type": "error",
                    "traceback": [
                        "\u001b[1;31mThe Kernel crashed while executing code in the current cell or a previous cell. \n",
                        "\u001b[1;31mPlease review the code in the cell(s) to identify a possible cause of the failure. \n",
                        "\u001b[1;31mClick <a href='https://aka.ms/vscodeJupyterKernelCrash'>here</a> for more info. \n",
                        "\u001b[1;31mView Jupyter <a href='command:jupyter.viewOutput'>log</a> for further details."
                    ]
                }
            ],
            "source": [
                "model = create_model()\n",
                "history = train_model(model, learning_rate=0.001, batch_size=128, epochs=25, patience=5)\n",
                "plot_model(history, version=3, save=True)\n",
                "save_model(model, version=3)"
            ]
        }
    ],
    "metadata": {
        "kernelspec": {
            "display_name": "Python 3",
            "language": "python",
            "name": "python3"
        },
        "language_info": {
            "codemirror_mode": {
                "name": "ipython",
                "version": 3
            },
            "file_extension": ".py",
            "mimetype": "text/x-python",
            "name": "python",
            "nbconvert_exporter": "python",
            "pygments_lexer": "ipython3",
            "version": "3.11.8"
        }
    },
    "nbformat": 4,
    "nbformat_minor": 2
}
