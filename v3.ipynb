{
    "cells": [
        {
            "cell_type": "code",
            "execution_count": 1,
            "metadata": {},
            "outputs": [
                {
                    "name": "stderr",
                    "output_type": "stream",
                    "text": [
                        "2024-03-30 09:06:28.323058: I tensorflow/core/util/port.cc:113] oneDNN custom operations are on. You may see slightly different numerical results due to floating-point round-off errors from different computation orders. To turn them off, set the environment variable `TF_ENABLE_ONEDNN_OPTS=0`.\n",
                        "2024-03-30 09:06:28.348745: E external/local_xla/xla/stream_executor/cuda/cuda_dnn.cc:9261] Unable to register cuDNN factory: Attempting to register factory for plugin cuDNN when one has already been registered\n",
                        "2024-03-30 09:06:28.348767: E external/local_xla/xla/stream_executor/cuda/cuda_fft.cc:607] Unable to register cuFFT factory: Attempting to register factory for plugin cuFFT when one has already been registered\n",
                        "2024-03-30 09:06:28.349648: E external/local_xla/xla/stream_executor/cuda/cuda_blas.cc:1515] Unable to register cuBLAS factory: Attempting to register factory for plugin cuBLAS when one has already been registered\n",
                        "2024-03-30 09:06:28.354261: I tensorflow/core/platform/cpu_feature_guard.cc:182] This TensorFlow binary is optimized to use available CPU instructions in performance-critical operations.\n",
                        "To enable the following instructions: AVX2 AVX_VNNI FMA, in other operations, rebuild TensorFlow with the appropriate compiler flags.\n",
                        "2024-03-30 09:06:28.787761: W tensorflow/compiler/tf2tensorrt/utils/py_utils.cc:38] TF-TRT Warning: Could not find TensorRT\n"
                    ]
                }
            ],
            "source": [
                "import numpy as np\n",
                "import tensorflow as tf\n",
                "from keras.models import Sequential\n",
                "from keras.layers import Dense, Conv2D, MaxPooling2D, Flatten, Dropout, BatchNormalization\n",
                "from keras.losses import categorical_crossentropy\n",
                "from keras.optimizers import Adam\n",
                "import keras\n",
                "\n",
                "from settings import *\n",
                "\n",
                "from utils.general import clean_session, plot_model, split_dataset, scale_dataset, shape_dataset, print_dataset_info\n",
                "from utils.models.ocr import save_model"
            ]
        },
        {
            "cell_type": "code",
            "execution_count": 2,
            "metadata": {},
            "outputs": [],
            "source": [
                "import Datasets.OCR.CNN_Letters.loader as CNN_Letters\n",
                "import Datasets.OCR.manual.loader as manual\n",
                "import Datasets.OCR.EnglishFnt.loader as EnglishFnt"
            ]
        },
        {
            "cell_type": "code",
            "execution_count": 3,
            "metadata": {},
            "outputs": [],
            "source": [
                "# clean_session()"
            ]
        },
        {
            "cell_type": "code",
            "execution_count": 4,
            "metadata": {},
            "outputs": [],
            "source": [
                "def create_model():\n",
                "    model = Sequential()\n",
                "\n",
                "    # CNN\n",
                "    model.add(Conv2D(32, kernel_size=(3, 3), activation='relu',input_shape=INPUT_SHAPE))\n",
                "    model.add(Conv2D(64, kernel_size=(3, 3), activation='relu'))\n",
                "    model.add(Conv2D(128, kernel_size=(3, 3), activation='relu'))\n",
                "\n",
                "    # Pooling\n",
                "    model.add(MaxPooling2D(pool_size=(2, 2), strides=2, padding='same'))\n",
                "\n",
                "    # Drop some data points randomly (mainly for caligraphy reasons)\n",
                "    model.add(Dropout(0.25))\n",
                "\n",
                "    # Flattening before feeding to FCNN\n",
                "    model.add(Flatten())\n",
                "\n",
                "    # FCNN\n",
                "    # use softmax since we are doing classification (1 node for each possible output)\n",
                "    model.add(Dense(128, activation='relu'))\n",
                "    model.add(Dense(64, activation='relu'))\n",
                "    model.add(Dropout(0.3))\n",
                "    model.add(Dense(len(COMBINED_CHARS), activation='softmax'))\n",
                "\n",
                "    model.summary()\n",
                "\n",
                "    return model\n"
            ]
        },
        {
            "cell_type": "code",
            "execution_count": 5,
            "metadata": {},
            "outputs": [],
            "source": [
                "def train_model(model, learning_rate, batch_size, epochs, patience):\n",
                "    optimizer = Adam(learning_rate=learning_rate)\n",
                "    model.compile(loss=categorical_crossentropy, optimizer=optimizer, metrics=['accuracy'])\n",
                "\n",
                "    callbacks = [keras.callbacks.EarlyStopping(monitor='val_loss', patience=patience, restore_best_weights=True, verbose=1)]\n",
                "\n",
                "    CX_data, CY_data = CNN_Letters.load_dataset()\n",
                "    MX_data, MY_data = manual.load_dataset()\n",
                "    X_data = np.concatenate((CX_data, MX_data))\n",
                "    Y_data = np.concatenate((CY_data, MY_data))\n",
                "\n",
                "    X_train, X_test, Y_train, Y_test = split_dataset(X_data, Y_data, test_percent=TEST_PERCENT, random_state=RANDOM_STATE, shuffle=True)\n",
                "    X_train, X_test = shape_dataset(X_train, X_test, input_shape=INPUT_SHAPE)\n",
                "    X_train, X_test = scale_dataset(X_train, X_test, batch_size=batch_size)\n",
                "\n",
                "    print_dataset_info(X_data, X_train, Y_train, X_test, Y_test)\n",
                "\n",
                "    history = model.fit(X_train, Y_train, batch_size=batch_size, epochs=epochs, validation_split=VALIDATION_PERCENT, callbacks=callbacks)\n",
                "\n",
                "    return history"
            ]
        },
        {
            "cell_type": "code",
            "execution_count": 6,
            "metadata": {},
            "outputs": [
                {
                    "name": "stdout",
                    "output_type": "stream",
                    "text": [
                        "Model: \"sequential\"\n",
                        "_________________________________________________________________\n",
                        " Layer (type)                Output Shape              Param #   \n",
                        "=================================================================\n",
                        " conv2d (Conv2D)             (None, 98, 48, 32)        320       \n",
                        "                                                                 \n",
                        " conv2d_1 (Conv2D)           (None, 96, 46, 64)        18496     \n",
                        "                                                                 \n",
                        " conv2d_2 (Conv2D)           (None, 94, 44, 128)       73856     \n",
                        "                                                                 \n",
                        " max_pooling2d (MaxPooling2  (None, 47, 22, 128)       0         \n",
                        " D)                                                              \n",
                        "                                                                 \n",
                        " dropout (Dropout)           (None, 47, 22, 128)       0         \n",
                        "                                                                 \n",
                        " flatten (Flatten)           (None, 132352)            0         \n",
                        "                                                                 \n",
                        " dense (Dense)               (None, 128)               16941184  \n",
                        "                                                                 \n",
                        " dense_1 (Dense)             (None, 64)                8256      \n",
                        "                                                                 \n",
                        " dropout_1 (Dropout)         (None, 64)                0         \n",
                        "                                                                 \n",
                        " dense_2 (Dense)             (None, 35)                2275      \n",
                        "                                                                 \n",
                        "=================================================================\n",
                        "Total params: 17044387 (65.02 MB)\n",
                        "Trainable params: 17044387 (65.02 MB)\n",
                        "Non-trainable params: 0 (0.00 Byte)\n",
                        "_________________________________________________________________\n"
                    ]
                },
                {
                    "name": "stderr",
                    "output_type": "stream",
                    "text": [
                        "2024-03-30 09:06:29.908167: I external/local_xla/xla/stream_executor/cuda/cuda_executor.cc:901] successful NUMA node read from SysFS had negative value (-1), but there must be at least one NUMA node, so returning NUMA node zero. See more at https://github.com/torvalds/linux/blob/v6.0/Documentation/ABI/testing/sysfs-bus-pci#L344-L355\n",
                        "2024-03-30 09:06:29.928139: I external/local_xla/xla/stream_executor/cuda/cuda_executor.cc:901] successful NUMA node read from SysFS had negative value (-1), but there must be at least one NUMA node, so returning NUMA node zero. See more at https://github.com/torvalds/linux/blob/v6.0/Documentation/ABI/testing/sysfs-bus-pci#L344-L355\n",
                        "2024-03-30 09:06:29.928343: I external/local_xla/xla/stream_executor/cuda/cuda_executor.cc:901] successful NUMA node read from SysFS had negative value (-1), but there must be at least one NUMA node, so returning NUMA node zero. See more at https://github.com/torvalds/linux/blob/v6.0/Documentation/ABI/testing/sysfs-bus-pci#L344-L355\n",
                        "2024-03-30 09:06:29.929797: I external/local_xla/xla/stream_executor/cuda/cuda_executor.cc:901] successful NUMA node read from SysFS had negative value (-1), but there must be at least one NUMA node, so returning NUMA node zero. See more at https://github.com/torvalds/linux/blob/v6.0/Documentation/ABI/testing/sysfs-bus-pci#L344-L355\n",
                        "2024-03-30 09:06:29.930001: I external/local_xla/xla/stream_executor/cuda/cuda_executor.cc:901] successful NUMA node read from SysFS had negative value (-1), but there must be at least one NUMA node, so returning NUMA node zero. See more at https://github.com/torvalds/linux/blob/v6.0/Documentation/ABI/testing/sysfs-bus-pci#L344-L355\n",
                        "2024-03-30 09:06:29.930116: I external/local_xla/xla/stream_executor/cuda/cuda_executor.cc:901] successful NUMA node read from SysFS had negative value (-1), but there must be at least one NUMA node, so returning NUMA node zero. See more at https://github.com/torvalds/linux/blob/v6.0/Documentation/ABI/testing/sysfs-bus-pci#L344-L355\n",
                        "2024-03-30 09:06:29.974923: I external/local_xla/xla/stream_executor/cuda/cuda_executor.cc:901] successful NUMA node read from SysFS had negative value (-1), but there must be at least one NUMA node, so returning NUMA node zero. See more at https://github.com/torvalds/linux/blob/v6.0/Documentation/ABI/testing/sysfs-bus-pci#L344-L355\n",
                        "2024-03-30 09:06:29.975062: I external/local_xla/xla/stream_executor/cuda/cuda_executor.cc:901] successful NUMA node read from SysFS had negative value (-1), but there must be at least one NUMA node, so returning NUMA node zero. See more at https://github.com/torvalds/linux/blob/v6.0/Documentation/ABI/testing/sysfs-bus-pci#L344-L355\n",
                        "2024-03-30 09:06:29.975130: I external/local_xla/xla/stream_executor/cuda/cuda_executor.cc:901] successful NUMA node read from SysFS had negative value (-1), but there must be at least one NUMA node, so returning NUMA node zero. See more at https://github.com/torvalds/linux/blob/v6.0/Documentation/ABI/testing/sysfs-bus-pci#L344-L355\n",
                        "2024-03-30 09:06:29.975187: I tensorflow/core/common_runtime/gpu/gpu_device.cc:1929] Created device /job:localhost/replica:0/task:0/device:GPU:0 with 2170 MB memory:  -> device: 0, name: NVIDIA GeForce RTX 3050 Ti Laptop GPU, pci bus id: 0000:01:00.0, compute capability: 8.6\n"
                    ]
                },
                {
                    "data": {
                        "application/vnd.jupyter.widget-view+json": {
                            "model_id": "bc5bd5944c57424cab04531b17e7da84",
                            "version_major": 2,
                            "version_minor": 0
                        },
                        "text/plain": [
                            "Loading CNN_Letters:   0%|          | 0/35 [00:00<?, ?it/s]"
                        ]
                    },
                    "metadata": {},
                    "output_type": "display_data"
                },
                {
                    "data": {
                        "application/vnd.jupyter.widget-view+json": {
                            "model_id": "38e1e700acaa4d1e80b277a8484c869f",
                            "version_major": 2,
                            "version_minor": 0
                        },
                        "text/plain": [
                            "Loading 0:   0%|          | 0/1030 [00:00<?, ?it/s]"
                        ]
                    },
                    "metadata": {},
                    "output_type": "display_data"
                },
                {
                    "data": {
                        "application/vnd.jupyter.widget-view+json": {
                            "model_id": "0a957afd8ce4444a87edc1fd925da338",
                            "version_major": 2,
                            "version_minor": 0
                        },
                        "text/plain": [
                            "Loading 1:   0%|          | 0/1030 [00:00<?, ?it/s]"
                        ]
                    },
                    "metadata": {},
                    "output_type": "display_data"
                },
                {
                    "data": {
                        "application/vnd.jupyter.widget-view+json": {
                            "model_id": "e5aef6652ddb4de8a2aa72f869530267",
                            "version_major": 2,
                            "version_minor": 0
                        },
                        "text/plain": [
                            "Loading 2:   0%|          | 0/1030 [00:00<?, ?it/s]"
                        ]
                    },
                    "metadata": {},
                    "output_type": "display_data"
                },
                {
                    "data": {
                        "application/vnd.jupyter.widget-view+json": {
                            "model_id": "09af5664eb77407c903f5cf30ec6dfa3",
                            "version_major": 2,
                            "version_minor": 0
                        },
                        "text/plain": [
                            "Loading 3:   0%|          | 0/1030 [00:00<?, ?it/s]"
                        ]
                    },
                    "metadata": {},
                    "output_type": "display_data"
                },
                {
                    "data": {
                        "application/vnd.jupyter.widget-view+json": {
                            "model_id": "6f2cf4ecf7b84bf09047515e599ef6bb",
                            "version_major": 2,
                            "version_minor": 0
                        },
                        "text/plain": [
                            "Loading 4:   0%|          | 0/1030 [00:00<?, ?it/s]"
                        ]
                    },
                    "metadata": {},
                    "output_type": "display_data"
                },
                {
                    "data": {
                        "application/vnd.jupyter.widget-view+json": {
                            "model_id": "3df2d9db987d4beca3b5d111fdc9f569",
                            "version_major": 2,
                            "version_minor": 0
                        },
                        "text/plain": [
                            "Loading 5:   0%|          | 0/1030 [00:00<?, ?it/s]"
                        ]
                    },
                    "metadata": {},
                    "output_type": "display_data"
                },
                {
                    "data": {
                        "application/vnd.jupyter.widget-view+json": {
                            "model_id": "0eedc815a6fb48d29ec7bd0be094c6ba",
                            "version_major": 2,
                            "version_minor": 0
                        },
                        "text/plain": [
                            "Loading 6:   0%|          | 0/1030 [00:00<?, ?it/s]"
                        ]
                    },
                    "metadata": {},
                    "output_type": "display_data"
                },
                {
                    "data": {
                        "application/vnd.jupyter.widget-view+json": {
                            "model_id": "de5286b1b111448d87ee630177371492",
                            "version_major": 2,
                            "version_minor": 0
                        },
                        "text/plain": [
                            "Loading 7:   0%|          | 0/1030 [00:00<?, ?it/s]"
                        ]
                    },
                    "metadata": {},
                    "output_type": "display_data"
                },
                {
                    "data": {
                        "application/vnd.jupyter.widget-view+json": {
                            "model_id": "b9a04a70746a4578b005aa4ddbe72e50",
                            "version_major": 2,
                            "version_minor": 0
                        },
                        "text/plain": [
                            "Loading 8:   0%|          | 0/1030 [00:00<?, ?it/s]"
                        ]
                    },
                    "metadata": {},
                    "output_type": "display_data"
                },
                {
                    "data": {
                        "application/vnd.jupyter.widget-view+json": {
                            "model_id": "838ad6b617524825abde5d0a6fbd4c34",
                            "version_major": 2,
                            "version_minor": 0
                        },
                        "text/plain": [
                            "Loading 9:   0%|          | 0/1030 [00:00<?, ?it/s]"
                        ]
                    },
                    "metadata": {},
                    "output_type": "display_data"
                },
                {
                    "data": {
                        "application/vnd.jupyter.widget-view+json": {
                            "model_id": "72f208ad5cf24686b6716cdfee022c89",
                            "version_major": 2,
                            "version_minor": 0
                        },
                        "text/plain": [
                            "Loading A:   0%|          | 0/1010 [00:00<?, ?it/s]"
                        ]
                    },
                    "metadata": {},
                    "output_type": "display_data"
                },
                {
                    "data": {
                        "application/vnd.jupyter.widget-view+json": {
                            "model_id": "b366a10cffa0436784fa58912ef105be",
                            "version_major": 2,
                            "version_minor": 0
                        },
                        "text/plain": [
                            "Loading B:   0%|          | 0/1030 [00:00<?, ?it/s]"
                        ]
                    },
                    "metadata": {},
                    "output_type": "display_data"
                },
                {
                    "data": {
                        "application/vnd.jupyter.widget-view+json": {
                            "model_id": "6146b911058d4574a6256ab7517b354f",
                            "version_major": 2,
                            "version_minor": 0
                        },
                        "text/plain": [
                            "Loading C:   0%|          | 0/1020 [00:00<?, ?it/s]"
                        ]
                    },
                    "metadata": {},
                    "output_type": "display_data"
                },
                {
                    "data": {
                        "application/vnd.jupyter.widget-view+json": {
                            "model_id": "60ec202e1ef245d48908baf6589ecada",
                            "version_major": 2,
                            "version_minor": 0
                        },
                        "text/plain": [
                            "Loading D:   0%|          | 0/1010 [00:00<?, ?it/s]"
                        ]
                    },
                    "metadata": {},
                    "output_type": "display_data"
                },
                {
                    "data": {
                        "application/vnd.jupyter.widget-view+json": {
                            "model_id": "769f2de51b42460291d727a9b0ee0a42",
                            "version_major": 2,
                            "version_minor": 0
                        },
                        "text/plain": [
                            "Loading E:   0%|          | 0/1010 [00:00<?, ?it/s]"
                        ]
                    },
                    "metadata": {},
                    "output_type": "display_data"
                },
                {
                    "data": {
                        "application/vnd.jupyter.widget-view+json": {
                            "model_id": "1d99db20be37427cb0c04761cc773234",
                            "version_major": 2,
                            "version_minor": 0
                        },
                        "text/plain": [
                            "Loading F:   0%|          | 0/1020 [00:00<?, ?it/s]"
                        ]
                    },
                    "metadata": {},
                    "output_type": "display_data"
                },
                {
                    "data": {
                        "application/vnd.jupyter.widget-view+json": {
                            "model_id": "e1987e1802c448f2a0804c556c1c0f7a",
                            "version_major": 2,
                            "version_minor": 0
                        },
                        "text/plain": [
                            "Loading G:   0%|          | 0/1020 [00:00<?, ?it/s]"
                        ]
                    },
                    "metadata": {},
                    "output_type": "display_data"
                },
                {
                    "data": {
                        "application/vnd.jupyter.widget-view+json": {
                            "model_id": "a0c2f6234230460896a09d4d5b51f532",
                            "version_major": 2,
                            "version_minor": 0
                        },
                        "text/plain": [
                            "Loading H:   0%|          | 0/1020 [00:00<?, ?it/s]"
                        ]
                    },
                    "metadata": {},
                    "output_type": "display_data"
                },
                {
                    "data": {
                        "application/vnd.jupyter.widget-view+json": {
                            "model_id": "80f3dbf40c854a07b1957e82b40d6d1f",
                            "version_major": 2,
                            "version_minor": 0
                        },
                        "text/plain": [
                            "Loading I:   0%|          | 0/1010 [00:00<?, ?it/s]"
                        ]
                    },
                    "metadata": {},
                    "output_type": "display_data"
                },
                {
                    "data": {
                        "application/vnd.jupyter.widget-view+json": {
                            "model_id": "75802ca9e964401aadeca13564d62586",
                            "version_major": 2,
                            "version_minor": 0
                        },
                        "text/plain": [
                            "Loading J:   0%|          | 0/1030 [00:00<?, ?it/s]"
                        ]
                    },
                    "metadata": {},
                    "output_type": "display_data"
                },
                {
                    "data": {
                        "application/vnd.jupyter.widget-view+json": {
                            "model_id": "3e5454d7534a4e47bf58a231202666d7",
                            "version_major": 2,
                            "version_minor": 0
                        },
                        "text/plain": [
                            "Loading K:   0%|          | 0/1010 [00:00<?, ?it/s]"
                        ]
                    },
                    "metadata": {},
                    "output_type": "display_data"
                },
                {
                    "data": {
                        "application/vnd.jupyter.widget-view+json": {
                            "model_id": "aca82534dbe947fa812820d22f435c72",
                            "version_major": 2,
                            "version_minor": 0
                        },
                        "text/plain": [
                            "Loading L:   0%|          | 0/1010 [00:00<?, ?it/s]"
                        ]
                    },
                    "metadata": {},
                    "output_type": "display_data"
                },
                {
                    "data": {
                        "application/vnd.jupyter.widget-view+json": {
                            "model_id": "a350d9792f75463a98e1d30f6acabf7b",
                            "version_major": 2,
                            "version_minor": 0
                        },
                        "text/plain": [
                            "Loading M:   0%|          | 0/1020 [00:00<?, ?it/s]"
                        ]
                    },
                    "metadata": {},
                    "output_type": "display_data"
                },
                {
                    "data": {
                        "application/vnd.jupyter.widget-view+json": {
                            "model_id": "9a73cad1ccf5443b975bad3d5f93c4f2",
                            "version_major": 2,
                            "version_minor": 0
                        },
                        "text/plain": [
                            "Loading N:   0%|          | 0/1020 [00:00<?, ?it/s]"
                        ]
                    },
                    "metadata": {},
                    "output_type": "display_data"
                },
                {
                    "data": {
                        "application/vnd.jupyter.widget-view+json": {
                            "model_id": "fc5fc2c1820d48eba465c873ec6452ea",
                            "version_major": 2,
                            "version_minor": 0
                        },
                        "text/plain": [
                            "Loading P:   0%|          | 0/1010 [00:00<?, ?it/s]"
                        ]
                    },
                    "metadata": {},
                    "output_type": "display_data"
                },
                {
                    "data": {
                        "application/vnd.jupyter.widget-view+json": {
                            "model_id": "37692eb5243a401ab3f7954190be3da4",
                            "version_major": 2,
                            "version_minor": 0
                        },
                        "text/plain": [
                            "Loading Q:   0%|          | 0/1010 [00:00<?, ?it/s]"
                        ]
                    },
                    "metadata": {},
                    "output_type": "display_data"
                },
                {
                    "data": {
                        "application/vnd.jupyter.widget-view+json": {
                            "model_id": "1d6677ffd6084a78a5c7929d22b58ba0",
                            "version_major": 2,
                            "version_minor": 0
                        },
                        "text/plain": [
                            "Loading R:   0%|          | 0/1020 [00:00<?, ?it/s]"
                        ]
                    },
                    "metadata": {},
                    "output_type": "display_data"
                },
                {
                    "data": {
                        "application/vnd.jupyter.widget-view+json": {
                            "model_id": "0e03edd6a742461387cc6ab7d381bb61",
                            "version_major": 2,
                            "version_minor": 0
                        },
                        "text/plain": [
                            "Loading S:   0%|          | 0/1020 [00:00<?, ?it/s]"
                        ]
                    },
                    "metadata": {},
                    "output_type": "display_data"
                },
                {
                    "data": {
                        "application/vnd.jupyter.widget-view+json": {
                            "model_id": "11a769167fee40fcbb99327a770b7d42",
                            "version_major": 2,
                            "version_minor": 0
                        },
                        "text/plain": [
                            "Loading T:   0%|          | 0/1020 [00:00<?, ?it/s]"
                        ]
                    },
                    "metadata": {},
                    "output_type": "display_data"
                },
                {
                    "data": {
                        "application/vnd.jupyter.widget-view+json": {
                            "model_id": "0479890632f0489e95f7fca7463d97d2",
                            "version_major": 2,
                            "version_minor": 0
                        },
                        "text/plain": [
                            "Loading U:   0%|          | 0/1010 [00:00<?, ?it/s]"
                        ]
                    },
                    "metadata": {},
                    "output_type": "display_data"
                },
                {
                    "data": {
                        "application/vnd.jupyter.widget-view+json": {
                            "model_id": "8c4ccaa0919e48d6b8079ee257970b48",
                            "version_major": 2,
                            "version_minor": 0
                        },
                        "text/plain": [
                            "Loading V:   0%|          | 0/1030 [00:00<?, ?it/s]"
                        ]
                    },
                    "metadata": {},
                    "output_type": "display_data"
                },
                {
                    "data": {
                        "application/vnd.jupyter.widget-view+json": {
                            "model_id": "f95dc46735fb420fa9f2c52f4751102c",
                            "version_major": 2,
                            "version_minor": 0
                        },
                        "text/plain": [
                            "Loading W:   0%|          | 0/1010 [00:00<?, ?it/s]"
                        ]
                    },
                    "metadata": {},
                    "output_type": "display_data"
                },
                {
                    "data": {
                        "application/vnd.jupyter.widget-view+json": {
                            "model_id": "181ff565ae3a48d28145600a822693b8",
                            "version_major": 2,
                            "version_minor": 0
                        },
                        "text/plain": [
                            "Loading X:   0%|          | 0/1010 [00:00<?, ?it/s]"
                        ]
                    },
                    "metadata": {},
                    "output_type": "display_data"
                },
                {
                    "data": {
                        "application/vnd.jupyter.widget-view+json": {
                            "model_id": "814daaa939a4401789c7e117f829b242",
                            "version_major": 2,
                            "version_minor": 0
                        },
                        "text/plain": [
                            "Loading Y:   0%|          | 0/1010 [00:00<?, ?it/s]"
                        ]
                    },
                    "metadata": {},
                    "output_type": "display_data"
                },
                {
                    "data": {
                        "application/vnd.jupyter.widget-view+json": {
                            "model_id": "8c5d520decf645b893bd376bcd795ea8",
                            "version_major": 2,
                            "version_minor": 0
                        },
                        "text/plain": [
                            "Loading Z:   0%|          | 0/810 [00:00<?, ?it/s]"
                        ]
                    },
                    "metadata": {},
                    "output_type": "display_data"
                },
                {
                    "data": {
                        "application/vnd.jupyter.widget-view+json": {
                            "model_id": "0c391ff5804f4cfd9d4524ebbfdca42a",
                            "version_major": 2,
                            "version_minor": 0
                        },
                        "text/plain": [
                            "Loading manual:   0%|          | 0/35 [00:00<?, ?it/s]"
                        ]
                    },
                    "metadata": {},
                    "output_type": "display_data"
                },
                {
                    "data": {
                        "application/vnd.jupyter.widget-view+json": {
                            "model_id": "b88986fd2a844db58412d29199d4a2de",
                            "version_major": 2,
                            "version_minor": 0
                        },
                        "text/plain": [
                            "Loading 0:   0%|          | 0/30 [00:00<?, ?it/s]"
                        ]
                    },
                    "metadata": {},
                    "output_type": "display_data"
                },
                {
                    "data": {
                        "application/vnd.jupyter.widget-view+json": {
                            "model_id": "38ae9b70c6e446239094b1c6145d1742",
                            "version_major": 2,
                            "version_minor": 0
                        },
                        "text/plain": [
                            "Loading 1:   0%|          | 0/30 [00:00<?, ?it/s]"
                        ]
                    },
                    "metadata": {},
                    "output_type": "display_data"
                },
                {
                    "data": {
                        "application/vnd.jupyter.widget-view+json": {
                            "model_id": "75e33a9c5674458581244fc2fbd0302f",
                            "version_major": 2,
                            "version_minor": 0
                        },
                        "text/plain": [
                            "Loading 2:   0%|          | 0/30 [00:00<?, ?it/s]"
                        ]
                    },
                    "metadata": {},
                    "output_type": "display_data"
                },
                {
                    "data": {
                        "application/vnd.jupyter.widget-view+json": {
                            "model_id": "a75b3e9cf5154838b9b1d5819c79ef4e",
                            "version_major": 2,
                            "version_minor": 0
                        },
                        "text/plain": [
                            "Loading 3:   0%|          | 0/30 [00:00<?, ?it/s]"
                        ]
                    },
                    "metadata": {},
                    "output_type": "display_data"
                },
                {
                    "data": {
                        "application/vnd.jupyter.widget-view+json": {
                            "model_id": "4a303e82b80d40b7ac11ca1b793257b7",
                            "version_major": 2,
                            "version_minor": 0
                        },
                        "text/plain": [
                            "Loading 4:   0%|          | 0/30 [00:00<?, ?it/s]"
                        ]
                    },
                    "metadata": {},
                    "output_type": "display_data"
                },
                {
                    "data": {
                        "application/vnd.jupyter.widget-view+json": {
                            "model_id": "c18ae67c04514b0c8b8f824dd9a09e5a",
                            "version_major": 2,
                            "version_minor": 0
                        },
                        "text/plain": [
                            "Loading 5:   0%|          | 0/30 [00:00<?, ?it/s]"
                        ]
                    },
                    "metadata": {},
                    "output_type": "display_data"
                },
                {
                    "data": {
                        "application/vnd.jupyter.widget-view+json": {
                            "model_id": "ebc5c7530774471c86f910bfe6606e56",
                            "version_major": 2,
                            "version_minor": 0
                        },
                        "text/plain": [
                            "Loading 6:   0%|          | 0/30 [00:00<?, ?it/s]"
                        ]
                    },
                    "metadata": {},
                    "output_type": "display_data"
                },
                {
                    "data": {
                        "application/vnd.jupyter.widget-view+json": {
                            "model_id": "604df599872348bab608670d3a8fdb44",
                            "version_major": 2,
                            "version_minor": 0
                        },
                        "text/plain": [
                            "Loading 7:   0%|          | 0/30 [00:00<?, ?it/s]"
                        ]
                    },
                    "metadata": {},
                    "output_type": "display_data"
                },
                {
                    "data": {
                        "application/vnd.jupyter.widget-view+json": {
                            "model_id": "262663c9a7594d899859c7d1e3974011",
                            "version_major": 2,
                            "version_minor": 0
                        },
                        "text/plain": [
                            "Loading 8:   0%|          | 0/30 [00:00<?, ?it/s]"
                        ]
                    },
                    "metadata": {},
                    "output_type": "display_data"
                },
                {
                    "data": {
                        "application/vnd.jupyter.widget-view+json": {
                            "model_id": "7559b09fa1394d09b6fbacc1ec063736",
                            "version_major": 2,
                            "version_minor": 0
                        },
                        "text/plain": [
                            "Loading 9:   0%|          | 0/30 [00:00<?, ?it/s]"
                        ]
                    },
                    "metadata": {},
                    "output_type": "display_data"
                },
                {
                    "data": {
                        "application/vnd.jupyter.widget-view+json": {
                            "model_id": "dacac0a064aa418285d34489db0f4472",
                            "version_major": 2,
                            "version_minor": 0
                        },
                        "text/plain": [
                            "Loading A:   0%|          | 0/30 [00:00<?, ?it/s]"
                        ]
                    },
                    "metadata": {},
                    "output_type": "display_data"
                },
                {
                    "data": {
                        "application/vnd.jupyter.widget-view+json": {
                            "model_id": "cefef8be7b8f495bba8a24e1e7d764ee",
                            "version_major": 2,
                            "version_minor": 0
                        },
                        "text/plain": [
                            "Loading B:   0%|          | 0/30 [00:00<?, ?it/s]"
                        ]
                    },
                    "metadata": {},
                    "output_type": "display_data"
                },
                {
                    "data": {
                        "application/vnd.jupyter.widget-view+json": {
                            "model_id": "f73c9448171c41528054978437cf411c",
                            "version_major": 2,
                            "version_minor": 0
                        },
                        "text/plain": [
                            "Loading C:   0%|          | 0/30 [00:00<?, ?it/s]"
                        ]
                    },
                    "metadata": {},
                    "output_type": "display_data"
                },
                {
                    "data": {
                        "application/vnd.jupyter.widget-view+json": {
                            "model_id": "8d465f37a71445fdbea5006485213a82",
                            "version_major": 2,
                            "version_minor": 0
                        },
                        "text/plain": [
                            "Loading D:   0%|          | 0/30 [00:00<?, ?it/s]"
                        ]
                    },
                    "metadata": {},
                    "output_type": "display_data"
                },
                {
                    "data": {
                        "application/vnd.jupyter.widget-view+json": {
                            "model_id": "426460e4e71246f59875b32896af9704",
                            "version_major": 2,
                            "version_minor": 0
                        },
                        "text/plain": [
                            "Loading E:   0%|          | 0/30 [00:00<?, ?it/s]"
                        ]
                    },
                    "metadata": {},
                    "output_type": "display_data"
                },
                {
                    "data": {
                        "application/vnd.jupyter.widget-view+json": {
                            "model_id": "b42338ef23874b3088a9d0648a0c5523",
                            "version_major": 2,
                            "version_minor": 0
                        },
                        "text/plain": [
                            "Loading F:   0%|          | 0/30 [00:00<?, ?it/s]"
                        ]
                    },
                    "metadata": {},
                    "output_type": "display_data"
                },
                {
                    "data": {
                        "application/vnd.jupyter.widget-view+json": {
                            "model_id": "db9386b8e82b45e5be7cc609fa795111",
                            "version_major": 2,
                            "version_minor": 0
                        },
                        "text/plain": [
                            "Loading G:   0%|          | 0/30 [00:00<?, ?it/s]"
                        ]
                    },
                    "metadata": {},
                    "output_type": "display_data"
                },
                {
                    "data": {
                        "application/vnd.jupyter.widget-view+json": {
                            "model_id": "7540c9f106a54040aeac1eb90b4eec6d",
                            "version_major": 2,
                            "version_minor": 0
                        },
                        "text/plain": [
                            "Loading H:   0%|          | 0/30 [00:00<?, ?it/s]"
                        ]
                    },
                    "metadata": {},
                    "output_type": "display_data"
                },
                {
                    "data": {
                        "application/vnd.jupyter.widget-view+json": {
                            "model_id": "0ccd5a2753a94ec49d4d93c2fb0899e0",
                            "version_major": 2,
                            "version_minor": 0
                        },
                        "text/plain": [
                            "Loading I:   0%|          | 0/30 [00:00<?, ?it/s]"
                        ]
                    },
                    "metadata": {},
                    "output_type": "display_data"
                },
                {
                    "data": {
                        "application/vnd.jupyter.widget-view+json": {
                            "model_id": "db6e440670a640d0ba5cc29ae26ec12c",
                            "version_major": 2,
                            "version_minor": 0
                        },
                        "text/plain": [
                            "Loading J:   0%|          | 0/30 [00:00<?, ?it/s]"
                        ]
                    },
                    "metadata": {},
                    "output_type": "display_data"
                },
                {
                    "data": {
                        "application/vnd.jupyter.widget-view+json": {
                            "model_id": "c53f4f2c645444f682ef1bebaad88e60",
                            "version_major": 2,
                            "version_minor": 0
                        },
                        "text/plain": [
                            "Loading K:   0%|          | 0/30 [00:00<?, ?it/s]"
                        ]
                    },
                    "metadata": {},
                    "output_type": "display_data"
                },
                {
                    "data": {
                        "application/vnd.jupyter.widget-view+json": {
                            "model_id": "01924a11deef48768324fdd85fab054d",
                            "version_major": 2,
                            "version_minor": 0
                        },
                        "text/plain": [
                            "Loading L:   0%|          | 0/30 [00:00<?, ?it/s]"
                        ]
                    },
                    "metadata": {},
                    "output_type": "display_data"
                },
                {
                    "data": {
                        "application/vnd.jupyter.widget-view+json": {
                            "model_id": "5fcb9381e2234e41ad66d6dddeba787c",
                            "version_major": 2,
                            "version_minor": 0
                        },
                        "text/plain": [
                            "Loading M:   0%|          | 0/30 [00:00<?, ?it/s]"
                        ]
                    },
                    "metadata": {},
                    "output_type": "display_data"
                },
                {
                    "data": {
                        "application/vnd.jupyter.widget-view+json": {
                            "model_id": "25f61f7d491d475d94c8081c891b9683",
                            "version_major": 2,
                            "version_minor": 0
                        },
                        "text/plain": [
                            "Loading N:   0%|          | 0/30 [00:00<?, ?it/s]"
                        ]
                    },
                    "metadata": {},
                    "output_type": "display_data"
                },
                {
                    "data": {
                        "application/vnd.jupyter.widget-view+json": {
                            "model_id": "0d0c4d9a43da46d796bf2fba0315dfcc",
                            "version_major": 2,
                            "version_minor": 0
                        },
                        "text/plain": [
                            "Loading P:   0%|          | 0/30 [00:00<?, ?it/s]"
                        ]
                    },
                    "metadata": {},
                    "output_type": "display_data"
                },
                {
                    "data": {
                        "application/vnd.jupyter.widget-view+json": {
                            "model_id": "7cd38483946342d499968780d2b53443",
                            "version_major": 2,
                            "version_minor": 0
                        },
                        "text/plain": [
                            "Loading Q:   0%|          | 0/30 [00:00<?, ?it/s]"
                        ]
                    },
                    "metadata": {},
                    "output_type": "display_data"
                },
                {
                    "data": {
                        "application/vnd.jupyter.widget-view+json": {
                            "model_id": "fca0998bd0224f079e68e52572c38445",
                            "version_major": 2,
                            "version_minor": 0
                        },
                        "text/plain": [
                            "Loading R:   0%|          | 0/30 [00:00<?, ?it/s]"
                        ]
                    },
                    "metadata": {},
                    "output_type": "display_data"
                },
                {
                    "data": {
                        "application/vnd.jupyter.widget-view+json": {
                            "model_id": "6b6047b27cbe4845ae3cf83435f94ac2",
                            "version_major": 2,
                            "version_minor": 0
                        },
                        "text/plain": [
                            "Loading S:   0%|          | 0/30 [00:00<?, ?it/s]"
                        ]
                    },
                    "metadata": {},
                    "output_type": "display_data"
                },
                {
                    "data": {
                        "application/vnd.jupyter.widget-view+json": {
                            "model_id": "2c62a54ab8a44d14bea9579883ec8334",
                            "version_major": 2,
                            "version_minor": 0
                        },
                        "text/plain": [
                            "Loading T:   0%|          | 0/30 [00:00<?, ?it/s]"
                        ]
                    },
                    "metadata": {},
                    "output_type": "display_data"
                },
                {
                    "data": {
                        "application/vnd.jupyter.widget-view+json": {
                            "model_id": "b5a899eda32b4ec0afed3ab545a5f66a",
                            "version_major": 2,
                            "version_minor": 0
                        },
                        "text/plain": [
                            "Loading U:   0%|          | 0/30 [00:00<?, ?it/s]"
                        ]
                    },
                    "metadata": {},
                    "output_type": "display_data"
                },
                {
                    "data": {
                        "application/vnd.jupyter.widget-view+json": {
                            "model_id": "46edaf9228e241dbb2f1202aa1ab688f",
                            "version_major": 2,
                            "version_minor": 0
                        },
                        "text/plain": [
                            "Loading V:   0%|          | 0/30 [00:00<?, ?it/s]"
                        ]
                    },
                    "metadata": {},
                    "output_type": "display_data"
                },
                {
                    "data": {
                        "application/vnd.jupyter.widget-view+json": {
                            "model_id": "d6ed9b8f88fa4e76b3ad5279045473d9",
                            "version_major": 2,
                            "version_minor": 0
                        },
                        "text/plain": [
                            "Loading W:   0%|          | 0/30 [00:00<?, ?it/s]"
                        ]
                    },
                    "metadata": {},
                    "output_type": "display_data"
                },
                {
                    "data": {
                        "application/vnd.jupyter.widget-view+json": {
                            "model_id": "6d4fc29ca905423485fbe3cb98191c25",
                            "version_major": 2,
                            "version_minor": 0
                        },
                        "text/plain": [
                            "Loading X:   0%|          | 0/30 [00:00<?, ?it/s]"
                        ]
                    },
                    "metadata": {},
                    "output_type": "display_data"
                },
                {
                    "data": {
                        "application/vnd.jupyter.widget-view+json": {
                            "model_id": "e32349d2d7544be1a7c759ab77cd5dcf",
                            "version_major": 2,
                            "version_minor": 0
                        },
                        "text/plain": [
                            "Loading Y:   0%|          | 0/30 [00:00<?, ?it/s]"
                        ]
                    },
                    "metadata": {},
                    "output_type": "display_data"
                },
                {
                    "data": {
                        "application/vnd.jupyter.widget-view+json": {
                            "model_id": "ea1123ec568442a5a8ca9124852d9f32",
                            "version_major": 2,
                            "version_minor": 0
                        },
                        "text/plain": [
                            "Loading Z:   0%|          | 0/30 [00:00<?, ?it/s]"
                        ]
                    },
                    "metadata": {},
                    "output_type": "display_data"
                },
                {
                    "name": "stdout",
                    "output_type": "stream",
                    "text": [
                        "Data samples: 107550\n",
                        "X_train shape: 96795\n",
                        "Y_train shape: 96795\n",
                        "X_test shape: 10755\n",
                        "Y_test shape: 10755\n",
                        "Epoch 1/25\n"
                    ]
                },
                {
                    "name": "stderr",
                    "output_type": "stream",
                    "text": [
                        "2024-03-30 09:06:41.653686: E tensorflow/core/grappler/optimizers/meta_optimizer.cc:961] layout failed: INVALID_ARGUMENT: Size of values 0 does not match size of permutation 4 @ fanin shape insequential/dropout/dropout/SelectV2-2-TransposeNHWCToNCHW-LayoutOptimizer\n",
                        "2024-03-30 09:06:42.080209: I external/local_xla/xla/stream_executor/cuda/cuda_dnn.cc:454] Loaded cuDNN version 8906\n",
                        "2024-03-30 09:06:42.136818: I external/local_tsl/tsl/platform/default/subprocess.cc:304] Start cannot spawn child process: No such file or directory\n",
                        "2024-03-30 09:06:42.403671: W external/local_tsl/tsl/framework/bfc_allocator.cc:296] Allocator (GPU_0_bfc) ran out of memory trying to allocate 1.03GiB with freed_by_count=0. The caller indicates that this is not a failure, but this may mean that there could be performance gains if more memory were available.\n",
                        "2024-03-30 09:06:42.548014: W external/local_tsl/tsl/framework/bfc_allocator.cc:296] Allocator (GPU_0_bfc) ran out of memory trying to allocate 1.03GiB with freed_by_count=0. The caller indicates that this is not a failure, but this may mean that there could be performance gains if more memory were available.\n",
                        "2024-03-30 09:06:42.597492: W external/local_tsl/tsl/framework/bfc_allocator.cc:296] Allocator (GPU_0_bfc) ran out of memory trying to allocate 908.12MiB with freed_by_count=0. The caller indicates that this is not a failure, but this may mean that there could be performance gains if more memory were available.\n",
                        "2024-03-30 09:06:42.615311: W external/local_tsl/tsl/framework/bfc_allocator.cc:296] Allocator (GPU_0_bfc) ran out of memory trying to allocate 412.78MiB with freed_by_count=0. The caller indicates that this is not a failure, but this may mean that there could be performance gains if more memory were available.\n",
                        "2024-03-30 09:06:42.615341: W external/local_tsl/tsl/framework/bfc_allocator.cc:296] Allocator (GPU_0_bfc) ran out of memory trying to allocate 412.78MiB with freed_by_count=0. The caller indicates that this is not a failure, but this may mean that there could be performance gains if more memory were available.\n",
                        "2024-03-30 09:06:42.632020: W external/local_tsl/tsl/framework/bfc_allocator.cc:296] Allocator (GPU_0_bfc) ran out of memory trying to allocate 412.78MiB with freed_by_count=0. The caller indicates that this is not a failure, but this may mean that there could be performance gains if more memory were available.\n",
                        "2024-03-30 09:06:42.703275: W external/local_tsl/tsl/framework/bfc_allocator.cc:296] Allocator (GPU_0_bfc) ran out of memory trying to allocate 412.78MiB with freed_by_count=0. The caller indicates that this is not a failure, but this may mean that there could be performance gains if more memory were available.\n",
                        "2024-03-30 09:06:42.747743: W external/local_tsl/tsl/framework/bfc_allocator.cc:296] Allocator (GPU_0_bfc) ran out of memory trying to allocate 412.78MiB with freed_by_count=0. The caller indicates that this is not a failure, but this may mean that there could be performance gains if more memory were available.\n",
                        "2024-03-30 09:06:42.747766: W external/local_tsl/tsl/framework/bfc_allocator.cc:296] Allocator (GPU_0_bfc) ran out of memory trying to allocate 412.78MiB with freed_by_count=0. The caller indicates that this is not a failure, but this may mean that there could be performance gains if more memory were available.\n",
                        "2024-03-30 09:06:42.771172: W external/local_tsl/tsl/framework/bfc_allocator.cc:296] Allocator (GPU_0_bfc) ran out of memory trying to allocate 412.78MiB with freed_by_count=0. The caller indicates that this is not a failure, but this may mean that there could be performance gains if more memory were available.\n",
                        "2024-03-30 09:06:43.117720: I external/local_tsl/tsl/platform/default/subprocess.cc:304] Start cannot spawn child process: No such file or directory\n",
                        "2024-03-30 09:06:43.399086: I external/local_xla/xla/service/service.cc:168] XLA service 0x7e593cd604b0 initialized for platform CUDA (this does not guarantee that XLA will be used). Devices:\n",
                        "2024-03-30 09:06:43.399100: I external/local_xla/xla/service/service.cc:176]   StreamExecutor device (0): NVIDIA GeForce RTX 3050 Ti Laptop GPU, Compute Capability 8.6\n",
                        "2024-03-30 09:06:43.402517: I tensorflow/compiler/mlir/tensorflow/utils/dump_mlir_util.cc:269] disabling MLIR crash reproducer, set env var `MLIR_CRASH_REPRODUCER_DIRECTORY` to enable.\n",
                        "WARNING: All log messages before absl::InitializeLog() is called are written to STDERR\n",
                        "I0000 00:00:1711782403.451942  197902 device_compiler.h:186] Compiled cluster using XLA!  This line is logged at most once for the lifetime of the process.\n"
                    ]
                },
                {
                    "name": "stdout",
                    "output_type": "stream",
                    "text": [
                        "605/605 [==============================] - 101s 140ms/step - loss: 0.3981 - accuracy: 0.8875 - val_loss: 0.0353 - val_accuracy: 0.9895\n",
                        "Epoch 2/25\n",
                        "605/605 [==============================] - 69s 115ms/step - loss: 0.0518 - accuracy: 0.9844 - val_loss: 0.0168 - val_accuracy: 0.9952\n",
                        "Epoch 3/25\n",
                        "605/605 [==============================] - 69s 115ms/step - loss: 0.0319 - accuracy: 0.9902 - val_loss: 0.0174 - val_accuracy: 0.9949\n",
                        "Epoch 4/25\n",
                        "605/605 [==============================] - 70s 115ms/step - loss: 0.0226 - accuracy: 0.9931 - val_loss: 0.0131 - val_accuracy: 0.9965\n",
                        "Epoch 5/25\n",
                        "605/605 [==============================] - 69s 115ms/step - loss: 0.0177 - accuracy: 0.9945 - val_loss: 0.0094 - val_accuracy: 0.9967\n",
                        "Epoch 6/25\n",
                        "605/605 [==============================] - 68s 113ms/step - loss: 0.0134 - accuracy: 0.9957 - val_loss: 0.0108 - val_accuracy: 0.9978\n",
                        "Epoch 7/25\n",
                        "605/605 [==============================] - 69s 114ms/step - loss: 0.0123 - accuracy: 0.9962 - val_loss: 0.0145 - val_accuracy: 0.9966\n",
                        "Epoch 8/25\n",
                        "605/605 [==============================] - 69s 115ms/step - loss: 0.0118 - accuracy: 0.9964 - val_loss: 0.0110 - val_accuracy: 0.9977\n",
                        "Epoch 9/25\n",
                        "605/605 [==============================] - 69s 115ms/step - loss: 0.0085 - accuracy: 0.9975 - val_loss: 0.0066 - val_accuracy: 0.9985\n",
                        "Epoch 10/25\n",
                        "605/605 [==============================] - 68s 112ms/step - loss: 0.0124 - accuracy: 0.9965 - val_loss: 0.0099 - val_accuracy: 0.9975\n",
                        "Epoch 11/25\n",
                        "605/605 [==============================] - 68s 113ms/step - loss: 0.0065 - accuracy: 0.9978 - val_loss: 0.0075 - val_accuracy: 0.9983\n",
                        "Epoch 12/25\n",
                        "605/605 [==============================] - 69s 114ms/step - loss: 0.0058 - accuracy: 0.9982 - val_loss: 0.0094 - val_accuracy: 0.9980\n",
                        "Epoch 13/25\n",
                        "605/605 [==============================] - 69s 114ms/step - loss: 0.0072 - accuracy: 0.9979 - val_loss: 0.0060 - val_accuracy: 0.9986\n",
                        "Epoch 14/25\n",
                        "605/605 [==============================] - 69s 115ms/step - loss: 0.0119 - accuracy: 0.9968 - val_loss: 0.0099 - val_accuracy: 0.9978\n",
                        "Epoch 15/25\n",
                        "605/605 [==============================] - 69s 114ms/step - loss: 0.0097 - accuracy: 0.9972 - val_loss: 0.0125 - val_accuracy: 0.9971\n",
                        "Epoch 16/25\n",
                        "605/605 [==============================] - 69s 114ms/step - loss: 0.0052 - accuracy: 0.9986 - val_loss: 0.0045 - val_accuracy: 0.9991\n",
                        "Epoch 17/25\n",
                        "605/605 [==============================] - 69s 114ms/step - loss: 0.0048 - accuracy: 0.9985 - val_loss: 0.0053 - val_accuracy: 0.9987\n",
                        "Epoch 18/25\n",
                        "605/605 [==============================] - 69s 114ms/step - loss: 0.0040 - accuracy: 0.9990 - val_loss: 0.0060 - val_accuracy: 0.9987\n",
                        "Epoch 19/25\n",
                        "605/605 [==============================] - 69s 115ms/step - loss: 0.0060 - accuracy: 0.9985 - val_loss: 0.0072 - val_accuracy: 0.9986\n",
                        "Epoch 20/25\n",
                        "605/605 [==============================] - 69s 114ms/step - loss: 0.0050 - accuracy: 0.9985 - val_loss: 0.0092 - val_accuracy: 0.9985\n",
                        "Epoch 21/25\n",
                        "605/605 [==============================] - ETA: 0s - loss: 0.0051 - accuracy: 0.9985Restoring model weights from the end of the best epoch: 16.\n",
                        "605/605 [==============================] - 69s 114ms/step - loss: 0.0051 - accuracy: 0.9985 - val_loss: 0.0077 - val_accuracy: 0.9984\n",
                        "Epoch 21: early stopping\n"
                    ]
                },
                {
                    "data": {
                        "image/png": "[encoded data removed]",
                        "text/plain": [
                            "<Figure size 1400x500 with 2 Axes>"
                        ]
                    },
                    "metadata": {},
                    "output_type": "display_data"
                },
                {
                    "name": "stdout",
                    "output_type": "stream",
                    "text": [
                        "Saved model v3 to disk\n"
                    ]
                },
                {
                    "ename": "",
                    "evalue": "",
                    "output_type": "error",
                    "traceback": [
                        "\u001b[1;31mThe Kernel crashed while executing code in the current cell or a previous cell. \n",
                        "\u001b[1;31mPlease review the code in the cell(s) to identify a possible cause of the failure. \n",
                        "\u001b[1;31mClick <a href='https://aka.ms/vscodeJupyterKernelCrash'>here</a> for more info. \n",
                        "\u001b[1;31mView Jupyter <a href='command:jupyter.viewOutput'>log</a> for further details."
                    ]
                }
            ],
            "source": [
                "model = create_model()\n",
                "history = train_model(model, learning_rate=0.001, batch_size=128, epochs=25, patience=5)\n",
                "plot_model(history, version=3, save=True)\n",
                "save_model(model, version=3)"
            ]
        }
    ],
    "metadata": {
        "kernelspec": {
            "display_name": "Python 3",
            "language": "python",
            "name": "python3"
        },
        "language_info": {
            "codemirror_mode": {
                "name": "ipython",
                "version": 3
            },
            "file_extension": ".py",
            "mimetype": "text/x-python",
            "name": "python",
            "nbconvert_exporter": "python",
            "pygments_lexer": "ipython3",
            "version": "3.11.8"
        }
    },
    "nbformat": 4,
    "nbformat_minor": 2
}
